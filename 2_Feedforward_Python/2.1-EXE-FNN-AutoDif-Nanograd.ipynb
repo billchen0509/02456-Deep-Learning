{
 "cells": [
  {
   "cell_type": "markdown",
   "metadata": {
    "id": "HAva8TnYFtFu"
   },
   "source": [
    "# Contents and why we need this lab\n",
    "\n",
    "This lab is about implementing neural networks yourself before we start using other frameworks that hide some of the computation from you. It builds on the first lab, where you derived the equations for neural network forward and backward propagation and gradient descent parameter updates. \n",
    "\n",
    "All the frameworks for deep learning you will meet from now on use automatic differentiation (autodiff), so you do not have to code the backward step yourself. In this version of this lab, you will develop your own autodif implementation. We also have an optional [version](https://github.com/DeepLearningDTU/02456-deep-learning-with-PyTorch/blob/master/2_Feedforward_Python/2.2-FNN-NumPy.ipynb) of this lab where you have to code the backward pass explicitly in Numpy."
   ]
  },
  {
   "cell_type": "markdown",
   "metadata": {
    "id": "sCa7HzwpFtFy"
   },
   "source": [
    "# External sources of information\n",
    "\n",
    "1. Jupyter notebook. You can find more information about Jupyter notebooks [here](https://jupyter.org/). It will come as part of the [Anaconda](https://www.anaconda.com/) Python installation. \n",
    "2. [NumPy](https://numpy.org/). Part of Anaconda distribution.  If you already know how to program, most things about Python and NumPy can be found with Google searches.\n",
    "3. [Nanograd](https://github.com/rasmusbergpalm/nanograd) is a minimalistic version of autodiff developed by Rasmus Berg Palm that we use for our framework.\n"
   ]
  },
  {
   "cell_type": "markdown",
   "metadata": {
    "id": "1SjiIp-TFtF0"
   },
   "source": [
    "# This notebook will follow the next steps:\n",
    "\n",
    "1. Nanograd automatic differentiation framework\n",
    "2. Finite difference method\n",
    "3. Data generation\n",
    "4. Defining and initializing the network\n",
    "5. Forward pass\n",
    "6. Training loop \n",
    "7. Testing your model\n",
    "8. Further extensions"
   ]
  },
  {
   "cell_type": "markdown",
   "metadata": {
    "id": "OyXeAA-HuT7s"
   },
   "source": [
    "# Nanograd automatic differention framework"
   ]
  },
  {
   "cell_type": "markdown",
   "metadata": {
    "id": "k6UWKCLKubgA"
   },
   "source": [
    "The [Nanograd](https://github.com/rasmusbergpalm/nanograd) framework defines a class Var which both holds a value and gradient value that we can use to store the intermediate values when we apply the chain rule of differentiation."
   ]
  },
  {
   "cell_type": "code",
   "execution_count": 1,
   "metadata": {
    "id": "Jd4CoEBNzNWS"
   },
   "outputs": [],
   "source": [
    "# Copy and pasted from https://github.com/rasmusbergpalm/nanograd/blob/3a1bf9e9e724da813bfccf91a6f309abdade9f39/nanograd.py\n",
    "\n",
    "from math import exp, log\n",
    "\n",
    "class Var:\n",
    "    \"\"\"\n",
    "    A variable which holds a float and enables gradient computations.\n",
    "    \"\"\"\n",
    "\n",
    "    def __init__(self, val: float, grad_fn=lambda: []):\n",
    "        assert type(val) == float\n",
    "        self.v = val\n",
    "        self.grad_fn = grad_fn\n",
    "        self.grad = 0.0\n",
    "\n",
    "    def backprop(self, bp):\n",
    "        self.grad += bp\n",
    "        for input, grad in self.grad_fn():\n",
    "            input.backprop(grad * bp)\n",
    "\n",
    "    def backward(self):\n",
    "        self.backprop(1.0)\n",
    "\n",
    "    def __add__(self: 'Var', other: 'Var') -> 'Var':\n",
    "        return Var(self.v + other.v, lambda: [(self, 1.0), (other, 1.0)])\n",
    "\n",
    "    def __mul__(self: 'Var', other: 'Var') -> 'Var':\n",
    "        return Var(self.v * other.v, lambda: [(self, other.v), (other, self.v)])\n",
    "\n",
    "    def __pow__(self, power):\n",
    "        assert type(power) in {float, int}, \"power must be float or int\"\n",
    "        return Var(self.v ** power, lambda: [(self, power * self.v ** (power - 1))])\n",
    "\n",
    "    def __neg__(self: 'Var') -> 'Var':\n",
    "        return Var(-1.0) * self\n",
    "\n",
    "    def __sub__(self: 'Var', other: 'Var') -> 'Var':\n",
    "        return self + (-other)\n",
    "\n",
    "    def __truediv__(self: 'Var', other: 'Var') -> 'Var':\n",
    "        return self * other ** -1\n",
    "\n",
    "    def __repr__(self):\n",
    "        return \"Var(v=%.4f, grad=%.4f)\" % (self.v, self.grad)\n",
    "\n",
    "    def relu(self):\n",
    "        return Var(self.v if self.v > 0.0 else 0.0, lambda: [(self, 1.0 if self.v > 0.0 else 0.0)])"
   ]
  },
  {
   "cell_type": "markdown",
   "metadata": {},
   "source": [
    "test"
   ]
  },
  {
   "cell_type": "markdown",
   "metadata": {
    "id": "yDX67D6jzcte"
   },
   "source": [
    "A few examples illustrate how we can use this:"
   ]
  },
  {
   "cell_type": "code",
   "execution_count": 2,
   "metadata": {
    "colab": {
     "base_uri": "https://localhost:8080/"
    },
    "id": "xk6PeLc3zwPT",
    "outputId": "47e431b2-07ba-4cb1-ea21-997769641c67"
   },
   "outputs": [
    {
     "name": "stdout",
     "output_type": "stream",
     "text": [
      "Var(v=3.0000, grad=5.0000)\n",
      "Var(v=5.0000, grad=3.0000)\n",
      "Var(v=15.0000, grad=1.0000)\n"
     ]
    }
   ],
   "source": [
    "a = Var(3.0)\n",
    "b = Var(5.0)\n",
    "f = a * b\n",
    "\n",
    "f.backward()\n",
    "\n",
    "for v in [a, b, f]:\n",
    "    print(v)"
   ]
  },
  {
   "cell_type": "code",
   "execution_count": 8,
   "metadata": {
    "colab": {
     "base_uri": "https://localhost:8080/"
    },
    "id": "JmKhYgsY0g_o",
    "outputId": "06c1b1df-c33c-40d3-922a-624612a591c7"
   },
   "outputs": [
    {
     "name": "stdout",
     "output_type": "stream",
     "text": [
      "Var(v=3.0000, grad=14.0000)\n",
      "Var(v=5.0000, grad=3.0000)\n",
      "Var(v=15.0000, grad=1.0000)\n",
      "Var(v=9.0000, grad=3.0000)\n",
      "Var(v=27.0000, grad=1.0000)\n",
      "Var(v=42.0000, grad=1.0000)\n"
     ]
    }
   ],
   "source": [
    "a = Var(3.0)\n",
    "b = Var(5.0)\n",
    "c = a * b\n",
    "d = Var(9.0)\n",
    "e = a * d\n",
    "f = c + e\n",
    "\n",
    "f.backward()\n",
    "\n",
    "for v in [a, b, c, d, e, f]:\n",
    "    print(v)"
   ]
  },
  {
   "cell_type": "markdown",
   "metadata": {
    "id": "Fe3B6uEH140p"
   },
   "source": [
    "## Exercise a) What is being calculated?\n",
    "\n",
    "Explain briefly the output of the code? What is the expression we differentiate and with respect to what variables?"
   ]
  },
  {
   "cell_type": "markdown",
   "metadata": {},
   "source": [
    "### Answer\n",
    "the code compute the differentiating of final variable 'f' with respect to all the variables.\n",
    "\n",
    "$$\n",
    "f = a * b + a * d\n",
    "$$\n",
    "\n",
    "The gradients computes are:\n",
    "\\begin{align}\n",
    "\\frac{\\partial f}{\\partial a} = b + d = 5 + 9 = 14 \\\\\n",
    "\\frac{\\partial f}{\\partial b} = a = 3 \\\\\n",
    "\\frac{\\partial f}{\\partial c} = 1 \\\\\n",
    "\\frac{\\partial f}{\\partial d} = a = 3 \\\\\n",
    "\\frac{\\partial f}{\\partial e} = 1\n",
    "\\end{align}"
   ]
  },
  {
   "cell_type": "markdown",
   "metadata": {
    "id": "q8_Q0t2I3Ruj"
   },
   "source": [
    "## Exercise b) How does the backward function work?\n",
    "\n",
    "You need to understand how the backward function calculates the gradients. We can use the two examples above to help with that.\n",
    "\n",
    "Go through the following four steps and answer the questions on the way:\n",
    "\n",
    "1. We represent the two expressions as graphs as shown below. Fill in the missing expressions for the different derivatives.\n",
    "\n",
    "2. In the remainder consider the first expression. Make a schematic of the data structure which is generated when we define the expression for f. \n",
    "\n",
    "3. Then execute the backward function by hand to convince yourself that it indeed calculates the gradients with respect to the variables. \n",
    "\n",
    "4. Write down the sequence of calls to backprop."
   ]
  },
  {
   "cell_type": "code",
   "execution_count": 5,
   "metadata": {
    "id": "idGr71jYXl26"
   },
   "outputs": [],
   "source": [
    "# import logging\n",
    "import graphviz\n",
    "\n",
    "#logging.basicConfig(format='[%(levelname)s@%(name)s] %(message)s', level=logging.DEBUG)\n",
    "\n",
    "#graphviz.__version__, graphviz.version()"
   ]
  },
  {
   "cell_type": "code",
   "execution_count": 4,
   "metadata": {
    "colab": {
     "base_uri": "https://localhost:8080/",
     "height": 152
    },
    "id": "KPe30Q2QXzeG",
    "outputId": "7fa002cd-a018-4dbb-ddf1-28ed5e99ee19"
   },
   "outputs": [
    {
     "data": {
      "image/svg+xml": [
       "<?xml version=\"1.0\" encoding=\"UTF-8\" standalone=\"no\"?>\n",
       "<!DOCTYPE svg PUBLIC \"-//W3C//DTD SVG 1.1//EN\"\n",
       " \"http://www.w3.org/Graphics/SVG/1.1/DTD/svg11.dtd\">\n",
       "<!-- Generated by graphviz version 2.50.0 (0)\n",
       " -->\n",
       "<!-- Title: first expression Pages: 1 -->\n",
       "<svg width=\"159pt\" height=\"98pt\"\n",
       " viewBox=\"0.00 0.00 159.00 98.00\" xmlns=\"http://www.w3.org/2000/svg\" xmlns:xlink=\"http://www.w3.org/1999/xlink\">\n",
       "<g id=\"graph0\" class=\"graph\" transform=\"scale(1 1) rotate(0) translate(4 94)\">\n",
       "<title>first expression</title>\n",
       "<polygon fill=\"white\" stroke=\"transparent\" points=\"-4,4 -4,-94 155,-94 155,4 -4,4\"/>\n",
       "<!-- a -->\n",
       "<g id=\"node1\" class=\"node\">\n",
       "<title>a</title>\n",
       "<ellipse fill=\"none\" stroke=\"black\" cx=\"18\" cy=\"-72\" rx=\"18\" ry=\"18\"/>\n",
       "<text text-anchor=\"middle\" x=\"18\" y=\"-68.3\" font-family=\"Times,serif\" font-size=\"14.00\">a</text>\n",
       "</g>\n",
       "<!-- f -->\n",
       "<g id=\"node2\" class=\"node\">\n",
       "<title>f</title>\n",
       "<ellipse fill=\"none\" stroke=\"black\" cx=\"133\" cy=\"-45\" rx=\"18\" ry=\"18\"/>\n",
       "<text text-anchor=\"middle\" x=\"133\" y=\"-41.3\" font-family=\"Times,serif\" font-size=\"14.00\">f</text>\n",
       "</g>\n",
       "<!-- a&#45;&gt;f -->\n",
       "<g id=\"edge1\" class=\"edge\">\n",
       "<title>a&#45;&gt;f</title>\n",
       "<path fill=\"none\" stroke=\"black\" d=\"M35.67,-68.02C54.03,-63.63 83.81,-56.51 105.4,-51.36\"/>\n",
       "<polygon fill=\"black\" stroke=\"black\" points=\"106.35,-54.73 115.26,-49 104.72,-47.92 106.35,-54.73\"/>\n",
       "<text text-anchor=\"middle\" x=\"75.5\" y=\"-66.8\" font-family=\"Times,serif\" font-size=\"14.00\">df/da=b</text>\n",
       "</g>\n",
       "<!-- b -->\n",
       "<g id=\"node3\" class=\"node\">\n",
       "<title>b</title>\n",
       "<ellipse fill=\"none\" stroke=\"black\" cx=\"18\" cy=\"-18\" rx=\"18\" ry=\"18\"/>\n",
       "<text text-anchor=\"middle\" x=\"18\" y=\"-14.3\" font-family=\"Times,serif\" font-size=\"14.00\">b</text>\n",
       "</g>\n",
       "<!-- b&#45;&gt;f -->\n",
       "<g id=\"edge2\" class=\"edge\">\n",
       "<title>b&#45;&gt;f</title>\n",
       "<path fill=\"none\" stroke=\"black\" d=\"M35.85,-20.94C51.73,-23.83 76.12,-28.59 97,-34 99.89,-34.75 102.9,-35.59 105.88,-36.47\"/>\n",
       "<polygon fill=\"black\" stroke=\"black\" points=\"105.13,-39.9 115.72,-39.5 107.19,-33.21 105.13,-39.9\"/>\n",
       "<text text-anchor=\"middle\" x=\"75.5\" y=\"-37.8\" font-family=\"Times,serif\" font-size=\"14.00\">df/db=a</text>\n",
       "</g>\n",
       "</g>\n",
       "</svg>\n"
      ],
      "text/plain": [
       "<graphviz.graphs.Digraph at 0x107ee9e10>"
      ]
     },
     "execution_count": 4,
     "metadata": {},
     "output_type": "execute_result"
    }
   ],
   "source": [
    "e1 = graphviz.Digraph('first expression', filename='fsm.gv')\n",
    "\n",
    "e1.attr(rankdir='LR', size='8,5')\n",
    "\n",
    "e1.attr('node', shape='circle')\n",
    "e1.edge('a', 'f', label='df/da=b')\n",
    "e1.edge('b', 'f', label='df/db=a')\n",
    "\n",
    "e1"
   ]
  },
  {
   "cell_type": "code",
   "execution_count": 5,
   "metadata": {
    "colab": {
     "base_uri": "https://localhost:8080/",
     "height": 232
    },
    "id": "0nittR-mZFeX",
    "outputId": "fa3656a3-732c-4abe-8084-98a492b0d6be"
   },
   "outputs": [
    {
     "data": {
      "image/svg+xml": [
       "<?xml version=\"1.0\" encoding=\"UTF-8\" standalone=\"no\"?>\n",
       "<!DOCTYPE svg PUBLIC \"-//W3C//DTD SVG 1.1//EN\"\n",
       " \"http://www.w3.org/Graphics/SVG/1.1/DTD/svg11.dtd\">\n",
       "<!-- Generated by graphviz version 2.50.0 (0)\n",
       " -->\n",
       "<!-- Title: second expression Pages: 1 -->\n",
       "<svg width=\"276pt\" height=\"158pt\"\n",
       " viewBox=\"0.00 0.00 276.00 158.00\" xmlns=\"http://www.w3.org/2000/svg\" xmlns:xlink=\"http://www.w3.org/1999/xlink\">\n",
       "<g id=\"graph0\" class=\"graph\" transform=\"scale(1 1) rotate(0) translate(4 154)\">\n",
       "<title>second expression</title>\n",
       "<polygon fill=\"white\" stroke=\"transparent\" points=\"-4,4 -4,-154 272,-154 272,4 -4,4\"/>\n",
       "<!-- a -->\n",
       "<g id=\"node1\" class=\"node\">\n",
       "<title>a</title>\n",
       "<ellipse fill=\"none\" stroke=\"black\" cx=\"18\" cy=\"-75\" rx=\"18\" ry=\"18\"/>\n",
       "<text text-anchor=\"middle\" x=\"18\" y=\"-71.3\" font-family=\"Times,serif\" font-size=\"14.00\">a</text>\n",
       "</g>\n",
       "<!-- c -->\n",
       "<g id=\"node2\" class=\"node\">\n",
       "<title>c</title>\n",
       "<ellipse fill=\"none\" stroke=\"black\" cx=\"135\" cy=\"-102\" rx=\"18\" ry=\"18\"/>\n",
       "<text text-anchor=\"middle\" x=\"135\" y=\"-98.3\" font-family=\"Times,serif\" font-size=\"14.00\">c</text>\n",
       "</g>\n",
       "<!-- a&#45;&gt;c -->\n",
       "<g id=\"edge1\" class=\"edge\">\n",
       "<title>a&#45;&gt;c</title>\n",
       "<path fill=\"none\" stroke=\"black\" d=\"M35.97,-78.98C54.76,-83.4 85.31,-90.57 107.31,-95.73\"/>\n",
       "<polygon fill=\"black\" stroke=\"black\" points=\"106.8,-99.21 117.34,-98.09 108.4,-92.39 106.8,-99.21\"/>\n",
       "<text text-anchor=\"middle\" x=\"76.5\" y=\"-96.8\" font-family=\"Times,serif\" font-size=\"14.00\">dc/da=b</text>\n",
       "</g>\n",
       "<!-- e -->\n",
       "<g id=\"node4\" class=\"node\">\n",
       "<title>e</title>\n",
       "<ellipse fill=\"none\" stroke=\"black\" cx=\"135\" cy=\"-48\" rx=\"18\" ry=\"18\"/>\n",
       "<text text-anchor=\"middle\" x=\"135\" y=\"-44.3\" font-family=\"Times,serif\" font-size=\"14.00\">e</text>\n",
       "</g>\n",
       "<!-- a&#45;&gt;e -->\n",
       "<g id=\"edge3\" class=\"edge\">\n",
       "<title>a&#45;&gt;e</title>\n",
       "<path fill=\"none\" stroke=\"black\" d=\"M35.28,-69.49C41.14,-67.61 47.83,-65.58 54,-64 71.5,-59.51 91.43,-55.53 107.01,-52.65\"/>\n",
       "<polygon fill=\"black\" stroke=\"black\" points=\"107.8,-56.07 117.03,-50.85 106.56,-49.18 107.8,-56.07\"/>\n",
       "<text text-anchor=\"middle\" x=\"76.5\" y=\"-67.8\" font-family=\"Times,serif\" font-size=\"14.00\">de/da=d</text>\n",
       "</g>\n",
       "<!-- f -->\n",
       "<g id=\"node6\" class=\"node\">\n",
       "<title>f</title>\n",
       "<ellipse fill=\"none\" stroke=\"black\" cx=\"250\" cy=\"-75\" rx=\"18\" ry=\"18\"/>\n",
       "<text text-anchor=\"middle\" x=\"250\" y=\"-71.3\" font-family=\"Times,serif\" font-size=\"14.00\">f</text>\n",
       "</g>\n",
       "<!-- c&#45;&gt;f -->\n",
       "<g id=\"edge5\" class=\"edge\">\n",
       "<title>c&#45;&gt;f</title>\n",
       "<path fill=\"none\" stroke=\"black\" d=\"M152.67,-98.02C171.03,-93.63 200.81,-86.51 222.4,-81.36\"/>\n",
       "<polygon fill=\"black\" stroke=\"black\" points=\"223.35,-84.73 232.26,-79 221.72,-77.92 223.35,-84.73\"/>\n",
       "<text text-anchor=\"middle\" x=\"192.5\" y=\"-96.8\" font-family=\"Times,serif\" font-size=\"14.00\">df/dc=1</text>\n",
       "</g>\n",
       "<!-- b -->\n",
       "<g id=\"node3\" class=\"node\">\n",
       "<title>b</title>\n",
       "<ellipse fill=\"none\" stroke=\"black\" cx=\"18\" cy=\"-132\" rx=\"18\" ry=\"18\"/>\n",
       "<text text-anchor=\"middle\" x=\"18\" y=\"-128.3\" font-family=\"Times,serif\" font-size=\"14.00\">b</text>\n",
       "</g>\n",
       "<!-- b&#45;&gt;c -->\n",
       "<g id=\"edge2\" class=\"edge\">\n",
       "<title>b&#45;&gt;c</title>\n",
       "<path fill=\"none\" stroke=\"black\" d=\"M35.97,-127.57C54.85,-122.65 85.58,-114.63 107.61,-108.88\"/>\n",
       "<polygon fill=\"black\" stroke=\"black\" points=\"108.54,-112.26 117.34,-106.35 106.78,-105.48 108.54,-112.26\"/>\n",
       "<text text-anchor=\"middle\" x=\"76.5\" y=\"-125.8\" font-family=\"Times,serif\" font-size=\"14.00\">dc/db=a</text>\n",
       "</g>\n",
       "<!-- e&#45;&gt;f -->\n",
       "<g id=\"edge6\" class=\"edge\">\n",
       "<title>e&#45;&gt;f</title>\n",
       "<path fill=\"none\" stroke=\"black\" d=\"M152.85,-50.94C168.73,-53.83 193.12,-58.59 214,-64 216.89,-64.75 219.9,-65.59 222.88,-66.47\"/>\n",
       "<polygon fill=\"black\" stroke=\"black\" points=\"222.13,-69.9 232.72,-69.5 224.19,-63.21 222.13,-69.9\"/>\n",
       "<text text-anchor=\"middle\" x=\"192.5\" y=\"-67.8\" font-family=\"Times,serif\" font-size=\"14.00\">df/de=1</text>\n",
       "</g>\n",
       "<!-- d -->\n",
       "<g id=\"node5\" class=\"node\">\n",
       "<title>d</title>\n",
       "<ellipse fill=\"none\" stroke=\"black\" cx=\"18\" cy=\"-18\" rx=\"18\" ry=\"18\"/>\n",
       "<text text-anchor=\"middle\" x=\"18\" y=\"-14.3\" font-family=\"Times,serif\" font-size=\"14.00\">d</text>\n",
       "</g>\n",
       "<!-- d&#45;&gt;e -->\n",
       "<g id=\"edge4\" class=\"edge\">\n",
       "<title>d&#45;&gt;e</title>\n",
       "<path fill=\"none\" stroke=\"black\" d=\"M36.03,-20.87C52.35,-23.8 77.59,-28.79 99,-35 102.17,-35.92 105.47,-36.99 108.72,-38.12\"/>\n",
       "<polygon fill=\"black\" stroke=\"black\" points=\"107.54,-41.41 118.13,-41.55 109.94,-34.83 107.54,-41.41\"/>\n",
       "<text text-anchor=\"middle\" x=\"76.5\" y=\"-38.8\" font-family=\"Times,serif\" font-size=\"14.00\">de/dd=a</text>\n",
       "</g>\n",
       "</g>\n",
       "</svg>\n"
      ],
      "text/plain": [
       "<graphviz.graphs.Digraph at 0x107efe410>"
      ]
     },
     "execution_count": 5,
     "metadata": {},
     "output_type": "execute_result"
    }
   ],
   "source": [
    "e2 = graphviz.Digraph('second expression', filename='fsm.gv')\n",
    "\n",
    "e2.attr(rankdir='LR', size='8,5')\n",
    "'''\n",
    "c = a * b\n",
    "e = a * d\n",
    "f = c + e\n",
    "'''\n",
    "e2.attr('node', shape='circle')\n",
    "e2.edge('a', 'c', label='dc/da=b')\n",
    "e2.edge('b', 'c', label='dc/db=a')\n",
    "e2.edge('a', 'e', label='de/da=d')\n",
    "e2.edge('d', 'e', label='de/dd=a')\n",
    "e2.edge('c', 'f', label='df/dc=1')\n",
    "e2.edge('e', 'f', label='df/de=1')\n",
    "\n",
    "e2"
   ]
  },
  {
   "cell_type": "markdown",
   "metadata": {
    "id": "A5oi21W4gpeM"
   },
   "source": [
    "## Exercise c) What happens if we run backward again?\n",
    "\n",
    "Try to execute the code below. Explain what happens."
   ]
  },
  {
   "cell_type": "code",
   "execution_count": 9,
   "metadata": {
    "colab": {
     "base_uri": "https://localhost:8080/"
    },
    "id": "DCtpJyr-gyX1",
    "outputId": "d014bcfa-c9ae-49c3-d268-91cc6ca94ea5"
   },
   "outputs": [
    {
     "name": "stdout",
     "output_type": "stream",
     "text": [
      "Var(v=3.0000, grad=28.0000)\n",
      "Var(v=5.0000, grad=6.0000)\n",
      "Var(v=15.0000, grad=2.0000)\n",
      "Var(v=9.0000, grad=6.0000)\n",
      "Var(v=27.0000, grad=2.0000)\n",
      "Var(v=42.0000, grad=2.0000)\n"
     ]
    }
   ],
   "source": [
    "f.backward()\n",
    "'''a = Var(3.0)\n",
    "b = Var(5.0)\n",
    "c = a * b\n",
    "d = Var(9.0)\n",
    "e = a * d\n",
    "f = c + e\n",
    "'''\n",
    "for v in [a, b, c, d, e, f]:\n",
    "    print(v)"
   ]
  },
  {
   "cell_type": "markdown",
   "metadata": {},
   "source": [
    "### Anser\n",
    "If we run backward again, the gradients are accumulated again because the gradient values are not reset between the calls. Therefore, the final gradients for each variable will be doubled compared to the gradients after the first calls."
   ]
  },
  {
   "cell_type": "markdown",
   "metadata": {
    "id": "e8bPVq2VhsP-"
   },
   "source": [
    "## Exercise d) Zero gradient\n",
    "\n",
    "We can zero the gradient by backpropagating a -1.0 as is shown in the example below. (If you have run backward multiple time then you also have to run the cell below an equal amount of times.) Explain what is going on."
   ]
  },
  {
   "cell_type": "code",
   "execution_count": 12,
   "metadata": {
    "colab": {
     "base_uri": "https://localhost:8080/"
    },
    "id": "OnyPDQx9lJe0",
    "outputId": "7a125fdc-60c4-4340-a580-8b82aea5b0db"
   },
   "outputs": [
    {
     "name": "stdout",
     "output_type": "stream",
     "text": [
      "Var(v=2.0000, grad=0.0000)\n",
      "Var(v=5.0000, grad=0.0000)\n",
      "Var(v=15.0000, grad=0.0000)\n",
      "Var(v=9.0000, grad=0.0000)\n",
      "Var(v=27.0000, grad=0.0000)\n",
      "Var(v=42.0000, grad=0.0000)\n",
      "Var(v=2.0000, grad=0.0000)\n",
      "Var(v=5.0000, grad=-3.0000)\n",
      "Var(v=15.0000, grad=-1.0000)\n",
      "Var(v=9.0000, grad=-3.0000)\n",
      "Var(v=27.0000, grad=-1.0000)\n",
      "Var(v=42.0000, grad=-1.0000)\n"
     ]
    }
   ],
   "source": [
    "a = Var(2.0)\n",
    "\n",
    "for v in [a, b, c, d, e, f]:\n",
    "    print(v)\n",
    "\n",
    "f.backprop(-1.0)\n",
    "\n",
    "for v in [a, b, c, d, e, f]:\n",
    "    print(v)"
   ]
  },
  {
   "cell_type": "markdown",
   "metadata": {},
   "source": [
    "### Answer\n",
    "If the bakprogating a -1.0, it will specifically negate the current gradient values. If the multiplier is negative, the gradients will substract from the exsiting gradients."
   ]
  },
  {
   "cell_type": "markdown",
   "metadata": {
    "id": "U4057_ljNvWB"
   },
   "source": [
    "## Exercise e) Test correctness of derivatives with the finite difference method\n",
    "\n",
    "Write a small function that uses [the finite difference method](https://en.wikipedia.org/wiki/Finite_difference_method) to numerically test that backpropation implementation is working. In short we will use\n",
    "$$\n",
    "\\frac{\\partial f(a)}{\\partial a} \\approx \\frac{f(a+da)-f(a)}{da}\n",
    "$$\n",
    "for $da \\ll 1$.\n",
    "\n",
    "As an example, we could approximate the derivative of the function $f(a)=a^2$ in e.g. the value $a=4$ using the finite difference method. This amounts to inserting the relevant values and approximating the gradient $f'(4)$ with the fraction above. \n"
   ]
  },
  {
   "cell_type": "code",
   "execution_count": 15,
   "metadata": {
    "colab": {
     "base_uri": "https://localhost:8080/"
    },
    "id": "9TGil92lSXDN",
    "outputId": "7ef5489b-b525-4132-ab08-0b1109c07f4d"
   },
   "outputs": [
    {
     "name": "stdout",
     "output_type": "stream",
     "text": [
      "Var(v=3.0000, grad=5.0000)\n",
      "Var(v=5.0000, grad=3.0000)\n",
      "Var(v=15.0000, grad=1.0000)\n",
      "30000000006.0\n"
     ]
    }
   ],
   "source": [
    "# f function - try to change the code to test other types of functions as well (such as different polynomials etc.)\n",
    "def f_function(a):\n",
    "  a = Var(a)\n",
    "  b = Var(5.0)\n",
    "  f = a * b\n",
    "  f.backward()\n",
    "  return a,b,f\n",
    "\n",
    "for v in f_function(3.0):\n",
    "  print(v)\n",
    "\n",
    "# Insert your finite difference code here\n",
    "def finite_difference(da=1e-10):\n",
    "    \"\"\"\n",
    "    This function compute the finite difference between\n",
    "    \n",
    "    Input:\n",
    "    da:          The finite difference                           (float)\n",
    "    \n",
    "    Output:\n",
    "    finite_difference: numerical approximation to the derivative (float) \n",
    "    \"\"\"\n",
    "    a = 3.0\n",
    "    fa_da =   (a + da) **2        # <- Insert correct expression\n",
    "    fa = a * 2               # <- Insert correct expression\n",
    "\n",
    "    finite_difference = (fa_da - fa) / da\n",
    "    \n",
    "    return finite_difference\n",
    "\n",
    "print(finite_difference())"
   ]
  },
  {
   "cell_type": "markdown",
   "metadata": {
    "id": "6pZar5RKaUkg"
   },
   "source": [
    "# Create an artificial dataset to play with\n",
    "\n",
    "We create a non-linear 1d regression task. The generator supports various noise levels and it creates train, validation and test sets. You can modify it yourself if you want more or less challenging tasks."
   ]
  },
  {
   "cell_type": "code",
   "execution_count": 23,
   "metadata": {
    "id": "Y6yfMAQ8aduj"
   },
   "outputs": [],
   "source": [
    "import numpy as np\n",
    "import matplotlib.pyplot as plt\n",
    "\n",
    "np.random.seed(42)"
   ]
  },
  {
   "cell_type": "code",
   "execution_count": 24,
   "metadata": {
    "id": "4YabfD43ajNh"
   },
   "outputs": [],
   "source": [
    "def data_generator(noise=0.1, n_samples=300, D1=True):\n",
    "    # Create covariates and response variable\n",
    "    if D1:\n",
    "        X = np.linspace(-3, 3, num=n_samples).reshape(-1,1) # 1-D\n",
    "        np.random.shuffle(X)\n",
    "        y = np.random.normal((0.5*np.sin(X[:,0]*3) + X[:,0]), noise) # 1-D with trend\n",
    "    else:\n",
    "        X = np.random.multivariate_normal(np.zeros(3), noise*np.eye(3), size = n_samples) # 3-D\n",
    "        np.random.shuffle(X)    \n",
    "        y = np.sin(X[:,0]) - 5*(X[:,1]**2) + 0.5*X[:,2] # 3-D\n",
    "\n",
    "    # Stack them together vertically to split data set\n",
    "    data_set = np.vstack((X.T,y)).T\n",
    "    \n",
    "    train, validation, test = np.split(data_set, [int(0.35*n_samples), int(0.7*n_samples)], axis=0)\n",
    "    \n",
    "    # Standardization of the data, remember we do the standardization with the training set mean and standard deviation\n",
    "    train_mu = np.mean(train, axis=0)\n",
    "    train_sigma = np.std(train, axis=0)\n",
    "    \n",
    "    train = (train-train_mu)/train_sigma\n",
    "    validation = (validation-train_mu)/train_sigma\n",
    "    test = (test-train_mu)/train_sigma\n",
    "    \n",
    "    x_train, x_validation, x_test = train[:,:-1], validation[:,:-1], test[:,:-1]\n",
    "    y_train, y_validation, y_test = train[:,-1], validation[:,-1], test[:,-1]\n",
    "\n",
    "    return x_train, y_train,  x_validation, y_validation, x_test, y_test"
   ]
  },
  {
   "cell_type": "code",
   "execution_count": 25,
   "metadata": {
    "id": "u1oDngHLapIz"
   },
   "outputs": [],
   "source": [
    "D1 = True\n",
    "x_train, y_train,  x_validation, y_validation, x_test, y_test = data_generator(noise=0.5, D1=D1)"
   ]
  },
  {
   "cell_type": "code",
   "execution_count": 26,
   "metadata": {
    "colab": {
     "base_uri": "https://localhost:8080/",
     "height": 265
    },
    "id": "Ysfa3FsBavlm",
    "outputId": "399e5382-ae7d-48f6-9774-7ea4c73e7d95"
   },
   "outputs": [
    {
     "data": {
      "image/png": "[encoded data removed]",
      "text/plain": [
       "<Figure size 640x480 with 1 Axes>"
      ]
     },
     "metadata": {},
     "output_type": "display_data"
    }
   ],
   "source": [
    "if D1:\n",
    "    plt.scatter(x_train[:,0], y_train);\n",
    "    plt.scatter(x_validation[:,0], y_validation);\n",
    "    plt.scatter(x_test[:,0], y_test);\n",
    "else:\n",
    "    plt.scatter(x_train[:,1], y_train);\n",
    "    plt.scatter(x_validation[:,1], y_validation);\n",
    "    plt.scatter(x_test[:,1], y_test);\n",
    "plt.show()"
   ]
  },
  {
   "cell_type": "code",
   "execution_count": 27,
   "metadata": {
    "id": "zac2HHNlgbpm"
   },
   "outputs": [
    {
     "name": "stdout",
     "output_type": "stream",
     "text": [
      "[[Var(v=0.7213, grad=0.0000)], [Var(v=1.4497, grad=0.0000)], [Var(v=0.1316, grad=0.0000)], [Var(v=-1.5219, grad=0.0000)], [Var(v=1.0682, grad=0.0000)], [Var(v=0.9872, grad=0.0000)], [Var(v=0.6403, grad=0.0000)], [Var(v=-0.3656, grad=0.0000)], [Var(v=-1.5681, grad=0.0000)], [Var(v=0.3975, grad=0.0000)], [Var(v=1.1144, grad=0.0000)], [Var(v=-0.9669, grad=0.0000)], [Var(v=0.8947, grad=0.0000)], [Var(v=-1.1056, grad=0.0000)], [Var(v=0.4785, grad=0.0000)], [Var(v=0.9294, grad=0.0000)], [Var(v=1.7157, grad=0.0000)], [Var(v=0.8138, grad=0.0000)], [Var(v=0.0853, grad=0.0000)], [Var(v=0.2819, grad=0.0000)], [Var(v=-0.7240, grad=0.0000)], [Var(v=-0.3193, grad=0.0000)], [Var(v=1.2532, grad=0.0000)], [Var(v=1.2647, grad=0.0000)], [Var(v=-0.4234, grad=0.0000)], [Var(v=-1.1403, grad=0.0000)], [Var(v=1.6232, grad=0.0000)], [Var(v=1.7851, grad=0.0000)], [Var(v=0.1894, grad=0.0000)], [Var(v=1.1260, grad=0.0000)], [Var(v=-1.4294, grad=0.0000)], [Var(v=0.2703, grad=0.0000)], [Var(v=-1.2444, grad=0.0000)], [Var(v=-1.3484, grad=0.0000)], [Var(v=0.8600, grad=0.0000)], [Var(v=-0.2500, grad=0.0000)], [Var(v=-1.5450, grad=0.0000)], [Var(v=-0.5853, grad=0.0000)], [Var(v=-1.0940, grad=0.0000)], [Var(v=-0.7819, grad=0.0000)], [Var(v=-0.5506, grad=0.0000)], [Var(v=-0.7472, grad=0.0000)], [Var(v=1.6810, grad=0.0000)], [Var(v=-0.9322, grad=0.0000)], [Var(v=-0.7356, grad=0.0000)], [Var(v=-0.8975, grad=0.0000)], [Var(v=1.0797, grad=0.0000)], [Var(v=1.0219, grad=0.0000)], [Var(v=-0.3425, grad=0.0000)], [Var(v=1.0450, grad=0.0000)], [Var(v=0.4553, grad=0.0000)], [Var(v=0.0391, grad=0.0000)], [Var(v=1.1375, grad=0.0000)], [Var(v=-0.7587, grad=0.0000)], [Var(v=1.8082, grad=0.0000)], [Var(v=1.5885, grad=0.0000)], [Var(v=-0.5044, grad=0.0000)], [Var(v=-0.5622, grad=0.0000)], [Var(v=0.5941, grad=0.0000)], [Var(v=-1.3369, grad=0.0000)], [Var(v=1.0566, grad=0.0000)], [Var(v=-0.9437, grad=0.0000)], [Var(v=-1.5566, grad=0.0000)], [Var(v=0.5132, grad=0.0000)], [Var(v=0.3744, grad=0.0000)], [Var(v=-1.2790, grad=0.0000)], [Var(v=-1.3715, grad=0.0000)], [Var(v=1.3341, grad=0.0000)], [Var(v=-0.9784, grad=0.0000)], [Var(v=0.5247, grad=0.0000)], [Var(v=-0.3772, grad=0.0000)], [Var(v=-0.1690, grad=0.0000)], [Var(v=1.0335, grad=0.0000)], [Var(v=0.6057, grad=0.0000)], [Var(v=-0.1343, grad=0.0000)], [Var(v=1.6347, grad=0.0000)], [Var(v=-0.6778, grad=0.0000)], [Var(v=-0.6547, grad=0.0000)], [Var(v=-0.8628, grad=0.0000)], [Var(v=1.7041, grad=0.0000)], [Var(v=0.2588, grad=0.0000)], [Var(v=0.1547, grad=0.0000)], [Var(v=-1.4062, grad=0.0000)], [Var(v=-0.1922, grad=0.0000)], [Var(v=-0.7125, grad=0.0000)], [Var(v=-0.3078, grad=0.0000)], [Var(v=-0.2615, grad=0.0000)], [Var(v=-0.7934, grad=0.0000)], [Var(v=-1.4525, grad=0.0000)], [Var(v=-1.5103, grad=0.0000)], [Var(v=0.6172, grad=0.0000)], [Var(v=-0.4581, grad=0.0000)], [Var(v=-0.8397, grad=0.0000)], [Var(v=0.9641, grad=0.0000)], [Var(v=-1.1981, grad=0.0000)], [Var(v=-1.4409, grad=0.0000)], [Var(v=0.4438, grad=0.0000)], [Var(v=0.0738, grad=0.0000)], [Var(v=1.5422, grad=0.0000)], [Var(v=-0.8512, grad=0.0000)], [Var(v=1.0104, grad=0.0000)], [Var(v=-0.8281, grad=0.0000)], [Var(v=-1.2675, grad=0.0000)], [Var(v=0.4900, grad=0.0000)], [Var(v=1.4382, grad=0.0000)]]\n"
     ]
    }
   ],
   "source": [
    "# convert from nparray to Var\n",
    "def nparray_to_Var(x):\n",
    "  if x.ndim==1:\n",
    "    y = [[Var(float(x[i]))] for i in range(x.shape[0])] # always work with list of list\n",
    "  else:\n",
    "    y = [[Var(float(x[i,j])) for j in range(x.shape[1])] for i in range(x.shape[0])]\n",
    "  return y\n",
    "   \n",
    "x_train = nparray_to_Var(x_train)\n",
    "y_train = nparray_to_Var(y_train)\n",
    "x_validation = nparray_to_Var(x_validation)\n",
    "y_validation = nparray_to_Var(y_validation)\n",
    "x_test = nparray_to_Var(x_test)\n",
    "y_test = nparray_to_Var(y_test)\n",
    "\n",
    "print(x_train)"
   ]
  },
  {
   "cell_type": "markdown",
   "metadata": {
    "id": "VbjrqcpVFtGe"
   },
   "source": [
    "# Defining and initializing the network\n",
    "\n",
    "The steps to create a feed forward neural network are the following:\n",
    "\n",
    "1. **Number of hidden layer and hidden units**. We have to define the number of hidden units in each layer. The number of features in X and the output dimensionality (the size of Y) are given but the numbers in between are set by the researcher. Remember that for each unit in each layer beside in the input has a bias term.\n",
    "2. **Activation functions** for each hidden layer. Each hidden layer in your list must have an activation function (it can also be the linear activation which is equivalent to identity function). The power of neural networks comes from non-linear activation functions that learn representations (features) from the data allowing us to learn from it. \n",
    "3. **Parameter initialization**. We will initialize the weights to have random values. This is done in practice by drawing pseudo random numbers from a Gaussian or uniform distribution. It turns out that for deeper models we have to be careful about how we scale the random numbers. This will be the topic of the exercise below. For now we will just use unit variance Gaussians.  \n",
    "\n",
    "In order to make life easier for ourselves we define a DenseLayer class that takes care of initialization and the forward pass. We can also extend it later with print and advanced initialization capabilities. For the latter we have introduced a Initializer class.\n",
    "\n",
    "Note that we use Sequence in the code below. A Sequence is an ordered list. This means the order we insert and access items are the same."
   ]
  },
  {
   "cell_type": "code",
   "execution_count": 28,
   "metadata": {
    "id": "ij_ieRsAt7Xt"
   },
   "outputs": [],
   "source": [
    "class Initializer:\n",
    "\n",
    "  def init_weights(self, n_in, n_out):\n",
    "    raise NotImplementedError\n",
    "\n",
    "  def init_bias(self, n_out):\n",
    "    raise NotImplementedError"
   ]
  },
  {
   "cell_type": "code",
   "execution_count": 29,
   "metadata": {
    "id": "eb18N5phuIha"
   },
   "outputs": [],
   "source": [
    "import random\n",
    "\n",
    "class NormalInitializer(Initializer):\n",
    "\n",
    "  def __init__(self, mean=0, std=0.1):\n",
    "    self.mean = mean\n",
    "    self.std = std\n",
    "\n",
    "  def init_weights(self, n_in, n_out):\n",
    "    return [[Var(random.gauss(self.mean, self.std)) for _ in range(n_out)] for _ in range(n_in)]\n",
    "\n",
    "  def init_bias(self, n_out):\n",
    "    return [Var(0.0) for _ in range(n_out)]\n",
    "\n",
    "class ConstantInitializer(Initializer):\n",
    "\n",
    "  def __init__(self, weight=1.0, bias=0.0):\n",
    "    self.weight = weight\n",
    "    self.bias = bias\n",
    "\n",
    "  def init_weights(self, n_in, n_out):\n",
    "    return [[Var(self.weight) for _ in range(n_out)] for _ in range(n_in)]\n",
    "\n",
    "  def init_bias(self, n_out):\n",
    "    return [Var(self.bias) for _ in range(n_out)]"
   ]
  },
  {
   "cell_type": "code",
   "execution_count": 42,
   "metadata": {
    "id": "jOLYGnZKuM6W"
   },
   "outputs": [],
   "source": [
    "from typing import Sequence\n",
    "\n",
    "class DenseLayer:\n",
    "    def __init__(self, n_in: int, n_out: int, act_fn, initializer = NormalInitializer()):\n",
    "        self.weights = initializer.init_weights(n_in, n_out)\n",
    "        self.bias = initializer.init_bias(n_out)\n",
    "        self.act_fn = act_fn\n",
    "    \n",
    "    def __repr__(self):    \n",
    "        return 'Weights: ' + repr(self.weights) + ' Biases: ' + repr(self.bias)\n",
    "\n",
    "    def parameters(self) -> Sequence[Var]:\n",
    "      params = []\n",
    "      for r in self.weights:\n",
    "        params += r\n",
    "\n",
    "      return params + self.bias\n",
    "\n",
    "    def forward(self, single_input: Sequence[Var]) -> Sequence[Var]:\n",
    "        # self.weights is a matrix with dimension n_in x n_out. We check that the dimensionality of the input \n",
    "        # to the current layer matches the number of nodes in the current layer\n",
    "        assert len(self.weights) == len(single_input), \"weights and single_input must match in first dimension\"\n",
    "        weights = self.weights\n",
    "        out = []\n",
    "        # For some given data point single_input, we now want to calculate the resulting value in each node in the current layer\n",
    "        # We therefore loop over the (number of) nodes in the current layer:\n",
    "        for j in range(len(weights[0])): \n",
    "            # Initialize the node value depending on its corresponding parameters.\n",
    "            node = self.bias[j] # <- Insert code\n",
    "            # We now finish the linear transformation corresponding to the parameters of the currently considered node.\n",
    "            for i in range(len(single_input)):\n",
    "                node += single_input[i] * weights[i][j]  # <- Insert code\n",
    "            node = self.act_fn(node)\n",
    "            out.append(node)\n",
    "\n",
    "        return out\n",
    "    \n",
    "    def print_parameters(self):\n",
    "        print('Weights:')\n",
    "        for i, row in enumerate(self.weights):\n",
    "            for j, weight in enumerate(row):\n",
    "                print(f'Weight {i},{j}: {weight}')\n",
    "        print('Bias:')\n",
    "        for i, bias in enumerate(self.bias):\n",
    "            print(f'Bias {i}: {bias}')"
   ]
  },
  {
   "cell_type": "markdown",
   "metadata": {
    "id": "jpIZPBpNI0pO"
   },
   "source": [
    "## Exercise f) Add more activation functions\n",
    "\n",
    "To have a full definition of the neural network, we must define an activation function for every layer. Several activation functions have been proposed and have different characteristics. In the Var class we have already defined the rectified linear init (relu). \n",
    " \n",
    "Implement the following activation functions in the Var class:\n",
    "\n",
    "* Identity: $$\\mathrm{identity}(x) = x$$\n",
    "* Hyperbolic tangent: $$\\tanh(x)$$\n",
    "* Sigmoid (or logistic function): $$\\mathrm{sigmoid}(x) = \\frac{1}{1.0 + \\exp(-x ) }$$  Hint: $\\mathrm{sigmoid}'(x)= \\mathrm{sigmoid}(x)(1-\\mathrm{sigmoid}(x))$.  \n",
    "\n",
    "Hint: You can seek inspiration in the relu method in the Var class."
   ]
  },
  {
   "cell_type": "code",
   "execution_count": 55,
   "metadata": {},
   "outputs": [],
   "source": [
    "# Copy and pasted from https://github.com/rasmusbergpalm/nanograd/blob/3a1bf9e9e724da813bfccf91a6f309abdade9f39/nanograd.py\n",
    "\n",
    "from math import exp, log,tanh\n",
    "\n",
    "class Var:\n",
    "    \"\"\"\n",
    "    A variable which holds a float and enables gradient computations.\n",
    "    \"\"\"\n",
    "\n",
    "    def __init__(self, val: float, grad_fn=lambda: []):\n",
    "        assert type(val) == float\n",
    "        self.v = val\n",
    "        self.grad_fn = grad_fn\n",
    "        self.grad = 0.0\n",
    "\n",
    "    def backprop(self, bp):\n",
    "        self.grad += bp\n",
    "        for input, grad in self.grad_fn():\n",
    "            input.backprop(grad * bp)\n",
    "\n",
    "    def backward(self):\n",
    "        self.backprop(1.0)\n",
    "\n",
    "    def __add__(self: 'Var', other: 'Var') -> 'Var':\n",
    "        return Var(self.v + other.v, lambda: [(self, 1.0), (other, 1.0)])\n",
    "\n",
    "    def __mul__(self: 'Var', other: 'Var') -> 'Var':\n",
    "        return Var(self.v * other.v, lambda: [(self, other.v), (other, self.v)])\n",
    "\n",
    "    def __pow__(self, power):\n",
    "        assert type(power) in {float, int}, \"power must be float or int\"\n",
    "        return Var(self.v ** power, lambda: [(self, power * self.v ** (power - 1))])\n",
    "\n",
    "    def __neg__(self: 'Var') -> 'Var':\n",
    "        return Var(-1.0) * self\n",
    "\n",
    "    def __sub__(self: 'Var', other: 'Var') -> 'Var':\n",
    "        return self + (-other)\n",
    "\n",
    "    def __truediv__(self: 'Var', other: 'Var') -> 'Var':\n",
    "        return self * other ** -1\n",
    "\n",
    "    def __repr__(self):\n",
    "        return \"Var(v=%.4f, grad=%.4f)\" % (self.v, self.grad)\n",
    "\n",
    "    def relu(self):\n",
    "        return Var(self.v if self.v > 0.0 else 0.0, lambda: [(self, 1.0 if self.v > 0.0 else 0.0)])\n",
    "    def identity(self):\n",
    "        return Var(self.v, lambda: [(self, 1.0)])\n",
    "    def tanh(self):\n",
    "        tanh_v = tanh(self.v)\n",
    "        return Var(tanh_v, lambda: [(self, 1.0 - tanh_v ** 2)])\n",
    "    def sigmoid(self):\n",
    "        sig_v = 1/(1+exp(-self.v))\n",
    "        return Var(sig_v, lambda: [(self, sig_v * (1-sig_v))])\n",
    "    def exp(self):\n",
    "        return Var(exp(self.v), lambda: [(self, exp(self.v))])\n",
    "    def log(self):\n",
    "        return Var(log(self.v), lambda: [(self, self.v ** -1)])"
   ]
  },
  {
   "cell_type": "markdown",
   "metadata": {
    "id": "p_8n_SKnIW2F"
   },
   "source": [
    "## Exercise g) Complete the forward pass\n",
    "\n",
    "In the code below we initialize a 1-5-1 network and pass the training set through it. *The forward method in DenseLayer is **not** complete*. It just outputs zeros right now. The method forward should perform an [affine transformation](https://en.wikipedia.org/wiki/Affine_transformation) on the input followed by an application of the activation function."
   ]
  },
  {
   "cell_type": "code",
   "execution_count": 36,
   "metadata": {
    "colab": {
     "base_uri": "https://localhost:8080/",
     "height": 337
    },
    "id": "xDEjtePxE7Mv",
    "outputId": "753406cd-d8a1-4282-ce03-25ad959b0e11"
   },
   "outputs": [
    {
     "name": "stdout",
     "output_type": "stream",
     "text": [
      "[[Var(v=-0.0084, grad=0.0000)], [Var(v=-0.0169, grad=0.0000)], [Var(v=-0.0015, grad=0.0000)], [Var(v=0.0241, grad=0.0000)], [Var(v=-0.0124, grad=0.0000)], [Var(v=-0.0115, grad=0.0000)], [Var(v=-0.0075, grad=0.0000)], [Var(v=0.0058, grad=0.0000)], [Var(v=0.0248, grad=0.0000)], [Var(v=-0.0046, grad=0.0000)], [Var(v=-0.0130, grad=0.0000)], [Var(v=0.0153, grad=0.0000)], [Var(v=-0.0104, grad=0.0000)], [Var(v=0.0175, grad=0.0000)], [Var(v=-0.0056, grad=0.0000)], [Var(v=-0.0108, grad=0.0000)], [Var(v=-0.0200, grad=0.0000)], [Var(v=-0.0095, grad=0.0000)], [Var(v=-0.0010, grad=0.0000)], [Var(v=-0.0033, grad=0.0000)], [Var(v=0.0114, grad=0.0000)], [Var(v=0.0050, grad=0.0000)], [Var(v=-0.0146, grad=0.0000)], [Var(v=-0.0147, grad=0.0000)], [Var(v=0.0067, grad=0.0000)], [Var(v=0.0180, grad=0.0000)], [Var(v=-0.0189, grad=0.0000)], [Var(v=-0.0208, grad=0.0000)], [Var(v=-0.0022, grad=0.0000)], [Var(v=-0.0131, grad=0.0000)], [Var(v=0.0226, grad=0.0000)], [Var(v=-0.0031, grad=0.0000)], [Var(v=0.0197, grad=0.0000)], [Var(v=0.0213, grad=0.0000)], [Var(v=-0.0100, grad=0.0000)], [Var(v=0.0040, grad=0.0000)], [Var(v=0.0244, grad=0.0000)], [Var(v=0.0093, grad=0.0000)], [Var(v=0.0173, grad=0.0000)], [Var(v=0.0124, grad=0.0000)], [Var(v=0.0087, grad=0.0000)], [Var(v=0.0118, grad=0.0000)], [Var(v=-0.0196, grad=0.0000)], [Var(v=0.0147, grad=0.0000)], [Var(v=0.0116, grad=0.0000)], [Var(v=0.0142, grad=0.0000)], [Var(v=-0.0126, grad=0.0000)], [Var(v=-0.0119, grad=0.0000)], [Var(v=0.0054, grad=0.0000)], [Var(v=-0.0122, grad=0.0000)], [Var(v=-0.0053, grad=0.0000)], [Var(v=-0.0005, grad=0.0000)], [Var(v=-0.0132, grad=0.0000)], [Var(v=0.0120, grad=0.0000)], [Var(v=-0.0210, grad=0.0000)], [Var(v=-0.0185, grad=0.0000)], [Var(v=0.0080, grad=0.0000)], [Var(v=0.0089, grad=0.0000)], [Var(v=-0.0069, grad=0.0000)], [Var(v=0.0211, grad=0.0000)], [Var(v=-0.0123, grad=0.0000)], [Var(v=0.0149, grad=0.0000)], [Var(v=0.0246, grad=0.0000)], [Var(v=-0.0060, grad=0.0000)], [Var(v=-0.0044, grad=0.0000)], [Var(v=0.0202, grad=0.0000)], [Var(v=0.0217, grad=0.0000)], [Var(v=-0.0155, grad=0.0000)], [Var(v=0.0155, grad=0.0000)], [Var(v=-0.0061, grad=0.0000)], [Var(v=0.0060, grad=0.0000)], [Var(v=0.0027, grad=0.0000)], [Var(v=-0.0120, grad=0.0000)], [Var(v=-0.0070, grad=0.0000)], [Var(v=0.0021, grad=0.0000)], [Var(v=-0.0190, grad=0.0000)], [Var(v=0.0107, grad=0.0000)], [Var(v=0.0104, grad=0.0000)], [Var(v=0.0136, grad=0.0000)], [Var(v=-0.0198, grad=0.0000)], [Var(v=-0.0030, grad=0.0000)], [Var(v=-0.0018, grad=0.0000)], [Var(v=0.0222, grad=0.0000)], [Var(v=0.0030, grad=0.0000)], [Var(v=0.0113, grad=0.0000)], [Var(v=0.0049, grad=0.0000)], [Var(v=0.0041, grad=0.0000)], [Var(v=0.0125, grad=0.0000)], [Var(v=0.0230, grad=0.0000)], [Var(v=0.0239, grad=0.0000)], [Var(v=-0.0072, grad=0.0000)], [Var(v=0.0072, grad=0.0000)], [Var(v=0.0133, grad=0.0000)], [Var(v=-0.0112, grad=0.0000)], [Var(v=0.0189, grad=0.0000)], [Var(v=0.0228, grad=0.0000)], [Var(v=-0.0052, grad=0.0000)], [Var(v=-0.0009, grad=0.0000)], [Var(v=-0.0180, grad=0.0000)], [Var(v=0.0135, grad=0.0000)], [Var(v=-0.0118, grad=0.0000)], [Var(v=0.0131, grad=0.0000)], [Var(v=0.0200, grad=0.0000)], [Var(v=-0.0057, grad=0.0000)], [Var(v=-0.0167, grad=0.0000)]]\n"
     ]
    }
   ],
   "source": [
    "NN = [\n",
    "    DenseLayer(1, 5, lambda x: x.relu()),\n",
    "    DenseLayer(5, 1, lambda x: x.identity())\n",
    "]\n",
    "\n",
    "def forward(input, network):\n",
    "\n",
    "  def forward_single(x, network):\n",
    "    for layer in network:\n",
    "        x = layer.forward(x)\n",
    "    return x\n",
    "\n",
    "  output = [ forward_single(input[n], network) for n in range(len(input))]\n",
    "  return output\n",
    "\n",
    "print(forward(x_train, NN))\n"
   ]
  },
  {
   "cell_type": "markdown",
   "metadata": {
    "id": "oLrGJytZFtGm"
   },
   "source": [
    "## Exercise h) Print all network parameters\n",
    "\n",
    "Make a function that prints all the parameters of the network (weights and biases) with information about in which layer the appear. In the object oriented spirit you should introduce a method in the DenseLayer class to print the parameters of a layer. Hint: You can take inspiration from the corresponding method in Var. "
   ]
  },
  {
   "cell_type": "code",
   "execution_count": 46,
   "metadata": {
    "id": "iac-VwYGFtGm"
   },
   "outputs": [
    {
     "name": "stdout",
     "output_type": "stream",
     "text": [
      "Layer 0:\n",
      "Weights:\n",
      "Weight 0,0: Var(v=0.1248, grad=0.0000)\n",
      "Weight 0,1: Var(v=0.1456, grad=0.0000)\n",
      "Weight 0,2: Var(v=0.0583, grad=0.0000)\n",
      "Weight 0,3: Var(v=-0.1350, grad=0.0000)\n",
      "Weight 0,4: Var(v=0.0907, grad=0.0000)\n",
      "Bias:\n",
      "Bias 0: Var(v=0.0000, grad=0.0000)\n",
      "Bias 1: Var(v=0.0000, grad=0.0000)\n",
      "Bias 2: Var(v=0.0000, grad=0.0000)\n",
      "Bias 3: Var(v=0.0000, grad=0.0000)\n",
      "Bias 4: Var(v=0.0000, grad=0.0000)\n",
      "\n",
      "Layer 1:\n",
      "Weights:\n",
      "Weight 0,0: Var(v=-0.1638, grad=0.0000)\n",
      "Weight 1,0: Var(v=-0.1271, grad=0.0000)\n",
      "Weight 2,0: Var(v=0.0585, grad=0.0000)\n",
      "Weight 3,0: Var(v=-0.0080, grad=0.0000)\n",
      "Weight 4,0: Var(v=-0.0060, grad=0.0000)\n",
      "Bias:\n",
      "Bias 0: Var(v=0.0000, grad=0.0000)\n",
      "\n"
     ]
    }
   ],
   "source": [
    "# Insert code here and in the DenseLayer class\n",
    "from typing import Sequence\n",
    "\n",
    "class DenseLayer:\n",
    "    def __init__(self, n_in: int, n_out: int, act_fn, initializer = NormalInitializer()):\n",
    "        self.weights = initializer.init_weights(n_in, n_out)\n",
    "        self.bias = initializer.init_bias(n_out)\n",
    "        self.act_fn = act_fn\n",
    "    \n",
    "    def __repr__(self):    \n",
    "        return 'Weights: ' + repr(self.weights) + ' Biases: ' + repr(self.bias)\n",
    "\n",
    "    def parameters(self) -> Sequence[Var]:\n",
    "      params = []\n",
    "      for r in self.weights:\n",
    "        params += r\n",
    "\n",
    "      return params + self.bias\n",
    "\n",
    "    def forward(self, single_input: Sequence[Var]) -> Sequence[Var]:\n",
    "        # self.weights is a matrix with dimension n_in x n_out. We check that the dimensionality of the input \n",
    "        # to the current layer matches the number of nodes in the current layer\n",
    "        assert len(self.weights) == len(single_input), \"weights and single_input must match in first dimension\"\n",
    "        weights = self.weights\n",
    "        out = []\n",
    "        # For some given data point single_input, we now want to calculate the resulting value in each node in the current layer\n",
    "        # We therefore loop over the (number of) nodes in the current layer:\n",
    "        for j in range(len(weights[0])): \n",
    "            # Initialize the node value depending on its corresponding parameters.\n",
    "            node = self.bias[j] # <- Insert code\n",
    "            # We now finish the linear transformation corresponding to the parameters of the currently considered node.\n",
    "            for i in range(len(single_input)):\n",
    "                node += single_input[i] * weights[i][j]  # <- Insert code\n",
    "            node = self.act_fn(node)\n",
    "            out.append(node)\n",
    "\n",
    "        return out\n",
    "    \n",
    "    def print_parameters(self):\n",
    "        print('Weights:')\n",
    "        for i, row in enumerate(self.weights):\n",
    "            for j, weight in enumerate(row):\n",
    "                print(f'Weight {i},{j}: {weight}')\n",
    "        print('Bias:')\n",
    "        for i, bias in enumerate(self.bias):\n",
    "            print(f'Bias {i}: {bias}')\n",
    "\n",
    "NN = [\n",
    "    DenseLayer(1, 5, lambda x: x.relu()),\n",
    "    DenseLayer(5, 1, lambda x: x.identity())\n",
    "]\n",
    "\n",
    "def print_network_parameters(network):\n",
    "  for i, layer in enumerate(network):\n",
    "    print(f'Layer {i}:')\n",
    "    layer.print_parameters()\n",
    "    print()\n",
    "\n",
    "print_network_parameters(NN)"
   ]
  },
  {
   "cell_type": "markdown",
   "metadata": {
    "id": "_79HOAXrFtHK"
   },
   "source": [
    "## Visualization\n",
    "\n",
    "Now that we have defined our activation functions we can visualize them to see what they look like:"
   ]
  },
  {
   "cell_type": "code",
   "execution_count": 47,
   "metadata": {
    "id": "1FcylHqLTl-Z"
   },
   "outputs": [
    {
     "data": {
      "text/plain": [
       "[<matplotlib.lines.Line2D at 0x116fa4650>]"
      ]
     },
     "execution_count": 47,
     "metadata": {},
     "output_type": "execute_result"
    },
    {
     "data": {
      "image/png": "[encoded data removed]",
      "text/plain": [
       "<Figure size 640x480 with 1 Axes>"
      ]
     },
     "metadata": {},
     "output_type": "display_data"
    }
   ],
   "source": [
    "x = np.linspace(-6, 6, 100)\n",
    "\n",
    "# convert from Var to ndarray  \n",
    "def Var_to_nparray(x):\n",
    "  y = np.zeros((len(x),len(x[0])))\n",
    "  for i in range(len(x)):\n",
    "    for j in range(len(x[0])):\n",
    "      y[i,j] = x[i][j].v\n",
    "  return y\n",
    "\n",
    "# define 1-1 network with weight = 1 and relu activation \n",
    "NN = [ DenseLayer(1, 1, lambda x: x.relu(), initializer = ConstantInitializer(1.0)) ] \n",
    "y = Var_to_nparray(forward(nparray_to_Var(x), NN))\n",
    "\n",
    "#y = Var_to_nparray(relu(nparray_to_Var(x)))\n",
    "plt.plot(x,y)"
   ]
  },
  {
   "cell_type": "code",
   "execution_count": 48,
   "metadata": {
    "id": "oOL2UolJFtHL"
   },
   "outputs": [
    {
     "data": {
      "image/png": "[encoded data removed]",
      "text/plain": [
       "<Figure size 500x500 with 1 Axes>"
      ]
     },
     "metadata": {},
     "output_type": "display_data"
    }
   ],
   "source": [
    "# Testing all activation layers\n",
    "\n",
    "x = np.linspace(-6, 6, 100)\n",
    "units = {\n",
    "    \"identity\": lambda x: x.identity(),\n",
    "    \"sigmoid\": lambda x: x.sigmoid(),\n",
    "    \"relu\": lambda x: x.relu(),\n",
    "    \"tanh\": lambda x: x.tanh()\n",
    "}\n",
    "\n",
    "plt.figure(figsize=(5, 5))\n",
    "[plt.plot(x, Var_to_nparray(forward(nparray_to_Var(x), [DenseLayer(1, 1, unit, initializer = ConstantInitializer(1.0))]) ), label=unit_name, lw=2) for unit_name, unit in units.items()] # unit(nparray_to_Var(x))), label=unit_name, lw=2) for unit_name, unit in units.items()]\n",
    "plt.legend(loc=2, fontsize=16)\n",
    "plt.title('Our activation functions', fontsize=20)\n",
    "plt.ylim([-2, 5])\n",
    "plt.xlim([-6, 6])\n",
    "plt.show()"
   ]
  },
  {
   "cell_type": "markdown",
   "metadata": {
    "id": "b-jdEl-7FtGs"
   },
   "source": [
    "# Advanced initialization schemes\n",
    "\n",
    "If we are not careful with initialization, the signals we propagate forward ($a^{(l)}$, $l=1,\\ldots,L$) and backward ($\\delta^l$, $l=L,L-1,\\ldots,1$) can blow up or shrink to zero. A statistical analysis of the variance of the signals for different activation functions can be found in these two papers: [Glorot initialization](http://proceedings.mlr.press/v9/glorot10a/glorot10a.pdf) and [He initialization](https://arxiv.org/pdf/1502.01852v1.pdf). \n",
    "\n",
    "The result of the analyses are proposals for how to make the initialization such that the variance of the signals (forward and backward) are kept approxmimatly constant when propagating from layer to layer. The exact expressions depend upon the non-linear activation function used. In Glorot initialization, the aim is to keep both the forward and backward variances constant whereas He only aims at keeping the variance in the forward pass constant.\n",
    "\n",
    "We define $n_{in}$ and $n_{out}$ as the number of input units and output units of a particular layer. \n",
    "\n",
    "The Glorot initialization has the form: \n",
    "\n",
    "$$w_{ij} \\sim N \\bigg( 0, \\, \\frac{2 \\alpha }{n_{in} + n_{out}} \\bigg) \\ . $$\n",
    "\n",
    "where $N(\\mu,\\sigma^2)$ is a Gaussian distribution with mean $\\mu$ and variance $\\sigma^2$ and $\\alpha$ is a parameter that depends upon the activation function used. For $\\tanh$, $\\alpha=1$ and for Rectified Linear Unit (ReLU) activations, $\\alpha=2$. (It is also possible to use a uniform distribution for initialization, see [this blog post](https://mmuratarat.github.io/2019-02-25/xavier-glorot-he-weight-init).) \n",
    "\n",
    "The He initialization is very similar\n",
    "\n",
    "$$w_{ij} \\sim N \\bigg( 0, \\, \\frac{\\alpha}{n_{in}} \\bigg) \\ . $$"
   ]
  },
  {
   "cell_type": "markdown",
   "metadata": {
    "id": "mqeyab9qFtGs"
   },
   "source": [
    "## Exercise i) Glorot and He initialization\n",
    " \n",
    "Using the Initializer class, implement functions that implement Glorot and He \n",
    "\n",
    "Explain briefly how you would test numerically that these initializations have the sought after property. Hint: See plots in Glorot paper.\n",
    "\n",
    "Comment: If you want to be more advanced then try to make a universal initializer taking both the activation function and type (Glorot or He) as argument."
   ]
  },
  {
   "cell_type": "code",
   "execution_count": 49,
   "metadata": {
    "id": "Qyk01CgaFtGt"
   },
   "outputs": [],
   "source": [
    "## Glorot\n",
    "import math\n",
    "def DenseLayer_Glorot_tanh(n_in: int, n_out: int):\n",
    "  std = math.sqrt(2 / (n_in + n_out)) # <- replace with proper initialization\n",
    "  return DenseLayer(n_in, n_out, lambda x: x.tanh(), initializer = NormalInitializer(std))\n",
    "\n",
    "## He\n",
    "def DenseLayer_He_relu(n_in: int, n_out: int):\n",
    "  std = math.sqrt(2 / n_in) # <- replace with proper initialization\n",
    "  return DenseLayer(n_in, n_out, lambda x: x.relu(), initializer = NormalInitializer(std))"
   ]
  },
  {
   "cell_type": "markdown",
   "metadata": {},
   "source": [
    "### Answer\n",
    "The expected results:\n",
    "\n",
    "Glorot Initialization:\n",
    "\n",
    "-The variance of the weights should matach the theoritcal value: $\\frac{2}{n_in + n_out}$\n",
    "\n",
    "-The activations should have a balanced spread across their range, avoiding extremes.\n",
    "\n",
    "He Initialization:\n",
    "\n",
    "-The variance of the weights should matach the theoritcal value: $\\frac{2}{n_in}$\n",
    "\n",
    "-The activations should be close to the input variance, ensuring that the ReLU activation does not cause vanishing gradients."
   ]
  },
  {
   "cell_type": "markdown",
   "metadata": {
    "id": "-XyXBD37FtHk"
   },
   "source": [
    "## Exercise j) Forward pass unit test\n",
    "\n",
    "Write a bit of code to make a unit test that the forward pass works. This can be done by defining a simple network with for example all weights equal to one (using the ConstantInitializer method) and identity activation functions. \n",
    "\n",
    "Hints: Use the [assert](https://www.w3schools.com/python/ref_keyword_assert.asp), the nparray_to_Var and the Var_to_nparray commands. "
   ]
  },
  {
   "cell_type": "code",
   "execution_count": 53,
   "metadata": {
    "id": "k0miqRUAFtHl"
   },
   "outputs": [
    {
     "name": "stdout",
     "output_type": "stream",
     "text": [
      "Test passed\n"
     ]
    }
   ],
   "source": [
    "# Insert code here\n",
    "def test_forward_pass():\n",
    "    initializer = ConstantInitializer(weight=1.0,bias=1.0)\n",
    "    network = [\n",
    "        DenseLayer(1, 2, lambda x: x.identity(), initializer = initializer)\n",
    "    ]\n",
    "\n",
    "    # define the input\n",
    "    input = np.array([2.0])\n",
    "    input_var = nparray_to_Var(input)\n",
    "    expected_output = [np.array([3.0, 3.0])] # 2*1 + 1 = 3\n",
    "\n",
    "    # compute the network output\n",
    "    output = forward(input_var, network)\n",
    "    output_var = Var_to_nparray(output)\n",
    "\n",
    "    # check that the output is correct\n",
    "    assert np.allclose(output_var, expected_output), f'Expected {expected_output}, but got {output_var}'\n",
    "    print('Test passed')\n",
    "\n",
    "test_forward_pass()"
   ]
  },
  {
   "cell_type": "markdown",
   "metadata": {
    "id": "faCxhfFnFtHp"
   },
   "source": [
    "# Loss functions\n",
    "\n",
    "We are only missing a loss function to we need to define a loss function and its derivative with respect to the output of the neural network $y$"
   ]
  },
  {
   "cell_type": "code",
   "execution_count": 54,
   "metadata": {
    "id": "I2eDYKvAFtHq"
   },
   "outputs": [],
   "source": [
    "def squared_loss(t, y):\n",
    "  \n",
    "  # add check that sizes agree\n",
    "  assert len(t) == len(y), \"t and y must have the same length\"\n",
    "  for t_instance, y_instance in zip(t, y):\n",
    "    assert len(t_instance) == len(y_instance), \"t and y must have the same length\"\n",
    "    \n",
    "  def squared_loss_single(t, y):\n",
    "    Loss = Var(0.0)\n",
    "    for i in range(len(t)): # sum over outputs\n",
    "      Loss += (t[i]-y[i]) ** 2\n",
    "    return Loss\n",
    "\n",
    "  Loss = Var(0.0)\n",
    "  for n in range(len(t)): # sum over training data\n",
    "    Loss += squared_loss_single(t[n],y[n])\n",
    "  return Loss"
   ]
  },
  {
   "cell_type": "markdown",
   "metadata": {
    "id": "SrwSJ2UWFtHu"
   },
   "source": [
    "## Exercise k) Implement cross entropy loss\n",
    "\n",
    "Insert code below to implement cross-entropy loss for general dimensionality of $t$. Use a logits formulation:\n",
    "$$\n",
    "\\rm{Loss} = - \\sum_i t_i \\, log \\, p_i \n",
    "$$\n",
    "with $p$ given by the the softmax function in terms of the logits $h$:\n",
    "$$\n",
    "p_i = \\frac{\\exp(h_i)}{\\sum_{i'} \\exp(h_{i'})} .\n",
    "$$\n",
    "Inserting $p$ in the expression for the loss gives\n",
    "$$\n",
    "\\rm{Loss} = - \\sum_i t_i h_i + \\rm{LogSumExp}(h) \\ ,\n",
    "$$\n",
    "where \n",
    "$$\n",
    "\\rm{LogSumExp}(h) = \\log \\sum_i \\exp h_i \\ .\n",
    "$$\n",
    "This is true for $t$ being a one-hot vector. \n",
    "\n",
    "Call the function to convince yourself it works. \n",
    "\n",
    "In practice you want to implement a [numerically stable](https://leimao.github.io/blog/LogSumExp/) version of LogSumExp. But we will not bother about that here.\n",
    "\n",
    "Help: You can add these methods in the Var class:\n",
    "\n",
    "    def exp(self):\n",
    "        return Var(exp(self.v), lambda: [(self, exp(self.v))])\n",
    "    \n",
    "    def log(self):\n",
    "        return Var(log(self.v), lambda: [(self, self.v ** -1)])"
   ]
  },
  {
   "cell_type": "code",
   "execution_count": 56,
   "metadata": {
    "id": "6nMuxyfzFtHv"
   },
   "outputs": [],
   "source": [
    "def cross_entropy_loss(t, h):\n",
    "    def logsumexp(logits):\n",
    "        max_logit = max(logits, key = lambda x: x.v)\n",
    "        sum_exp = sum([(logit - max_logit).exp() for logit in logits])\n",
    "        return max_logit + sum_exp.log()\n",
    "    \n",
    "    Loss = Var(0.0)\n",
    "    for n in range(len(t)):# Insert code here\n",
    "        logsumexp_h = logsumexp(h[n])\n",
    "        loss_n = -sum(t[n][i] * h[n][i] for i in range(len(t[n]))) + logsumexp_h\n",
    "        loss += loss_n\n",
    "    return Loss\n"
   ]
  },
  {
   "cell_type": "markdown",
   "metadata": {
    "id": "8fAF5ew4FtHy"
   },
   "source": [
    "# Backward pass\n",
    "\n",
    "Now the magic happens! We get the calculation of the gradients for free. Just do:"
   ]
  },
  {
   "cell_type": "code",
   "execution_count": 57,
   "metadata": {
    "id": "iHyfPPI9Qqwu"
   },
   "outputs": [],
   "source": [
    "NN = [\n",
    "    DenseLayer(1, 5, lambda x: x.relu()),\n",
    "    DenseLayer(5, 1, lambda x: x.identity())\n",
    "]\n",
    "\n",
    "output = forward(x_train, NN)\n",
    "\n",
    "Loss = squared_loss(y_train,output)\n",
    "Loss.backward()"
   ]
  },
  {
   "cell_type": "markdown",
   "metadata": {
    "id": "49biIAYKQ1oG"
   },
   "source": [
    "and the gradients will be calculated:"
   ]
  },
  {
   "cell_type": "code",
   "execution_count": 58,
   "metadata": {
    "id": "_rGt1bq_Q7uk"
   },
   "outputs": [
    {
     "name": "stdout",
     "output_type": "stream",
     "text": [
      "Layer 0 \n",
      " Weights: [[Var(v=-0.0545, grad=7.7979), Var(v=-0.1978, grad=7.1261), Var(v=-0.1960, grad=-4.9655), Var(v=-0.0076, grad=-8.0950), Var(v=-0.0911, grad=3.0502)]] Biases: [Var(v=0.0000, grad=-7.0864), Var(v=0.0000, grad=-6.4759), Var(v=0.0000, grad=4.5124), Var(v=0.0000, grad=7.3564), Var(v=0.0000, grad=-2.7719)]\n",
      "Layer 1 \n",
      " Weights: [[Var(v=-0.0822, grad=5.1684)], [Var(v=-0.0751, grad=18.7629)], [Var(v=0.0523, grad=18.5946)], [Var(v=0.0853, grad=0.7239)], [Var(v=-0.0321, grad=8.6402)]] Biases: [Var(v=0.0000, grad=-1.0513)]\n"
     ]
    },
    {
     "data": {
      "text/plain": [
       "[None, None]"
      ]
     },
     "execution_count": 58,
     "metadata": {},
     "output_type": "execute_result"
    }
   ],
   "source": [
    "[print('Layer', i, '\\n', NN[i]) for i in range(len(NN))] "
   ]
  },
  {
   "cell_type": "markdown",
   "metadata": {
    "id": "D7d7qK0uFtH9"
   },
   "source": [
    "# Backward pass unit test\n",
    "\n",
    "Above we used finite differences to test that Nanograd is actually doing what it is supposed to do. We can in principle try the same for the neural network. But we will trust that the test above is enough."
   ]
  },
  {
   "cell_type": "markdown",
   "metadata": {
    "id": "WgBi8GOSFtIN"
   },
   "source": [
    "# Training and validation\n",
    "\n",
    "We are ready to train some neural networks!\n",
    "\n",
    "We initialize again:"
   ]
  },
  {
   "cell_type": "code",
   "execution_count": 59,
   "metadata": {
    "id": "01ePmzBzRtdh"
   },
   "outputs": [],
   "source": [
    "NN = [\n",
    "    DenseLayer(1, 15, lambda x: x.relu()),\n",
    "    DenseLayer(15, 50, lambda x: x.relu()),\n",
    "    DenseLayer(50, 1, lambda x: x.identity())\n",
    "]\n",
    "\n",
    "output = forward(x_train, NN)\n",
    "\n",
    "Loss = squared_loss(y_train,output)\n",
    "Loss.backward()"
   ]
  },
  {
   "cell_type": "markdown",
   "metadata": {
    "id": "10iRPiQ1ISHw"
   },
   "source": [
    "and make an update:\n",
    "\n",
    "We introduce a help function parameters to have a handle in all parameters in the network."
   ]
  },
  {
   "cell_type": "code",
   "execution_count": 60,
   "metadata": {
    "id": "dhAI7eyeznia"
   },
   "outputs": [
    {
     "name": "stdout",
     "output_type": "stream",
     "text": [
      "Network before update:\n",
      "Layer 0 \n",
      " Weights: [[Var(v=0.1339, grad=-5.5356), Var(v=-0.0948, grad=1.0951), Var(v=-0.1990, grad=-4.1783), Var(v=-0.0861, grad=-1.8806), Var(v=-0.1723, grad=-1.4630), Var(v=-0.0292, grad=3.4003), Var(v=0.0942, grad=10.4353), Var(v=-0.2057, grad=5.2301), Var(v=0.0449, grad=-9.6506), Var(v=-0.2150, grad=-6.7303), Var(v=-0.0232, grad=2.2489), Var(v=0.1028, grad=3.3327), Var(v=0.1218, grad=2.6686), Var(v=-0.0059, grad=5.0897), Var(v=0.1905, grad=-9.6598)]] Biases: [Var(v=0.0000, grad=-4.7564), Var(v=0.0000, grad=-0.9957), Var(v=0.0000, grad=3.7988), Var(v=0.0000, grad=1.7098), Var(v=0.0000, grad=1.3301), Var(v=0.0000, grad=-3.0915), Var(v=0.0000, grad=8.9665), Var(v=0.0000, grad=-4.7551), Var(v=0.0000, grad=-8.2922), Var(v=0.0000, grad=6.1190), Var(v=0.0000, grad=-2.0446), Var(v=0.0000, grad=2.8636), Var(v=0.0000, grad=2.2929), Var(v=0.0000, grad=-4.6274), Var(v=0.0000, grad=-8.3001)]\n",
      "Layer 1 \n",
      " Weights: [[Var(v=0.0161, grad=2.4772), Var(v=-0.1234, grad=-0.8593), Var(v=0.0202, grad=0.0000), Var(v=0.1000, grad=-2.1191), Var(v=-0.0984, grad=0.0000), Var(v=0.1081, grad=0.0000), Var(v=0.0276, grad=1.9864), Var(v=0.2664, grad=-1.0215), Var(v=0.0006, grad=-3.0567), Var(v=-0.2053, grad=0.0000), Var(v=0.1093, grad=0.0000), Var(v=-0.0504, grad=0.0000), Var(v=-0.1101, grad=0.0000), Var(v=-0.1682, grad=0.0000), Var(v=0.0632, grad=0.0000), Var(v=-0.1431, grad=0.0000), Var(v=-0.2240, grad=0.0000), Var(v=0.0346, grad=0.0000), Var(v=-0.0265, grad=0.0000), Var(v=-0.1844, grad=0.0000), Var(v=0.0805, grad=-2.2108), Var(v=0.1324, grad=0.5758), Var(v=-0.0346, grad=-0.5382), Var(v=0.0235, grad=0.0000), Var(v=-0.1534, grad=0.0000), Var(v=-0.0666, grad=-0.5279), Var(v=0.1394, grad=-0.3355), Var(v=0.1010, grad=-0.3090), Var(v=-0.1893, grad=1.4076), Var(v=-0.0096, grad=-1.8288), Var(v=0.2199, grad=0.0000), Var(v=0.0031, grad=0.0000), Var(v=0.0028, grad=-1.6270), Var(v=-0.0166, grad=0.5381), Var(v=-0.0660, grad=0.0000), Var(v=0.1182, grad=-0.7327), Var(v=0.0206, grad=-0.6555), Var(v=-0.1824, grad=0.0000), Var(v=-0.0890, grad=0.0000), Var(v=-0.0854, grad=0.0000), Var(v=-0.0248, grad=1.2992), Var(v=0.0085, grad=0.0000), Var(v=-0.1823, grad=0.0000), Var(v=-0.0106, grad=0.1769), Var(v=-0.0001, grad=0.2928), Var(v=0.0016, grad=1.2274), Var(v=-0.1473, grad=0.0000), Var(v=-0.1741, grad=0.0000), Var(v=-0.0649, grad=-1.0588), Var(v=0.0276, grad=-0.1411)], [Var(v=-0.0203, grad=-1.7069), Var(v=0.1334, grad=0.5921), Var(v=-0.0771, grad=0.0000), Var(v=-0.0896, grad=1.4601), Var(v=-0.0531, grad=0.2005), Var(v=0.1297, grad=1.3558), Var(v=0.1976, grad=0.0000), Var(v=-0.0413, grad=0.0000), Var(v=-0.0725, grad=0.0000), Var(v=0.0361, grad=0.6743), Var(v=-0.0536, grad=0.0000), Var(v=-0.0093, grad=-0.3665), Var(v=-0.0741, grad=-0.1560), Var(v=0.1693, grad=0.0000), Var(v=0.0295, grad=0.0000), Var(v=0.2304, grad=-0.7508), Var(v=0.0550, grad=0.0000), Var(v=-0.0977, grad=0.0000), Var(v=-0.0467, grad=0.9630), Var(v=0.0118, grad=0.0000), Var(v=-0.0923, grad=1.5233), Var(v=-0.1115, grad=-0.3968), Var(v=0.2024, grad=0.3708), Var(v=-0.0801, grad=0.0000), Var(v=-0.2257, grad=-0.2809), Var(v=0.0076, grad=0.0000), Var(v=-0.0536, grad=0.0000), Var(v=0.0169, grad=0.0000), Var(v=-0.0409, grad=0.0000), Var(v=0.2277, grad=0.0000), Var(v=-0.0235, grad=0.0000), Var(v=-0.1114, grad=0.0000), Var(v=-0.0623, grad=0.0000), Var(v=0.0673, grad=0.0000), Var(v=0.1004, grad=0.0000), Var(v=-0.1349, grad=0.0000), Var(v=0.0676, grad=0.0000), Var(v=-0.0020, grad=-0.8990), Var(v=-0.0021, grad=0.0000), Var(v=-0.0310, grad=-0.8404), Var(v=-0.1439, grad=0.0000), Var(v=0.0371, grad=0.2372), Var(v=0.0248, grad=2.0098), Var(v=-0.0767, grad=0.0000), Var(v=0.0201, grad=-0.2018), Var(v=0.0004, grad=0.0000), Var(v=-0.1406, grad=0.0000), Var(v=0.2825, grad=-0.6565), Var(v=-0.0171, grad=0.7295), Var(v=0.0652, grad=0.0000)], [Var(v=0.0421, grad=-3.5819), Var(v=0.0392, grad=1.2425), Var(v=-0.0773, grad=0.0000), Var(v=0.1570, grad=3.0641), Var(v=0.0741, grad=0.4208), Var(v=0.1005, grad=2.8452), Var(v=-0.1272, grad=0.0000), Var(v=-0.0080, grad=0.0000), Var(v=-0.0086, grad=0.0000), Var(v=0.0304, grad=1.4151), Var(v=0.0358, grad=0.0000), Var(v=0.0462, grad=-0.7691), Var(v=-0.0493, grad=-0.3273), Var(v=-0.0432, grad=0.0000), Var(v=-0.0210, grad=0.0000), Var(v=0.0338, grad=-1.5756), Var(v=0.0047, grad=0.0000), Var(v=0.1678, grad=0.0000), Var(v=0.1125, grad=2.0209), Var(v=-0.0928, grad=0.0000), Var(v=0.0399, grad=3.1967), Var(v=-0.1219, grad=-0.8326), Var(v=0.0939, grad=0.7782), Var(v=-0.1132, grad=0.0000), Var(v=0.1726, grad=-0.5895), Var(v=-0.0685, grad=0.0000), Var(v=-0.0851, grad=0.0000), Var(v=-0.0118, grad=0.0000), Var(v=-0.0799, grad=0.0000), Var(v=0.0367, grad=0.0000), Var(v=-0.0398, grad=0.0000), Var(v=0.0342, grad=0.0000), Var(v=-0.0427, grad=0.0000), Var(v=-0.0337, grad=0.0000), Var(v=-0.1246, grad=0.0000), Var(v=0.0954, grad=0.0000), Var(v=-0.0355, grad=0.0000), Var(v=0.0163, grad=-1.8867), Var(v=-0.1751, grad=0.0000), Var(v=0.0446, grad=-1.7635), Var(v=-0.0273, grad=0.0000), Var(v=-0.1153, grad=0.4977), Var(v=-0.0673, grad=4.2176), Var(v=-0.0222, grad=0.0000), Var(v=-0.0102, grad=-0.4234), Var(v=0.0663, grad=0.0000), Var(v=-0.0564, grad=0.0000), Var(v=0.0867, grad=-1.3776), Var(v=0.1982, grad=1.5310), Var(v=-0.0591, grad=0.0000)], [Var(v=0.2085, grad=-1.5506), Var(v=0.0307, grad=0.5379), Var(v=-0.0572, grad=0.0000), Var(v=-0.0759, grad=1.3265), Var(v=0.0004, grad=0.1822), Var(v=0.1203, grad=1.2317), Var(v=-0.0106, grad=0.0000), Var(v=-0.0309, grad=0.0000), Var(v=-0.0970, grad=0.0000), Var(v=-0.0096, grad=0.6126), Var(v=0.1266, grad=0.0000), Var(v=-0.0049, grad=-0.3330), Var(v=0.0984, grad=-0.1417), Var(v=0.2055, grad=0.0000), Var(v=-0.2577, grad=0.0000), Var(v=-0.0619, grad=-0.6821), Var(v=-0.1302, grad=0.0000), Var(v=-0.0398, grad=0.0000), Var(v=0.1156, grad=0.8748), Var(v=-0.1365, grad=0.0000), Var(v=0.0953, grad=1.3839), Var(v=0.0119, grad=-0.3604), Var(v=0.0889, grad=0.3369), Var(v=0.0098, grad=0.0000), Var(v=0.0680, grad=-0.2552), Var(v=0.1659, grad=0.0000), Var(v=-0.2476, grad=0.0000), Var(v=0.0019, grad=0.0000), Var(v=-0.0185, grad=0.0000), Var(v=0.0081, grad=0.0000), Var(v=0.2250, grad=0.0000), Var(v=-0.0618, grad=0.0000), Var(v=-0.0295, grad=0.0000), Var(v=-0.0325, grad=0.0000), Var(v=0.0264, grad=0.0000), Var(v=-0.1174, grad=0.0000), Var(v=0.0004, grad=0.0000), Var(v=0.0031, grad=-0.8167), Var(v=0.1759, grad=0.0000), Var(v=-0.1252, grad=-0.7634), Var(v=0.1243, grad=0.0000), Var(v=0.1815, grad=0.2155), Var(v=-0.0384, grad=1.8258), Var(v=0.1453, grad=0.0000), Var(v=-0.1630, grad=-0.1833), Var(v=-0.1278, grad=0.0000), Var(v=0.0609, grad=0.0000), Var(v=-0.0137, grad=-0.5964), Var(v=0.0839, grad=0.6628), Var(v=-0.0384, grad=0.0000)], [Var(v=0.1069, grad=-3.1019), Var(v=0.0736, grad=1.0760), Var(v=0.1164, grad=0.0000), Var(v=0.2045, grad=2.6535), Var(v=0.0134, grad=0.3644), Var(v=-0.0271, grad=2.4640), Var(v=0.0395, grad=0.0000), Var(v=0.0106, grad=0.0000), Var(v=-0.1426, grad=0.0000), Var(v=0.1680, grad=1.2254), Var(v=0.1016, grad=0.0000), Var(v=0.0996, grad=-0.6661), Var(v=-0.1335, grad=-0.2834), Var(v=-0.0254, grad=0.0000), Var(v=-0.1749, grad=0.0000), Var(v=-0.0863, grad=-1.3645), Var(v=-0.2551, grad=0.0000), Var(v=0.0918, grad=0.0000), Var(v=-0.0020, grad=1.7501), Var(v=-0.0265, grad=0.0000), Var(v=0.0511, grad=2.7684), Var(v=0.1406, grad=-0.7211), Var(v=-0.2013, grad=0.6739), Var(v=-0.0578, grad=0.0000), Var(v=-0.0559, grad=-0.5105), Var(v=-0.0414, grad=0.0000), Var(v=-0.0091, grad=0.0000), Var(v=-0.1808, grad=0.0000), Var(v=-0.0134, grad=0.0000), Var(v=-0.0640, grad=0.0000), Var(v=-0.0739, grad=0.0000), Var(v=0.0786, grad=0.0000), Var(v=0.0784, grad=0.0000), Var(v=-0.1092, grad=0.0000), Var(v=0.0798, grad=0.0000), Var(v=-0.0954, grad=0.0000), Var(v=-0.0848, grad=0.0000), Var(v=0.1430, grad=-1.6339), Var(v=-0.1510, grad=0.0000), Var(v=-0.0008, grad=-1.5272), Var(v=-0.0814, grad=0.0000), Var(v=0.1007, grad=0.4310), Var(v=-0.0959, grad=3.6525), Var(v=0.0231, grad=0.0000), Var(v=0.0800, grad=-0.3667), Var(v=-0.1276, grad=0.0000), Var(v=0.1017, grad=0.0000), Var(v=-0.1123, grad=-1.1930), Var(v=0.1764, grad=1.3258), Var(v=-0.0736, grad=0.0000)], [Var(v=0.0792, grad=-0.5261), Var(v=-0.0138, grad=0.1825), Var(v=0.0221, grad=0.0000), Var(v=-0.0664, grad=0.4500), Var(v=-0.1295, grad=0.0618), Var(v=-0.1099, grad=0.4179), Var(v=-0.0426, grad=0.0000), Var(v=0.1529, grad=0.0000), Var(v=-0.0180, grad=0.0000), Var(v=-0.1269, grad=0.2078), Var(v=0.1016, grad=0.0000), Var(v=0.0008, grad=-0.1130), Var(v=-0.0260, grad=-0.0481), Var(v=0.1451, grad=0.0000), Var(v=0.1119, grad=0.0000), Var(v=0.0587, grad=-0.2314), Var(v=0.0494, grad=0.0000), Var(v=-0.0305, grad=0.0000), Var(v=0.0015, grad=0.2968), Var(v=-0.0563, grad=0.0000), Var(v=-0.0420, grad=0.4695), Var(v=-0.0967, grad=-0.1223), Var(v=0.0058, grad=0.1143), Var(v=0.0445, grad=0.0000), Var(v=0.1529, grad=-0.0866), Var(v=-0.1439, grad=0.0000), Var(v=-0.0063, grad=0.0000), Var(v=-0.0441, grad=0.0000), Var(v=-0.2704, grad=0.0000), Var(v=-0.0762, grad=0.0000), Var(v=-0.1098, grad=0.0000), Var(v=0.0409, grad=0.0000), Var(v=-0.0478, grad=0.0000), Var(v=0.1942, grad=0.0000), Var(v=-0.0984, grad=0.0000), Var(v=-0.1258, grad=0.0000), Var(v=-0.3025, grad=0.0000), Var(v=-0.1506, grad=-0.2771), Var(v=-0.2076, grad=0.0000), Var(v=-0.0056, grad=-0.2590), Var(v=-0.1470, grad=0.0000), Var(v=-0.0212, grad=0.0731), Var(v=0.0200, grad=0.6194), Var(v=0.0499, grad=0.0000), Var(v=0.0763, grad=-0.0622), Var(v=-0.0532, grad=0.0000), Var(v=0.0345, grad=0.0000), Var(v=-0.1442, grad=-0.2023), Var(v=0.0399, grad=0.2248), Var(v=-0.0271, grad=0.0000)], [Var(v=0.2680, grad=1.7438), Var(v=0.2029, grad=-0.6049), Var(v=-0.0483, grad=0.0000), Var(v=-0.1143, grad=-1.4917), Var(v=-0.2714, grad=0.0000), Var(v=-0.0522, grad=0.0000), Var(v=0.0302, grad=1.3983), Var(v=-0.1205, grad=-0.7191), Var(v=0.0198, grad=-2.1517), Var(v=0.0163, grad=0.0000), Var(v=0.0321, grad=0.0000), Var(v=-0.1639, grad=0.0000), Var(v=-0.0466, grad=0.0000), Var(v=-0.0273, grad=0.0000), Var(v=0.0537, grad=0.0000), Var(v=-0.0211, grad=0.0000), Var(v=0.0046, grad=0.0000), Var(v=-0.1027, grad=0.0000), Var(v=-0.1496, grad=0.0000), Var(v=0.1045, grad=0.0000), Var(v=-0.0434, grad=-1.5563), Var(v=0.0039, grad=0.4053), Var(v=0.1620, grad=-0.3789), Var(v=-0.1636, grad=0.0000), Var(v=0.0073, grad=0.0000), Var(v=0.0153, grad=-0.3716), Var(v=-0.1331, grad=-0.2362), Var(v=-0.0021, grad=-0.2175), Var(v=0.0483, grad=0.9909), Var(v=0.0322, grad=-1.2873), Var(v=-0.1824, grad=0.0000), Var(v=-0.0194, grad=0.0000), Var(v=-0.0791, grad=-1.1453), Var(v=0.0947, grad=0.3788), Var(v=-0.0031, grad=0.0000), Var(v=0.1474, grad=-0.5158), Var(v=-0.0346, grad=-0.4614), Var(v=0.0179, grad=0.0000), Var(v=-0.0232, grad=0.0000), Var(v=0.0286, grad=0.0000), Var(v=0.0297, grad=0.9145), Var(v=0.0641, grad=0.0000), Var(v=0.0136, grad=0.0000), Var(v=-0.1871, grad=0.1245), Var(v=0.0892, grad=0.2061), Var(v=0.1937, grad=0.8640), Var(v=-0.0557, grad=0.0000), Var(v=-0.0574, grad=0.0000), Var(v=-0.1101, grad=-0.7453), Var(v=-0.0350, grad=-0.0993)], [Var(v=0.0980, grad=-3.7039), Var(v=-0.1511, grad=1.2848), Var(v=-0.1297, grad=0.0000), Var(v=0.1495, grad=3.1685), Var(v=-0.0450, grad=0.4352), Var(v=0.0304, grad=2.9422), Var(v=-0.0470, grad=0.0000), Var(v=0.0310, grad=0.0000), Var(v=0.1572, grad=0.0000), Var(v=-0.1181, grad=1.4633), Var(v=-0.0616, grad=0.0000), Var(v=0.1785, grad=-0.7953), Var(v=0.2110, grad=-0.3385), Var(v=-0.0853, grad=0.0000), Var(v=-0.1020, grad=0.0000), Var(v=0.0603, grad=-1.6293), Var(v=0.0449, grad=0.0000), Var(v=-0.0363, grad=0.0000), Var(v=-0.0375, grad=2.0897), Var(v=-0.0983, grad=0.0000), Var(v=0.0959, grad=3.3057), Var(v=0.0520, grad=-0.8610), Var(v=-0.0203, grad=0.8047), Var(v=-0.0082, grad=0.0000), Var(v=-0.0467, grad=-0.6096), Var(v=0.0071, grad=0.0000), Var(v=-0.0511, grad=0.0000), Var(v=0.0507, grad=0.0000), Var(v=0.0869, grad=0.0000), Var(v=-0.1859, grad=0.0000), Var(v=0.1320, grad=0.0000), Var(v=-0.1203, grad=0.0000), Var(v=-0.0257, grad=0.0000), Var(v=0.0307, grad=0.0000), Var(v=0.0066, grad=0.0000), Var(v=-0.0244, grad=0.0000), Var(v=0.0625, grad=0.0000), Var(v=0.0661, grad=-1.9509), Var(v=0.1660, grad=0.0000), Var(v=0.1701, grad=-1.8236), Var(v=-0.1931, grad=0.0000), Var(v=-0.1682, grad=0.5147), Var(v=-0.0601, grad=4.3614), Var(v=-0.1371, grad=0.0000), Var(v=0.0959, grad=-0.4378), Var(v=-0.2395, grad=0.0000), Var(v=0.1059, grad=0.0000), Var(v=-0.0503, grad=-1.4246), Var(v=-0.0166, grad=1.5831), Var(v=-0.0033, grad=0.0000)], [Var(v=-0.0524, grad=0.8300), Var(v=-0.0969, grad=-0.2879), Var(v=-0.0894, grad=0.0000), Var(v=0.1281, grad=-0.7100), Var(v=0.0017, grad=0.0000), Var(v=0.1808, grad=0.0000), Var(v=-0.2770, grad=0.6656), Var(v=0.0708, grad=-0.3423), Var(v=-0.1601, grad=-1.0242), Var(v=-0.0240, grad=0.0000), Var(v=-0.0770, grad=0.0000), Var(v=-0.1352, grad=0.0000), Var(v=-0.0110, grad=0.0000), Var(v=0.0373, grad=0.0000), Var(v=0.0802, grad=0.0000), Var(v=-0.0321, grad=0.0000), Var(v=-0.0516, grad=0.0000), Var(v=-0.0230, grad=0.0000), Var(v=0.0989, grad=0.0000), Var(v=-0.0301, grad=0.0000), Var(v=0.0206, grad=-0.7408), Var(v=0.0047, grad=0.1929), Var(v=0.0610, grad=-0.1803), Var(v=0.0291, grad=0.0000), Var(v=-0.0043, grad=0.0000), Var(v=0.0375, grad=-0.1769), Var(v=0.0612, grad=-0.1124), Var(v=0.0311, grad=-0.1035), Var(v=-0.1778, grad=0.4717), Var(v=0.2269, grad=-0.6128), Var(v=-0.0777, grad=0.0000), Var(v=-0.0851, grad=0.0000), Var(v=-0.0034, grad=-0.5452), Var(v=0.0370, grad=0.1803), Var(v=0.0431, grad=0.0000), Var(v=0.0147, grad=-0.2455), Var(v=0.0730, grad=-0.2196), Var(v=0.0063, grad=0.0000), Var(v=-0.1319, grad=0.0000), Var(v=-0.0586, grad=0.0000), Var(v=0.0580, grad=0.4353), Var(v=-0.1028, grad=0.0000), Var(v=0.0513, grad=0.0000), Var(v=-0.0749, grad=0.0593), Var(v=-0.0645, grad=0.0981), Var(v=-0.0247, grad=0.4113), Var(v=-0.0170, grad=0.0000), Var(v=-0.1553, grad=0.0000), Var(v=0.0233, grad=-0.3548), Var(v=0.0338, grad=-0.0473)], [Var(v=-0.0713, grad=-3.8709), Var(v=0.0931, grad=1.3428), Var(v=0.0772, grad=0.0000), Var(v=0.0047, grad=3.3114), Var(v=0.0157, grad=0.4548), Var(v=0.0500, grad=3.0748), Var(v=-0.0334, grad=0.0000), Var(v=-0.1230, grad=0.0000), Var(v=-0.0092, grad=0.0000), Var(v=0.0573, grad=1.5293), Var(v=-0.1223, grad=0.0000), Var(v=0.0974, grad=-0.8312), Var(v=-0.0263, grad=-0.3537), Var(v=-0.2184, grad=0.0000), Var(v=-0.0616, grad=0.0000), Var(v=-0.0250, grad=-1.7028), Var(v=0.0571, grad=0.0000), Var(v=-0.3092, grad=0.0000), Var(v=0.0243, grad=2.1840), Var(v=0.0321, grad=0.0000), Var(v=-0.1464, grad=3.4547), Var(v=0.0674, grad=-0.8998), Var(v=0.0160, grad=0.8410), Var(v=-0.1616, grad=0.0000), Var(v=0.0578, grad=-0.6371), Var(v=0.0254, grad=0.0000), Var(v=-0.1859, grad=0.0000), Var(v=-0.0552, grad=0.0000), Var(v=-0.0796, grad=0.0000), Var(v=0.0078, grad=0.0000), Var(v=-0.1673, grad=0.0000), Var(v=-0.1555, grad=0.0000), Var(v=-0.0022, grad=0.0000), Var(v=0.0004, grad=0.0000), Var(v=-0.0771, grad=0.0000), Var(v=-0.0938, grad=0.0000), Var(v=-0.0675, grad=0.0000), Var(v=-0.0912, grad=-2.0389), Var(v=0.0334, grad=0.0000), Var(v=0.0012, grad=-1.9059), Var(v=0.0029, grad=0.0000), Var(v=0.2486, grad=0.5379), Var(v=0.2502, grad=4.5580), Var(v=0.0222, grad=0.0000), Var(v=-0.0292, grad=-0.4576), Var(v=0.2005, grad=0.0000), Var(v=-0.1245, grad=0.0000), Var(v=0.0960, grad=-1.4888), Var(v=0.0118, grad=1.6545), Var(v=0.0132, grad=0.0000)], [Var(v=0.2184, grad=-0.4169), Var(v=-0.0648, grad=0.1446), Var(v=-0.0753, grad=0.0000), Var(v=0.0909, grad=0.3567), Var(v=0.0932, grad=0.0490), Var(v=-0.1683, grad=0.3312), Var(v=-0.1315, grad=0.0000), Var(v=0.0388, grad=0.0000), Var(v=0.0732, grad=0.0000), Var(v=0.0718, grad=0.1647), Var(v=-0.0549, grad=0.0000), Var(v=0.1233, grad=-0.0895), Var(v=0.1300, grad=-0.0381), Var(v=0.0345, grad=0.0000), Var(v=-0.0892, grad=0.0000), Var(v=0.0317, grad=-0.1834), Var(v=-0.1405, grad=0.0000), Var(v=-0.0257, grad=0.0000), Var(v=0.1057, grad=0.2352), Var(v=-0.2364, grad=0.0000), Var(v=0.0434, grad=0.3721), Var(v=-0.0227, grad=-0.0969), Var(v=-0.1652, grad=0.0906), Var(v=-0.1213, grad=0.0000), Var(v=-0.1401, grad=-0.0686), Var(v=0.1020, grad=0.0000), Var(v=0.0527, grad=0.0000), Var(v=0.2244, grad=0.0000), Var(v=0.0353, grad=0.0000), Var(v=0.0418, grad=0.0000), Var(v=-0.0935, grad=0.0000), Var(v=0.0285, grad=0.0000), Var(v=0.1212, grad=0.0000), Var(v=0.0777, grad=0.0000), Var(v=-0.0432, grad=0.0000), Var(v=-0.1311, grad=0.0000), Var(v=-0.1423, grad=0.0000), Var(v=-0.0047, grad=-0.2196), Var(v=0.0127, grad=0.0000), Var(v=0.0490, grad=-0.2053), Var(v=0.0355, grad=0.0000), Var(v=0.0841, grad=0.0579), Var(v=0.0055, grad=0.4909), Var(v=0.0042, grad=0.0000), Var(v=-0.0837, grad=-0.0493), Var(v=-0.0213, grad=0.0000), Var(v=-0.1897, grad=0.0000), Var(v=-0.1848, grad=-0.1604), Var(v=0.0391, grad=0.1782), Var(v=-0.0036, grad=0.0000)], [Var(v=0.1589, grad=1.9027), Var(v=0.2145, grad=-0.6600), Var(v=-0.1886, grad=0.0000), Var(v=0.0806, grad=-1.6276), Var(v=-0.0617, grad=0.0000), Var(v=0.0316, grad=0.0000), Var(v=0.1721, grad=1.5257), Var(v=0.1115, grad=-0.7846), Var(v=-0.0021, grad=-2.3478), Var(v=0.0900, grad=0.0000), Var(v=-0.1491, grad=0.0000), Var(v=0.1455, grad=0.0000), Var(v=0.0236, grad=0.0000), Var(v=-0.0190, grad=0.0000), Var(v=-0.1306, grad=0.0000), Var(v=-0.1047, grad=0.0000), Var(v=0.0675, grad=0.0000), Var(v=0.0481, grad=0.0000), Var(v=-0.0025, grad=0.0000), Var(v=0.0264, grad=0.0000), Var(v=-0.0893, grad=-1.6981), Var(v=0.0779, grad=0.4423), Var(v=0.0608, grad=-0.4134), Var(v=0.0838, grad=0.0000), Var(v=-0.0327, grad=0.0000), Var(v=-0.1646, grad=-0.4055), Var(v=-0.0217, grad=-0.2577), Var(v=-0.0870, grad=-0.2374), Var(v=0.0445, grad=1.0812), Var(v=-0.0207, grad=-1.4046), Var(v=-0.0471, grad=0.0000), Var(v=0.0474, grad=0.0000), Var(v=0.1234, grad=-1.2497), Var(v=-0.0773, grad=0.4133), Var(v=0.1202, grad=0.0000), Var(v=0.0704, grad=-0.5628), Var(v=0.1186, grad=-0.5035), Var(v=-0.0891, grad=0.0000), Var(v=0.1563, grad=0.0000), Var(v=-0.0511, grad=0.0000), Var(v=0.0095, grad=0.9979), Var(v=-0.0775, grad=0.0000), Var(v=-0.0246, grad=0.0000), Var(v=0.0896, grad=0.1359), Var(v=0.2124, grad=0.2249), Var(v=0.0757, grad=0.9427), Var(v=-0.0925, grad=0.0000), Var(v=0.0079, grad=0.0000), Var(v=0.0576, grad=-0.8132), Var(v=0.0615, grad=-0.1084)], [Var(v=-0.0395, grad=2.2538), Var(v=0.1706, grad=-0.7818), Var(v=0.1436, grad=0.0000), Var(v=-0.1089, grad=-1.9280), Var(v=0.0649, grad=0.0000), Var(v=-0.1796, grad=0.0000), Var(v=0.2165, grad=1.8072), Var(v=-0.0763, grad=-0.9294), Var(v=0.0654, grad=-2.7811), Var(v=-0.0910, grad=0.0000), Var(v=-0.0516, grad=0.0000), Var(v=-0.0811, grad=0.0000), Var(v=-0.0309, grad=0.0000), Var(v=-0.0533, grad=0.0000), Var(v=-0.1202, grad=0.0000), Var(v=0.0976, grad=0.0000), Var(v=-0.0976, grad=0.0000), Var(v=0.0569, grad=0.0000), Var(v=-0.1277, grad=0.0000), Var(v=-0.0888, grad=0.0000), Var(v=0.1192, grad=-2.0115), Var(v=-0.0391, grad=0.5239), Var(v=0.0292, grad=-0.4897), Var(v=-0.1038, grad=0.0000), Var(v=0.0930, grad=0.0000), Var(v=-0.0106, grad=-0.4803), Var(v=-0.1595, grad=-0.3053), Var(v=-0.0187, grad=-0.2812), Var(v=0.2019, grad=1.2807), Var(v=0.1132, grad=-1.6638), Var(v=0.0683, grad=0.0000), Var(v=0.1307, grad=0.0000), Var(v=0.0792, grad=-1.4803), Var(v=0.0135, grad=0.4896), Var(v=-0.0547, grad=0.0000), Var(v=-0.1267, grad=-0.6666), Var(v=-0.0460, grad=-0.5964), Var(v=0.0775, grad=0.0000), Var(v=0.0278, grad=0.0000), Var(v=0.1123, grad=0.0000), Var(v=0.0079, grad=1.1820), Var(v=0.0844, grad=0.0000), Var(v=-0.0548, grad=0.0000), Var(v=0.1367, grad=0.1609), Var(v=0.1066, grad=0.2664), Var(v=0.0972, grad=1.1167), Var(v=-0.0389, grad=0.0000), Var(v=-0.0991, grad=0.0000), Var(v=-0.0335, grad=-0.9633), Var(v=-0.0039, grad=-0.1284)], [Var(v=-0.0665, grad=-0.1070), Var(v=-0.0833, grad=0.0371), Var(v=-0.0880, grad=0.0000), Var(v=-0.0665, grad=0.0916), Var(v=0.2157, grad=0.0126), Var(v=0.0085, grad=0.0850), Var(v=-0.0965, grad=0.0000), Var(v=0.0879, grad=0.0000), Var(v=0.0182, grad=0.0000), Var(v=0.1781, grad=0.0423), Var(v=-0.0150, grad=0.0000), Var(v=0.0270, grad=-0.0230), Var(v=0.1672, grad=-0.0098), Var(v=0.2597, grad=0.0000), Var(v=-0.0506, grad=0.0000), Var(v=0.0580, grad=-0.0471), Var(v=0.0718, grad=0.0000), Var(v=0.1048, grad=0.0000), Var(v=-0.0949, grad=0.0604), Var(v=-0.0415, grad=0.0000), Var(v=-0.0115, grad=0.0955), Var(v=0.0396, grad=-0.0249), Var(v=0.0764, grad=0.0233), Var(v=0.0218, grad=0.0000), Var(v=-0.0679, grad=-0.0176), Var(v=-0.1180, grad=0.0000), Var(v=-0.0762, grad=0.0000), Var(v=-0.0350, grad=0.0000), Var(v=0.0059, grad=0.0000), Var(v=0.1506, grad=0.0000), Var(v=0.1083, grad=0.0000), Var(v=0.1968, grad=0.0000), Var(v=0.0459, grad=0.0000), Var(v=-0.0298, grad=0.0000), Var(v=0.1455, grad=0.0000), Var(v=0.0514, grad=0.0000), Var(v=0.0248, grad=0.0000), Var(v=0.0710, grad=-0.0564), Var(v=0.0392, grad=0.0000), Var(v=0.0199, grad=-0.0527), Var(v=0.0231, grad=0.0000), Var(v=-0.1476, grad=0.0149), Var(v=-0.1261, grad=0.1260), Var(v=-0.0140, grad=0.0000), Var(v=0.0241, grad=-0.0127), Var(v=0.0236, grad=0.0000), Var(v=0.1245, grad=0.0000), Var(v=0.0780, grad=-0.0412), Var(v=-0.0587, grad=0.0457), Var(v=0.0725, grad=0.0000)], [Var(v=-0.0362, grad=3.5255), Var(v=0.0993, grad=-1.2229), Var(v=-0.2466, grad=0.0000), Var(v=0.2236, grad=-3.0159), Var(v=0.0543, grad=0.0000), Var(v=-0.0890, grad=0.0000), Var(v=-0.0167, grad=2.8270), Var(v=-0.0520, grad=-1.4538), Var(v=0.1886, grad=-4.3503), Var(v=0.0450, grad=0.0000), Var(v=-0.0596, grad=0.0000), Var(v=0.1160, grad=0.0000), Var(v=-0.0268, grad=0.0000), Var(v=-0.1280, grad=0.0000), Var(v=-0.2588, grad=0.0000), Var(v=-0.0828, grad=0.0000), Var(v=-0.0707, grad=0.0000), Var(v=-0.2643, grad=0.0000), Var(v=0.1174, grad=0.0000), Var(v=0.1033, grad=0.0000), Var(v=0.0318, grad=-3.1464), Var(v=-0.0160, grad=0.8195), Var(v=0.0353, grad=-0.7660), Var(v=0.0414, grad=0.0000), Var(v=-0.1350, grad=0.0000), Var(v=0.1450, grad=-0.7513), Var(v=0.0946, grad=-0.4775), Var(v=0.1935, grad=-0.4398), Var(v=0.0635, grad=2.0033), Var(v=-0.0615, grad=-2.6027), Var(v=-0.0923, grad=0.0000), Var(v=-0.0980, grad=0.0000), Var(v=-0.0392, grad=-2.3156), Var(v=0.1362, grad=0.7658), Var(v=-0.0273, grad=0.0000), Var(v=0.0341, grad=-1.0428), Var(v=0.1115, grad=-0.9329), Var(v=-0.0187, grad=0.0000), Var(v=-0.0614, grad=0.0000), Var(v=-0.0631, grad=0.0000), Var(v=0.0006, grad=1.8490), Var(v=-0.0816, grad=0.0000), Var(v=-0.1118, grad=0.0000), Var(v=0.0981, grad=0.2517), Var(v=0.0483, grad=0.4167), Var(v=0.0251, grad=1.7468), Var(v=0.0326, grad=0.0000), Var(v=0.0440, grad=0.0000), Var(v=0.0982, grad=-1.5069), Var(v=0.1507, grad=-0.2009)]] Biases: [Var(v=0.0000, grad=-0.4672), Var(v=0.0000, grad=0.1621), Var(v=0.0000, grad=0.0000), Var(v=0.0000, grad=0.3997), Var(v=0.0000, grad=1.9230), Var(v=0.0000, grad=13.0014), Var(v=0.0000, grad=12.7500), Var(v=0.0000, grad=-6.5567), Var(v=0.0000, grad=-19.6203), Var(v=0.0000, grad=6.4662), Var(v=0.0000, grad=0.0000), Var(v=0.0000, grad=-3.5146), Var(v=0.0000, grad=-1.4956), Var(v=0.0000, grad=0.0000), Var(v=0.0000, grad=0.0000), Var(v=0.0000, grad=-7.2000), Var(v=0.0000, grad=0.0000), Var(v=0.0000, grad=0.0000), Var(v=0.0000, grad=9.2345), Var(v=0.0000, grad=0.0000), Var(v=0.0000, grad=0.4170), Var(v=0.0000, grad=-0.1086), Var(v=0.0000, grad=0.1015), Var(v=0.0000, grad=0.0000), Var(v=0.0000, grad=-2.6937), Var(v=0.0000, grad=-3.3886), Var(v=0.0000, grad=-2.1536), Var(v=0.0000, grad=-1.9836), Var(v=0.0000, grad=9.0352), Var(v=0.0000, grad=-11.7384), Var(v=0.0000, grad=0.0000), Var(v=0.0000, grad=0.0000), Var(v=0.0000, grad=-10.4435), Var(v=0.0000, grad=3.4539), Var(v=0.0000, grad=0.0000), Var(v=0.0000, grad=-4.7032), Var(v=0.0000, grad=-4.2075), Var(v=0.0000, grad=-8.6212), Var(v=0.0000, grad=0.0000), Var(v=0.0000, grad=-8.0586), Var(v=0.0000, grad=8.3392), Var(v=0.0000, grad=2.2744), Var(v=0.0000, grad=19.2729), Var(v=0.0000, grad=1.1353), Var(v=0.0000, grad=-0.0552), Var(v=0.0000, grad=7.8783), Var(v=0.0000, grad=0.0000), Var(v=0.0000, grad=-6.2951), Var(v=0.0000, grad=0.1997), Var(v=0.0000, grad=-0.9059)]\n",
      "Layer 2 \n",
      " Weights: [[Var(v=-0.1849, grad=2.3449)], [Var(v=0.0641, grad=-3.8346)], [Var(v=-0.1465, grad=0.0000)], [Var(v=0.1582, grad=3.4762)], [Var(v=0.0217, grad=0.5681)], [Var(v=0.1469, grad=4.6675)], [Var(v=-0.1482, grad=-3.5026)], [Var(v=0.0762, grad=-1.9748)], [Var(v=0.2281, grad=-3.8492)], [Var(v=0.0730, grad=2.3984)], [Var(v=-0.0142, grad=0.0000)], [Var(v=-0.0397, grad=8.3532)], [Var(v=-0.0169, grad=0.9397)], [Var(v=-0.0273, grad=0.0000)], [Var(v=0.0623, grad=0.0000)], [Var(v=-0.0813, grad=1.7715)], [Var(v=-0.0032, grad=0.0000)], [Var(v=0.0988, grad=0.0000)], [Var(v=0.1043, grad=2.6286)], [Var(v=-0.1332, grad=0.0000)], [Var(v=0.1650, grad=-1.4957)], [Var(v=-0.0430, grad=-0.6364)], [Var(v=0.0402, grad=-2.3214)], [Var(v=-0.0133, grad=0.0000)], [Var(v=-0.0304, grad=1.2461)], [Var(v=0.0394, grad=-0.3625)], [Var(v=0.0250, grad=-0.5242)], [Var(v=0.0231, grad=-4.0396)], [Var(v=-0.1051, grad=-1.2510)], [Var(v=0.1365, grad=-1.1876)], [Var(v=0.0245, grad=0.0000)], [Var(v=-0.0077, grad=0.0000)], [Var(v=0.1214, grad=-0.7649)], [Var(v=-0.0402, grad=-2.8033)], [Var(v=-0.0088, grad=0.0000)], [Var(v=0.0547, grad=-2.8714)], [Var(v=0.0489, grad=-3.0632)], [Var(v=-0.0974, grad=1.7393)], [Var(v=0.1572, grad=0.0000)], [Var(v=-0.0910, grad=3.0545)], [Var(v=-0.0970, grad=-0.4146)], [Var(v=0.0257, grad=3.2003)], [Var(v=0.2177, grad=1.0258)], [Var(v=-0.0132, grad=-2.2158)], [Var(v=-0.0219, grad=-3.6419)], [Var(v=-0.0916, grad=-4.1815)], [Var(v=0.2524, grad=0.0000)], [Var(v=-0.0711, grad=2.5107)], [Var(v=0.0790, grad=7.1756)], [Var(v=0.0105, grad=-3.6515)]] Biases: [Var(v=0.0000, grad=2.5271)]\n",
      "\n",
      "Network after update:\n",
      "Layer 0 \n",
      " Weights: [[Var(v=0.1892, grad=-5.5356), Var(v=-0.1058, grad=1.0951), Var(v=-0.1572, grad=-4.1783), Var(v=-0.0673, grad=-1.8806), Var(v=-0.1577, grad=-1.4630), Var(v=-0.0632, grad=3.4003), Var(v=-0.0101, grad=10.4353), Var(v=-0.2580, grad=5.2301), Var(v=0.1414, grad=-9.6506), Var(v=-0.1477, grad=-6.7303), Var(v=-0.0456, grad=2.2489), Var(v=0.0695, grad=3.3327), Var(v=0.0951, grad=2.6686), Var(v=-0.0568, grad=5.0897), Var(v=0.2871, grad=-9.6598)]] Biases: [Var(v=0.0476, grad=-4.7564), Var(v=0.0100, grad=-0.9957), Var(v=-0.0380, grad=3.7988), Var(v=-0.0171, grad=1.7098), Var(v=-0.0133, grad=1.3301), Var(v=0.0309, grad=-3.0915), Var(v=-0.0897, grad=8.9665), Var(v=0.0476, grad=-4.7551), Var(v=0.0829, grad=-8.2922), Var(v=-0.0612, grad=6.1190), Var(v=0.0204, grad=-2.0446), Var(v=-0.0286, grad=2.8636), Var(v=-0.0229, grad=2.2929), Var(v=0.0463, grad=-4.6274), Var(v=0.0830, grad=-8.3001)]\n",
      "Layer 1 \n",
      " Weights: [[Var(v=-0.0086, grad=2.4772), Var(v=-0.1148, grad=-0.8593), Var(v=0.0202, grad=0.0000), Var(v=0.1212, grad=-2.1191), Var(v=-0.0984, grad=0.0000), Var(v=0.1081, grad=0.0000), Var(v=0.0077, grad=1.9864), Var(v=0.2766, grad=-1.0215), Var(v=0.0312, grad=-3.0567), Var(v=-0.2053, grad=0.0000), Var(v=0.1093, grad=0.0000), Var(v=-0.0504, grad=0.0000), Var(v=-0.1101, grad=0.0000), Var(v=-0.1682, grad=0.0000), Var(v=0.0632, grad=0.0000), Var(v=-0.1431, grad=0.0000), Var(v=-0.2240, grad=0.0000), Var(v=0.0346, grad=0.0000), Var(v=-0.0265, grad=0.0000), Var(v=-0.1844, grad=0.0000), Var(v=0.1026, grad=-2.2108), Var(v=0.1267, grad=0.5758), Var(v=-0.0292, grad=-0.5382), Var(v=0.0235, grad=0.0000), Var(v=-0.1534, grad=0.0000), Var(v=-0.0613, grad=-0.5279), Var(v=0.1428, grad=-0.3355), Var(v=0.1041, grad=-0.3090), Var(v=-0.2034, grad=1.4076), Var(v=0.0087, grad=-1.8288), Var(v=0.2199, grad=0.0000), Var(v=0.0031, grad=0.0000), Var(v=0.0191, grad=-1.6270), Var(v=-0.0220, grad=0.5381), Var(v=-0.0660, grad=0.0000), Var(v=0.1256, grad=-0.7327), Var(v=0.0271, grad=-0.6555), Var(v=-0.1824, grad=0.0000), Var(v=-0.0890, grad=0.0000), Var(v=-0.0854, grad=0.0000), Var(v=-0.0378, grad=1.2992), Var(v=0.0085, grad=0.0000), Var(v=-0.1823, grad=0.0000), Var(v=-0.0124, grad=0.1769), Var(v=-0.0030, grad=0.2928), Var(v=-0.0107, grad=1.2274), Var(v=-0.1473, grad=0.0000), Var(v=-0.1741, grad=0.0000), Var(v=-0.0544, grad=-1.0588), Var(v=0.0290, grad=-0.1411)], [Var(v=-0.0033, grad=-1.7069), Var(v=0.1275, grad=0.5921), Var(v=-0.0771, grad=0.0000), Var(v=-0.1042, grad=1.4601), Var(v=-0.0551, grad=0.2005), Var(v=0.1161, grad=1.3558), Var(v=0.1976, grad=0.0000), Var(v=-0.0413, grad=0.0000), Var(v=-0.0725, grad=0.0000), Var(v=0.0293, grad=0.6743), Var(v=-0.0536, grad=0.0000), Var(v=-0.0056, grad=-0.3665), Var(v=-0.0726, grad=-0.1560), Var(v=0.1693, grad=0.0000), Var(v=0.0295, grad=0.0000), Var(v=0.2379, grad=-0.7508), Var(v=0.0550, grad=0.0000), Var(v=-0.0977, grad=0.0000), Var(v=-0.0563, grad=0.9630), Var(v=0.0118, grad=0.0000), Var(v=-0.1075, grad=1.5233), Var(v=-0.1075, grad=-0.3968), Var(v=0.1987, grad=0.3708), Var(v=-0.0801, grad=0.0000), Var(v=-0.2229, grad=-0.2809), Var(v=0.0076, grad=0.0000), Var(v=-0.0536, grad=0.0000), Var(v=0.0169, grad=0.0000), Var(v=-0.0409, grad=0.0000), Var(v=0.2277, grad=0.0000), Var(v=-0.0235, grad=0.0000), Var(v=-0.1114, grad=0.0000), Var(v=-0.0623, grad=0.0000), Var(v=0.0673, grad=0.0000), Var(v=0.1004, grad=0.0000), Var(v=-0.1349, grad=0.0000), Var(v=0.0676, grad=0.0000), Var(v=0.0070, grad=-0.8990), Var(v=-0.0021, grad=0.0000), Var(v=-0.0226, grad=-0.8404), Var(v=-0.1439, grad=0.0000), Var(v=0.0347, grad=0.2372), Var(v=0.0047, grad=2.0098), Var(v=-0.0767, grad=0.0000), Var(v=0.0222, grad=-0.2018), Var(v=0.0004, grad=0.0000), Var(v=-0.1406, grad=0.0000), Var(v=0.2890, grad=-0.6565), Var(v=-0.0244, grad=0.7295), Var(v=0.0652, grad=0.0000)], [Var(v=0.0779, grad=-3.5819), Var(v=0.0268, grad=1.2425), Var(v=-0.0773, grad=0.0000), Var(v=0.1263, grad=3.0641), Var(v=0.0699, grad=0.4208), Var(v=0.0720, grad=2.8452), Var(v=-0.1272, grad=0.0000), Var(v=-0.0080, grad=0.0000), Var(v=-0.0086, grad=0.0000), Var(v=0.0162, grad=1.4151), Var(v=0.0358, grad=0.0000), Var(v=0.0539, grad=-0.7691), Var(v=-0.0460, grad=-0.3273), Var(v=-0.0432, grad=0.0000), Var(v=-0.0210, grad=0.0000), Var(v=0.0496, grad=-1.5756), Var(v=0.0047, grad=0.0000), Var(v=0.1678, grad=0.0000), Var(v=0.0922, grad=2.0209), Var(v=-0.0928, grad=0.0000), Var(v=0.0079, grad=3.1967), Var(v=-0.1136, grad=-0.8326), Var(v=0.0862, grad=0.7782), Var(v=-0.1132, grad=0.0000), Var(v=0.1785, grad=-0.5895), Var(v=-0.0685, grad=0.0000), Var(v=-0.0851, grad=0.0000), Var(v=-0.0118, grad=0.0000), Var(v=-0.0799, grad=0.0000), Var(v=0.0367, grad=0.0000), Var(v=-0.0398, grad=0.0000), Var(v=0.0342, grad=0.0000), Var(v=-0.0427, grad=0.0000), Var(v=-0.0337, grad=0.0000), Var(v=-0.1246, grad=0.0000), Var(v=0.0954, grad=0.0000), Var(v=-0.0355, grad=0.0000), Var(v=0.0352, grad=-1.8867), Var(v=-0.1751, grad=0.0000), Var(v=0.0622, grad=-1.7635), Var(v=-0.0273, grad=0.0000), Var(v=-0.1203, grad=0.4977), Var(v=-0.1095, grad=4.2176), Var(v=-0.0222, grad=0.0000), Var(v=-0.0060, grad=-0.4234), Var(v=0.0663, grad=0.0000), Var(v=-0.0564, grad=0.0000), Var(v=0.1005, grad=-1.3776), Var(v=0.1829, grad=1.5310), Var(v=-0.0591, grad=0.0000)], [Var(v=0.2240, grad=-1.5506), Var(v=0.0254, grad=0.5379), Var(v=-0.0572, grad=0.0000), Var(v=-0.0892, grad=1.3265), Var(v=-0.0014, grad=0.1822), Var(v=0.1080, grad=1.2317), Var(v=-0.0106, grad=0.0000), Var(v=-0.0309, grad=0.0000), Var(v=-0.0970, grad=0.0000), Var(v=-0.0157, grad=0.6126), Var(v=0.1266, grad=0.0000), Var(v=-0.0015, grad=-0.3330), Var(v=0.0998, grad=-0.1417), Var(v=0.2055, grad=0.0000), Var(v=-0.2577, grad=0.0000), Var(v=-0.0551, grad=-0.6821), Var(v=-0.1302, grad=0.0000), Var(v=-0.0398, grad=0.0000), Var(v=0.1069, grad=0.8748), Var(v=-0.1365, grad=0.0000), Var(v=0.0815, grad=1.3839), Var(v=0.0155, grad=-0.3604), Var(v=0.0855, grad=0.3369), Var(v=0.0098, grad=0.0000), Var(v=0.0705, grad=-0.2552), Var(v=0.1659, grad=0.0000), Var(v=-0.2476, grad=0.0000), Var(v=0.0019, grad=0.0000), Var(v=-0.0185, grad=0.0000), Var(v=0.0081, grad=0.0000), Var(v=0.2250, grad=0.0000), Var(v=-0.0618, grad=0.0000), Var(v=-0.0295, grad=0.0000), Var(v=-0.0325, grad=0.0000), Var(v=0.0264, grad=0.0000), Var(v=-0.1174, grad=0.0000), Var(v=0.0004, grad=0.0000), Var(v=0.0113, grad=-0.8167), Var(v=0.1759, grad=0.0000), Var(v=-0.1175, grad=-0.7634), Var(v=0.1243, grad=0.0000), Var(v=0.1794, grad=0.2155), Var(v=-0.0566, grad=1.8258), Var(v=0.1453, grad=0.0000), Var(v=-0.1611, grad=-0.1833), Var(v=-0.1278, grad=0.0000), Var(v=0.0609, grad=0.0000), Var(v=-0.0077, grad=-0.5964), Var(v=0.0773, grad=0.6628), Var(v=-0.0384, grad=0.0000)], [Var(v=0.1379, grad=-3.1019), Var(v=0.0628, grad=1.0760), Var(v=0.1164, grad=0.0000), Var(v=0.1780, grad=2.6535), Var(v=0.0098, grad=0.3644), Var(v=-0.0517, grad=2.4640), Var(v=0.0395, grad=0.0000), Var(v=0.0106, grad=0.0000), Var(v=-0.1426, grad=0.0000), Var(v=0.1557, grad=1.2254), Var(v=0.1016, grad=0.0000), Var(v=0.1063, grad=-0.6661), Var(v=-0.1307, grad=-0.2834), Var(v=-0.0254, grad=0.0000), Var(v=-0.1749, grad=0.0000), Var(v=-0.0726, grad=-1.3645), Var(v=-0.2551, grad=0.0000), Var(v=0.0918, grad=0.0000), Var(v=-0.0195, grad=1.7501), Var(v=-0.0265, grad=0.0000), Var(v=0.0234, grad=2.7684), Var(v=0.1478, grad=-0.7211), Var(v=-0.2081, grad=0.6739), Var(v=-0.0578, grad=0.0000), Var(v=-0.0508, grad=-0.5105), Var(v=-0.0414, grad=0.0000), Var(v=-0.0091, grad=0.0000), Var(v=-0.1808, grad=0.0000), Var(v=-0.0134, grad=0.0000), Var(v=-0.0640, grad=0.0000), Var(v=-0.0739, grad=0.0000), Var(v=0.0786, grad=0.0000), Var(v=0.0784, grad=0.0000), Var(v=-0.1092, grad=0.0000), Var(v=0.0798, grad=0.0000), Var(v=-0.0954, grad=0.0000), Var(v=-0.0848, grad=0.0000), Var(v=0.1593, grad=-1.6339), Var(v=-0.1510, grad=0.0000), Var(v=0.0145, grad=-1.5272), Var(v=-0.0814, grad=0.0000), Var(v=0.0964, grad=0.4310), Var(v=-0.1324, grad=3.6525), Var(v=0.0231, grad=0.0000), Var(v=0.0837, grad=-0.3667), Var(v=-0.1276, grad=0.0000), Var(v=0.1017, grad=0.0000), Var(v=-0.1003, grad=-1.1930), Var(v=0.1631, grad=1.3258), Var(v=-0.0736, grad=0.0000)], [Var(v=0.0845, grad=-0.5261), Var(v=-0.0156, grad=0.1825), Var(v=0.0221, grad=0.0000), Var(v=-0.0709, grad=0.4500), Var(v=-0.1301, grad=0.0618), Var(v=-0.1141, grad=0.4179), Var(v=-0.0426, grad=0.0000), Var(v=0.1529, grad=0.0000), Var(v=-0.0180, grad=0.0000), Var(v=-0.1290, grad=0.2078), Var(v=0.1016, grad=0.0000), Var(v=0.0019, grad=-0.1130), Var(v=-0.0255, grad=-0.0481), Var(v=0.1451, grad=0.0000), Var(v=0.1119, grad=0.0000), Var(v=0.0610, grad=-0.2314), Var(v=0.0494, grad=0.0000), Var(v=-0.0305, grad=0.0000), Var(v=-0.0015, grad=0.2968), Var(v=-0.0563, grad=0.0000), Var(v=-0.0467, grad=0.4695), Var(v=-0.0955, grad=-0.1223), Var(v=0.0047, grad=0.1143), Var(v=0.0445, grad=0.0000), Var(v=0.1538, grad=-0.0866), Var(v=-0.1439, grad=0.0000), Var(v=-0.0063, grad=0.0000), Var(v=-0.0441, grad=0.0000), Var(v=-0.2704, grad=0.0000), Var(v=-0.0762, grad=0.0000), Var(v=-0.1098, grad=0.0000), Var(v=0.0409, grad=0.0000), Var(v=-0.0478, grad=0.0000), Var(v=0.1942, grad=0.0000), Var(v=-0.0984, grad=0.0000), Var(v=-0.1258, grad=0.0000), Var(v=-0.3025, grad=0.0000), Var(v=-0.1479, grad=-0.2771), Var(v=-0.2076, grad=0.0000), Var(v=-0.0030, grad=-0.2590), Var(v=-0.1470, grad=0.0000), Var(v=-0.0220, grad=0.0731), Var(v=0.0138, grad=0.6194), Var(v=0.0499, grad=0.0000), Var(v=0.0769, grad=-0.0622), Var(v=-0.0532, grad=0.0000), Var(v=0.0345, grad=0.0000), Var(v=-0.1421, grad=-0.2023), Var(v=0.0377, grad=0.2248), Var(v=-0.0271, grad=0.0000)], [Var(v=0.2506, grad=1.7438), Var(v=0.2089, grad=-0.6049), Var(v=-0.0483, grad=0.0000), Var(v=-0.0994, grad=-1.4917), Var(v=-0.2714, grad=0.0000), Var(v=-0.0522, grad=0.0000), Var(v=0.0162, grad=1.3983), Var(v=-0.1133, grad=-0.7191), Var(v=0.0413, grad=-2.1517), Var(v=0.0163, grad=0.0000), Var(v=0.0321, grad=0.0000), Var(v=-0.1639, grad=0.0000), Var(v=-0.0466, grad=0.0000), Var(v=-0.0273, grad=0.0000), Var(v=0.0537, grad=0.0000), Var(v=-0.0211, grad=0.0000), Var(v=0.0046, grad=0.0000), Var(v=-0.1027, grad=0.0000), Var(v=-0.1496, grad=0.0000), Var(v=0.1045, grad=0.0000), Var(v=-0.0279, grad=-1.5563), Var(v=-0.0001, grad=0.4053), Var(v=0.1658, grad=-0.3789), Var(v=-0.1636, grad=0.0000), Var(v=0.0073, grad=0.0000), Var(v=0.0190, grad=-0.3716), Var(v=-0.1307, grad=-0.2362), Var(v=0.0001, grad=-0.2175), Var(v=0.0383, grad=0.9909), Var(v=0.0451, grad=-1.2873), Var(v=-0.1824, grad=0.0000), Var(v=-0.0194, grad=0.0000), Var(v=-0.0676, grad=-1.1453), Var(v=0.0909, grad=0.3788), Var(v=-0.0031, grad=0.0000), Var(v=0.1525, grad=-0.5158), Var(v=-0.0300, grad=-0.4614), Var(v=0.0179, grad=0.0000), Var(v=-0.0232, grad=0.0000), Var(v=0.0286, grad=0.0000), Var(v=0.0205, grad=0.9145), Var(v=0.0641, grad=0.0000), Var(v=0.0136, grad=0.0000), Var(v=-0.1883, grad=0.1245), Var(v=0.0871, grad=0.2061), Var(v=0.1851, grad=0.8640), Var(v=-0.0557, grad=0.0000), Var(v=-0.0574, grad=0.0000), Var(v=-0.1026, grad=-0.7453), Var(v=-0.0340, grad=-0.0993)], [Var(v=0.1350, grad=-3.7039), Var(v=-0.1639, grad=1.2848), Var(v=-0.1297, grad=0.0000), Var(v=0.1178, grad=3.1685), Var(v=-0.0493, grad=0.4352), Var(v=0.0010, grad=2.9422), Var(v=-0.0470, grad=0.0000), Var(v=0.0310, grad=0.0000), Var(v=0.1572, grad=0.0000), Var(v=-0.1327, grad=1.4633), Var(v=-0.0616, grad=0.0000), Var(v=0.1865, grad=-0.7953), Var(v=0.2144, grad=-0.3385), Var(v=-0.0853, grad=0.0000), Var(v=-0.1020, grad=0.0000), Var(v=0.0766, grad=-1.6293), Var(v=0.0449, grad=0.0000), Var(v=-0.0363, grad=0.0000), Var(v=-0.0584, grad=2.0897), Var(v=-0.0983, grad=0.0000), Var(v=0.0629, grad=3.3057), Var(v=0.0606, grad=-0.8610), Var(v=-0.0284, grad=0.8047), Var(v=-0.0082, grad=0.0000), Var(v=-0.0406, grad=-0.6096), Var(v=0.0071, grad=0.0000), Var(v=-0.0511, grad=0.0000), Var(v=0.0507, grad=0.0000), Var(v=0.0869, grad=0.0000), Var(v=-0.1859, grad=0.0000), Var(v=0.1320, grad=0.0000), Var(v=-0.1203, grad=0.0000), Var(v=-0.0257, grad=0.0000), Var(v=0.0307, grad=0.0000), Var(v=0.0066, grad=0.0000), Var(v=-0.0244, grad=0.0000), Var(v=0.0625, grad=0.0000), Var(v=0.0856, grad=-1.9509), Var(v=0.1660, grad=0.0000), Var(v=0.1884, grad=-1.8236), Var(v=-0.1931, grad=0.0000), Var(v=-0.1733, grad=0.5147), Var(v=-0.1037, grad=4.3614), Var(v=-0.1371, grad=0.0000), Var(v=0.1002, grad=-0.4378), Var(v=-0.2395, grad=0.0000), Var(v=0.1059, grad=0.0000), Var(v=-0.0361, grad=-1.4246), Var(v=-0.0324, grad=1.5831), Var(v=-0.0033, grad=0.0000)], [Var(v=-0.0607, grad=0.8300), Var(v=-0.0940, grad=-0.2879), Var(v=-0.0894, grad=0.0000), Var(v=0.1352, grad=-0.7100), Var(v=0.0017, grad=0.0000), Var(v=0.1808, grad=0.0000), Var(v=-0.2836, grad=0.6656), Var(v=0.0743, grad=-0.3423), Var(v=-0.1499, grad=-1.0242), Var(v=-0.0240, grad=0.0000), Var(v=-0.0770, grad=0.0000), Var(v=-0.1352, grad=0.0000), Var(v=-0.0110, grad=0.0000), Var(v=0.0373, grad=0.0000), Var(v=0.0802, grad=0.0000), Var(v=-0.0321, grad=0.0000), Var(v=-0.0516, grad=0.0000), Var(v=-0.0230, grad=0.0000), Var(v=0.0989, grad=0.0000), Var(v=-0.0301, grad=0.0000), Var(v=0.0280, grad=-0.7408), Var(v=0.0027, grad=0.1929), Var(v=0.0628, grad=-0.1803), Var(v=0.0291, grad=0.0000), Var(v=-0.0043, grad=0.0000), Var(v=0.0393, grad=-0.1769), Var(v=0.0623, grad=-0.1124), Var(v=0.0322, grad=-0.1035), Var(v=-0.1825, grad=0.4717), Var(v=0.2330, grad=-0.6128), Var(v=-0.0777, grad=0.0000), Var(v=-0.0851, grad=0.0000), Var(v=0.0020, grad=-0.5452), Var(v=0.0352, grad=0.1803), Var(v=0.0431, grad=0.0000), Var(v=0.0172, grad=-0.2455), Var(v=0.0752, grad=-0.2196), Var(v=0.0063, grad=0.0000), Var(v=-0.1319, grad=0.0000), Var(v=-0.0586, grad=0.0000), Var(v=0.0536, grad=0.4353), Var(v=-0.1028, grad=0.0000), Var(v=0.0513, grad=0.0000), Var(v=-0.0755, grad=0.0593), Var(v=-0.0655, grad=0.0981), Var(v=-0.0289, grad=0.4113), Var(v=-0.0170, grad=0.0000), Var(v=-0.1553, grad=0.0000), Var(v=0.0269, grad=-0.3548), Var(v=0.0343, grad=-0.0473)], [Var(v=-0.0326, grad=-3.8709), Var(v=0.0797, grad=1.3428), Var(v=0.0772, grad=0.0000), Var(v=-0.0284, grad=3.3114), Var(v=0.0111, grad=0.4548), Var(v=0.0193, grad=3.0748), Var(v=-0.0334, grad=0.0000), Var(v=-0.1230, grad=0.0000), Var(v=-0.0092, grad=0.0000), Var(v=0.0420, grad=1.5293), Var(v=-0.1223, grad=0.0000), Var(v=0.1057, grad=-0.8312), Var(v=-0.0227, grad=-0.3537), Var(v=-0.2184, grad=0.0000), Var(v=-0.0616, grad=0.0000), Var(v=-0.0079, grad=-1.7028), Var(v=0.0571, grad=0.0000), Var(v=-0.3092, grad=0.0000), Var(v=0.0025, grad=2.1840), Var(v=0.0321, grad=0.0000), Var(v=-0.1810, grad=3.4547), Var(v=0.0764, grad=-0.8998), Var(v=0.0076, grad=0.8410), Var(v=-0.1616, grad=0.0000), Var(v=0.0642, grad=-0.6371), Var(v=0.0254, grad=0.0000), Var(v=-0.1859, grad=0.0000), Var(v=-0.0552, grad=0.0000), Var(v=-0.0796, grad=0.0000), Var(v=0.0078, grad=0.0000), Var(v=-0.1673, grad=0.0000), Var(v=-0.1555, grad=0.0000), Var(v=-0.0022, grad=0.0000), Var(v=0.0004, grad=0.0000), Var(v=-0.0771, grad=0.0000), Var(v=-0.0938, grad=0.0000), Var(v=-0.0675, grad=0.0000), Var(v=-0.0708, grad=-2.0389), Var(v=0.0334, grad=0.0000), Var(v=0.0203, grad=-1.9059), Var(v=0.0029, grad=0.0000), Var(v=0.2432, grad=0.5379), Var(v=0.2046, grad=4.5580), Var(v=0.0222, grad=0.0000), Var(v=-0.0247, grad=-0.4576), Var(v=0.2005, grad=0.0000), Var(v=-0.1245, grad=0.0000), Var(v=0.1109, grad=-1.4888), Var(v=-0.0047, grad=1.6545), Var(v=0.0132, grad=0.0000)], [Var(v=0.2226, grad=-0.4169), Var(v=-0.0663, grad=0.1446), Var(v=-0.0753, grad=0.0000), Var(v=0.0873, grad=0.3567), Var(v=0.0927, grad=0.0490), Var(v=-0.1717, grad=0.3312), Var(v=-0.1315, grad=0.0000), Var(v=0.0388, grad=0.0000), Var(v=0.0732, grad=0.0000), Var(v=0.0702, grad=0.1647), Var(v=-0.0549, grad=0.0000), Var(v=0.1242, grad=-0.0895), Var(v=0.1304, grad=-0.0381), Var(v=0.0345, grad=0.0000), Var(v=-0.0892, grad=0.0000), Var(v=0.0336, grad=-0.1834), Var(v=-0.1405, grad=0.0000), Var(v=-0.0257, grad=0.0000), Var(v=0.1033, grad=0.2352), Var(v=-0.2364, grad=0.0000), Var(v=0.0396, grad=0.3721), Var(v=-0.0217, grad=-0.0969), Var(v=-0.1661, grad=0.0906), Var(v=-0.1213, grad=0.0000), Var(v=-0.1394, grad=-0.0686), Var(v=0.1020, grad=0.0000), Var(v=0.0527, grad=0.0000), Var(v=0.2244, grad=0.0000), Var(v=0.0353, grad=0.0000), Var(v=0.0418, grad=0.0000), Var(v=-0.0935, grad=0.0000), Var(v=0.0285, grad=0.0000), Var(v=0.1212, grad=0.0000), Var(v=0.0777, grad=0.0000), Var(v=-0.0432, grad=0.0000), Var(v=-0.1311, grad=0.0000), Var(v=-0.1423, grad=0.0000), Var(v=-0.0025, grad=-0.2196), Var(v=0.0127, grad=0.0000), Var(v=0.0510, grad=-0.2053), Var(v=0.0355, grad=0.0000), Var(v=0.0835, grad=0.0579), Var(v=0.0006, grad=0.4909), Var(v=0.0042, grad=0.0000), Var(v=-0.0832, grad=-0.0493), Var(v=-0.0213, grad=0.0000), Var(v=-0.1897, grad=0.0000), Var(v=-0.1832, grad=-0.1604), Var(v=0.0373, grad=0.1782), Var(v=-0.0036, grad=0.0000)], [Var(v=0.1399, grad=1.9027), Var(v=0.2211, grad=-0.6600), Var(v=-0.1886, grad=0.0000), Var(v=0.0968, grad=-1.6276), Var(v=-0.0617, grad=0.0000), Var(v=0.0316, grad=0.0000), Var(v=0.1568, grad=1.5257), Var(v=0.1193, grad=-0.7846), Var(v=0.0213, grad=-2.3478), Var(v=0.0900, grad=0.0000), Var(v=-0.1491, grad=0.0000), Var(v=0.1455, grad=0.0000), Var(v=0.0236, grad=0.0000), Var(v=-0.0190, grad=0.0000), Var(v=-0.1306, grad=0.0000), Var(v=-0.1047, grad=0.0000), Var(v=0.0675, grad=0.0000), Var(v=0.0481, grad=0.0000), Var(v=-0.0025, grad=0.0000), Var(v=0.0264, grad=0.0000), Var(v=-0.0723, grad=-1.6981), Var(v=0.0735, grad=0.4423), Var(v=0.0649, grad=-0.4134), Var(v=0.0838, grad=0.0000), Var(v=-0.0327, grad=0.0000), Var(v=-0.1606, grad=-0.4055), Var(v=-0.0191, grad=-0.2577), Var(v=-0.0846, grad=-0.2374), Var(v=0.0337, grad=1.0812), Var(v=-0.0067, grad=-1.4046), Var(v=-0.0471, grad=0.0000), Var(v=0.0474, grad=0.0000), Var(v=0.1359, grad=-1.2497), Var(v=-0.0814, grad=0.4133), Var(v=0.1202, grad=0.0000), Var(v=0.0761, grad=-0.5628), Var(v=0.1236, grad=-0.5035), Var(v=-0.0891, grad=0.0000), Var(v=0.1563, grad=0.0000), Var(v=-0.0511, grad=0.0000), Var(v=-0.0005, grad=0.9979), Var(v=-0.0775, grad=0.0000), Var(v=-0.0246, grad=0.0000), Var(v=0.0882, grad=0.1359), Var(v=0.2101, grad=0.2249), Var(v=0.0663, grad=0.9427), Var(v=-0.0925, grad=0.0000), Var(v=0.0079, grad=0.0000), Var(v=0.0657, grad=-0.8132), Var(v=0.0626, grad=-0.1084)], [Var(v=-0.0620, grad=2.2538), Var(v=0.1784, grad=-0.7818), Var(v=0.1436, grad=0.0000), Var(v=-0.0896, grad=-1.9280), Var(v=0.0649, grad=0.0000), Var(v=-0.1796, grad=0.0000), Var(v=0.1984, grad=1.8072), Var(v=-0.0670, grad=-0.9294), Var(v=0.0932, grad=-2.7811), Var(v=-0.0910, grad=0.0000), Var(v=-0.0516, grad=0.0000), Var(v=-0.0811, grad=0.0000), Var(v=-0.0309, grad=0.0000), Var(v=-0.0533, grad=0.0000), Var(v=-0.1202, grad=0.0000), Var(v=0.0976, grad=0.0000), Var(v=-0.0976, grad=0.0000), Var(v=0.0569, grad=0.0000), Var(v=-0.1277, grad=0.0000), Var(v=-0.0888, grad=0.0000), Var(v=0.1393, grad=-2.0115), Var(v=-0.0444, grad=0.5239), Var(v=0.0341, grad=-0.4897), Var(v=-0.1038, grad=0.0000), Var(v=0.0930, grad=0.0000), Var(v=-0.0058, grad=-0.4803), Var(v=-0.1565, grad=-0.3053), Var(v=-0.0159, grad=-0.2812), Var(v=0.1891, grad=1.2807), Var(v=0.1298, grad=-1.6638), Var(v=0.0683, grad=0.0000), Var(v=0.1307, grad=0.0000), Var(v=0.0940, grad=-1.4803), Var(v=0.0086, grad=0.4896), Var(v=-0.0547, grad=0.0000), Var(v=-0.1200, grad=-0.6666), Var(v=-0.0401, grad=-0.5964), Var(v=0.0775, grad=0.0000), Var(v=0.0278, grad=0.0000), Var(v=0.1123, grad=0.0000), Var(v=-0.0039, grad=1.1820), Var(v=0.0844, grad=0.0000), Var(v=-0.0548, grad=0.0000), Var(v=0.1351, grad=0.1609), Var(v=0.1040, grad=0.2664), Var(v=0.0861, grad=1.1167), Var(v=-0.0389, grad=0.0000), Var(v=-0.0991, grad=0.0000), Var(v=-0.0239, grad=-0.9633), Var(v=-0.0026, grad=-0.1284)], [Var(v=-0.0655, grad=-0.1070), Var(v=-0.0837, grad=0.0371), Var(v=-0.0880, grad=0.0000), Var(v=-0.0674, grad=0.0916), Var(v=0.2156, grad=0.0126), Var(v=0.0077, grad=0.0850), Var(v=-0.0965, grad=0.0000), Var(v=0.0879, grad=0.0000), Var(v=0.0182, grad=0.0000), Var(v=0.1777, grad=0.0423), Var(v=-0.0150, grad=0.0000), Var(v=0.0272, grad=-0.0230), Var(v=0.1673, grad=-0.0098), Var(v=0.2597, grad=0.0000), Var(v=-0.0506, grad=0.0000), Var(v=0.0585, grad=-0.0471), Var(v=0.0718, grad=0.0000), Var(v=0.1048, grad=0.0000), Var(v=-0.0955, grad=0.0604), Var(v=-0.0415, grad=0.0000), Var(v=-0.0125, grad=0.0955), Var(v=0.0399, grad=-0.0249), Var(v=0.0761, grad=0.0233), Var(v=0.0218, grad=0.0000), Var(v=-0.0677, grad=-0.0176), Var(v=-0.1180, grad=0.0000), Var(v=-0.0762, grad=0.0000), Var(v=-0.0350, grad=0.0000), Var(v=0.0059, grad=0.0000), Var(v=0.1506, grad=0.0000), Var(v=0.1083, grad=0.0000), Var(v=0.1968, grad=0.0000), Var(v=0.0459, grad=0.0000), Var(v=-0.0298, grad=0.0000), Var(v=0.1455, grad=0.0000), Var(v=0.0514, grad=0.0000), Var(v=0.0248, grad=0.0000), Var(v=0.0716, grad=-0.0564), Var(v=0.0392, grad=0.0000), Var(v=0.0204, grad=-0.0527), Var(v=0.0231, grad=0.0000), Var(v=-0.1477, grad=0.0149), Var(v=-0.1274, grad=0.1260), Var(v=-0.0140, grad=0.0000), Var(v=0.0243, grad=-0.0127), Var(v=0.0236, grad=0.0000), Var(v=0.1245, grad=0.0000), Var(v=0.0784, grad=-0.0412), Var(v=-0.0591, grad=0.0457), Var(v=0.0725, grad=0.0000)], [Var(v=-0.0714, grad=3.5255), Var(v=0.1116, grad=-1.2229), Var(v=-0.2466, grad=0.0000), Var(v=0.2538, grad=-3.0159), Var(v=0.0543, grad=0.0000), Var(v=-0.0890, grad=0.0000), Var(v=-0.0450, grad=2.8270), Var(v=-0.0375, grad=-1.4538), Var(v=0.2321, grad=-4.3503), Var(v=0.0450, grad=0.0000), Var(v=-0.0596, grad=0.0000), Var(v=0.1160, grad=0.0000), Var(v=-0.0268, grad=0.0000), Var(v=-0.1280, grad=0.0000), Var(v=-0.2588, grad=0.0000), Var(v=-0.0828, grad=0.0000), Var(v=-0.0707, grad=0.0000), Var(v=-0.2643, grad=0.0000), Var(v=0.1174, grad=0.0000), Var(v=0.1033, grad=0.0000), Var(v=0.0632, grad=-3.1464), Var(v=-0.0242, grad=0.8195), Var(v=0.0429, grad=-0.7660), Var(v=0.0414, grad=0.0000), Var(v=-0.1350, grad=0.0000), Var(v=0.1525, grad=-0.7513), Var(v=0.0994, grad=-0.4775), Var(v=0.1979, grad=-0.4398), Var(v=0.0435, grad=2.0033), Var(v=-0.0355, grad=-2.6027), Var(v=-0.0923, grad=0.0000), Var(v=-0.0980, grad=0.0000), Var(v=-0.0160, grad=-2.3156), Var(v=0.1286, grad=0.7658), Var(v=-0.0273, grad=0.0000), Var(v=0.0446, grad=-1.0428), Var(v=0.1209, grad=-0.9329), Var(v=-0.0187, grad=0.0000), Var(v=-0.0614, grad=0.0000), Var(v=-0.0631, grad=0.0000), Var(v=-0.0179, grad=1.8490), Var(v=-0.0816, grad=0.0000), Var(v=-0.1118, grad=0.0000), Var(v=0.0956, grad=0.2517), Var(v=0.0441, grad=0.4167), Var(v=0.0077, grad=1.7468), Var(v=0.0326, grad=0.0000), Var(v=0.0440, grad=0.0000), Var(v=0.1133, grad=-1.5069), Var(v=0.1527, grad=-0.2009)]] Biases: [Var(v=0.0047, grad=-0.4672), Var(v=-0.0016, grad=0.1621), Var(v=0.0000, grad=0.0000), Var(v=-0.0040, grad=0.3997), Var(v=-0.0192, grad=1.9230), Var(v=-0.1300, grad=13.0014), Var(v=-0.1275, grad=12.7500), Var(v=0.0656, grad=-6.5567), Var(v=0.1962, grad=-19.6203), Var(v=-0.0647, grad=6.4662), Var(v=0.0000, grad=0.0000), Var(v=0.0351, grad=-3.5146), Var(v=0.0150, grad=-1.4956), Var(v=0.0000, grad=0.0000), Var(v=0.0000, grad=0.0000), Var(v=0.0720, grad=-7.2000), Var(v=0.0000, grad=0.0000), Var(v=0.0000, grad=0.0000), Var(v=-0.0923, grad=9.2345), Var(v=0.0000, grad=0.0000), Var(v=-0.0042, grad=0.4170), Var(v=0.0011, grad=-0.1086), Var(v=-0.0010, grad=0.1015), Var(v=0.0000, grad=0.0000), Var(v=0.0269, grad=-2.6937), Var(v=0.0339, grad=-3.3886), Var(v=0.0215, grad=-2.1536), Var(v=0.0198, grad=-1.9836), Var(v=-0.0904, grad=9.0352), Var(v=0.1174, grad=-11.7384), Var(v=0.0000, grad=0.0000), Var(v=0.0000, grad=0.0000), Var(v=0.1044, grad=-10.4435), Var(v=-0.0345, grad=3.4539), Var(v=0.0000, grad=0.0000), Var(v=0.0470, grad=-4.7032), Var(v=0.0421, grad=-4.2075), Var(v=0.0862, grad=-8.6212), Var(v=0.0000, grad=0.0000), Var(v=0.0806, grad=-8.0586), Var(v=-0.0834, grad=8.3392), Var(v=-0.0227, grad=2.2744), Var(v=-0.1927, grad=19.2729), Var(v=-0.0114, grad=1.1353), Var(v=0.0006, grad=-0.0552), Var(v=-0.0788, grad=7.8783), Var(v=0.0000, grad=0.0000), Var(v=0.0630, grad=-6.2951), Var(v=-0.0020, grad=0.1997), Var(v=0.0091, grad=-0.9059)]\n",
      "Layer 2 \n",
      " Weights: [[Var(v=-0.2083, grad=2.3449)], [Var(v=0.1025, grad=-3.8346)], [Var(v=-0.1465, grad=0.0000)], [Var(v=0.1234, grad=3.4762)], [Var(v=0.0160, grad=0.5681)], [Var(v=0.1002, grad=4.6675)], [Var(v=-0.1132, grad=-3.5026)], [Var(v=0.0960, grad=-1.9748)], [Var(v=0.2666, grad=-3.8492)], [Var(v=0.0491, grad=2.3984)], [Var(v=-0.0142, grad=0.0000)], [Var(v=-0.1232, grad=8.3532)], [Var(v=-0.0263, grad=0.9397)], [Var(v=-0.0273, grad=0.0000)], [Var(v=0.0623, grad=0.0000)], [Var(v=-0.0990, grad=1.7715)], [Var(v=-0.0032, grad=0.0000)], [Var(v=0.0988, grad=0.0000)], [Var(v=0.0780, grad=2.6286)], [Var(v=-0.1332, grad=0.0000)], [Var(v=0.1800, grad=-1.4957)], [Var(v=-0.0366, grad=-0.6364)], [Var(v=0.0634, grad=-2.3214)], [Var(v=-0.0133, grad=0.0000)], [Var(v=-0.0429, grad=1.2461)], [Var(v=0.0430, grad=-0.3625)], [Var(v=0.0303, grad=-0.5242)], [Var(v=0.0635, grad=-4.0396)], [Var(v=-0.0925, grad=-1.2510)], [Var(v=0.1484, grad=-1.1876)], [Var(v=0.0245, grad=0.0000)], [Var(v=-0.0077, grad=0.0000)], [Var(v=0.1291, grad=-0.7649)], [Var(v=-0.0121, grad=-2.8033)], [Var(v=-0.0088, grad=0.0000)], [Var(v=0.0834, grad=-2.8714)], [Var(v=0.0796, grad=-3.0632)], [Var(v=-0.1148, grad=1.7393)], [Var(v=0.1572, grad=0.0000)], [Var(v=-0.1216, grad=3.0545)], [Var(v=-0.0928, grad=-0.4146)], [Var(v=-0.0063, grad=3.2003)], [Var(v=0.2074, grad=1.0258)], [Var(v=0.0090, grad=-2.2158)], [Var(v=0.0146, grad=-3.6419)], [Var(v=-0.0498, grad=-4.1815)], [Var(v=0.2524, grad=0.0000)], [Var(v=-0.0962, grad=2.5107)], [Var(v=0.0073, grad=7.1756)], [Var(v=0.0470, grad=-3.6515)]] Biases: [Var(v=-0.0253, grad=2.5271)]\n",
      "\n",
      "Network after zeroing gradients:\n",
      "Layer 0 \n",
      " Weights: [[Var(v=0.1892, grad=0.0000), Var(v=-0.1058, grad=0.0000), Var(v=-0.1572, grad=0.0000), Var(v=-0.0673, grad=0.0000), Var(v=-0.1577, grad=0.0000), Var(v=-0.0632, grad=0.0000), Var(v=-0.0101, grad=0.0000), Var(v=-0.2580, grad=0.0000), Var(v=0.1414, grad=0.0000), Var(v=-0.1477, grad=0.0000), Var(v=-0.0456, grad=0.0000), Var(v=0.0695, grad=0.0000), Var(v=0.0951, grad=0.0000), Var(v=-0.0568, grad=0.0000), Var(v=0.2871, grad=0.0000)]] Biases: [Var(v=0.0476, grad=0.0000), Var(v=0.0100, grad=0.0000), Var(v=-0.0380, grad=0.0000), Var(v=-0.0171, grad=0.0000), Var(v=-0.0133, grad=0.0000), Var(v=0.0309, grad=0.0000), Var(v=-0.0897, grad=0.0000), Var(v=0.0476, grad=0.0000), Var(v=0.0829, grad=0.0000), Var(v=-0.0612, grad=0.0000), Var(v=0.0204, grad=0.0000), Var(v=-0.0286, grad=0.0000), Var(v=-0.0229, grad=0.0000), Var(v=0.0463, grad=0.0000), Var(v=0.0830, grad=0.0000)]\n",
      "Layer 1 \n",
      " Weights: [[Var(v=-0.0086, grad=0.0000), Var(v=-0.1148, grad=0.0000), Var(v=0.0202, grad=0.0000), Var(v=0.1212, grad=0.0000), Var(v=-0.0984, grad=0.0000), Var(v=0.1081, grad=0.0000), Var(v=0.0077, grad=0.0000), Var(v=0.2766, grad=0.0000), Var(v=0.0312, grad=0.0000), Var(v=-0.2053, grad=0.0000), Var(v=0.1093, grad=0.0000), Var(v=-0.0504, grad=0.0000), Var(v=-0.1101, grad=0.0000), Var(v=-0.1682, grad=0.0000), Var(v=0.0632, grad=0.0000), Var(v=-0.1431, grad=0.0000), Var(v=-0.2240, grad=0.0000), Var(v=0.0346, grad=0.0000), Var(v=-0.0265, grad=0.0000), Var(v=-0.1844, grad=0.0000), Var(v=0.1026, grad=0.0000), Var(v=0.1267, grad=0.0000), Var(v=-0.0292, grad=0.0000), Var(v=0.0235, grad=0.0000), Var(v=-0.1534, grad=0.0000), Var(v=-0.0613, grad=0.0000), Var(v=0.1428, grad=0.0000), Var(v=0.1041, grad=0.0000), Var(v=-0.2034, grad=0.0000), Var(v=0.0087, grad=0.0000), Var(v=0.2199, grad=0.0000), Var(v=0.0031, grad=0.0000), Var(v=0.0191, grad=0.0000), Var(v=-0.0220, grad=0.0000), Var(v=-0.0660, grad=0.0000), Var(v=0.1256, grad=0.0000), Var(v=0.0271, grad=0.0000), Var(v=-0.1824, grad=0.0000), Var(v=-0.0890, grad=0.0000), Var(v=-0.0854, grad=0.0000), Var(v=-0.0378, grad=0.0000), Var(v=0.0085, grad=0.0000), Var(v=-0.1823, grad=0.0000), Var(v=-0.0124, grad=0.0000), Var(v=-0.0030, grad=0.0000), Var(v=-0.0107, grad=0.0000), Var(v=-0.1473, grad=0.0000), Var(v=-0.1741, grad=0.0000), Var(v=-0.0544, grad=0.0000), Var(v=0.0290, grad=0.0000)], [Var(v=-0.0033, grad=0.0000), Var(v=0.1275, grad=0.0000), Var(v=-0.0771, grad=0.0000), Var(v=-0.1042, grad=0.0000), Var(v=-0.0551, grad=0.0000), Var(v=0.1161, grad=0.0000), Var(v=0.1976, grad=0.0000), Var(v=-0.0413, grad=0.0000), Var(v=-0.0725, grad=0.0000), Var(v=0.0293, grad=0.0000), Var(v=-0.0536, grad=0.0000), Var(v=-0.0056, grad=0.0000), Var(v=-0.0726, grad=0.0000), Var(v=0.1693, grad=0.0000), Var(v=0.0295, grad=0.0000), Var(v=0.2379, grad=0.0000), Var(v=0.0550, grad=0.0000), Var(v=-0.0977, grad=0.0000), Var(v=-0.0563, grad=0.0000), Var(v=0.0118, grad=0.0000), Var(v=-0.1075, grad=0.0000), Var(v=-0.1075, grad=0.0000), Var(v=0.1987, grad=0.0000), Var(v=-0.0801, grad=0.0000), Var(v=-0.2229, grad=0.0000), Var(v=0.0076, grad=0.0000), Var(v=-0.0536, grad=0.0000), Var(v=0.0169, grad=0.0000), Var(v=-0.0409, grad=0.0000), Var(v=0.2277, grad=0.0000), Var(v=-0.0235, grad=0.0000), Var(v=-0.1114, grad=0.0000), Var(v=-0.0623, grad=0.0000), Var(v=0.0673, grad=0.0000), Var(v=0.1004, grad=0.0000), Var(v=-0.1349, grad=0.0000), Var(v=0.0676, grad=0.0000), Var(v=0.0070, grad=0.0000), Var(v=-0.0021, grad=0.0000), Var(v=-0.0226, grad=0.0000), Var(v=-0.1439, grad=0.0000), Var(v=0.0347, grad=0.0000), Var(v=0.0047, grad=0.0000), Var(v=-0.0767, grad=0.0000), Var(v=0.0222, grad=0.0000), Var(v=0.0004, grad=0.0000), Var(v=-0.1406, grad=0.0000), Var(v=0.2890, grad=0.0000), Var(v=-0.0244, grad=0.0000), Var(v=0.0652, grad=0.0000)], [Var(v=0.0779, grad=0.0000), Var(v=0.0268, grad=0.0000), Var(v=-0.0773, grad=0.0000), Var(v=0.1263, grad=0.0000), Var(v=0.0699, grad=0.0000), Var(v=0.0720, grad=0.0000), Var(v=-0.1272, grad=0.0000), Var(v=-0.0080, grad=0.0000), Var(v=-0.0086, grad=0.0000), Var(v=0.0162, grad=0.0000), Var(v=0.0358, grad=0.0000), Var(v=0.0539, grad=0.0000), Var(v=-0.0460, grad=0.0000), Var(v=-0.0432, grad=0.0000), Var(v=-0.0210, grad=0.0000), Var(v=0.0496, grad=0.0000), Var(v=0.0047, grad=0.0000), Var(v=0.1678, grad=0.0000), Var(v=0.0922, grad=0.0000), Var(v=-0.0928, grad=0.0000), Var(v=0.0079, grad=0.0000), Var(v=-0.1136, grad=0.0000), Var(v=0.0862, grad=0.0000), Var(v=-0.1132, grad=0.0000), Var(v=0.1785, grad=0.0000), Var(v=-0.0685, grad=0.0000), Var(v=-0.0851, grad=0.0000), Var(v=-0.0118, grad=0.0000), Var(v=-0.0799, grad=0.0000), Var(v=0.0367, grad=0.0000), Var(v=-0.0398, grad=0.0000), Var(v=0.0342, grad=0.0000), Var(v=-0.0427, grad=0.0000), Var(v=-0.0337, grad=0.0000), Var(v=-0.1246, grad=0.0000), Var(v=0.0954, grad=0.0000), Var(v=-0.0355, grad=0.0000), Var(v=0.0352, grad=0.0000), Var(v=-0.1751, grad=0.0000), Var(v=0.0622, grad=0.0000), Var(v=-0.0273, grad=0.0000), Var(v=-0.1203, grad=0.0000), Var(v=-0.1095, grad=0.0000), Var(v=-0.0222, grad=0.0000), Var(v=-0.0060, grad=0.0000), Var(v=0.0663, grad=0.0000), Var(v=-0.0564, grad=0.0000), Var(v=0.1005, grad=0.0000), Var(v=0.1829, grad=0.0000), Var(v=-0.0591, grad=0.0000)], [Var(v=0.2240, grad=0.0000), Var(v=0.0254, grad=0.0000), Var(v=-0.0572, grad=0.0000), Var(v=-0.0892, grad=0.0000), Var(v=-0.0014, grad=0.0000), Var(v=0.1080, grad=0.0000), Var(v=-0.0106, grad=0.0000), Var(v=-0.0309, grad=0.0000), Var(v=-0.0970, grad=0.0000), Var(v=-0.0157, grad=0.0000), Var(v=0.1266, grad=0.0000), Var(v=-0.0015, grad=0.0000), Var(v=0.0998, grad=0.0000), Var(v=0.2055, grad=0.0000), Var(v=-0.2577, grad=0.0000), Var(v=-0.0551, grad=0.0000), Var(v=-0.1302, grad=0.0000), Var(v=-0.0398, grad=0.0000), Var(v=0.1069, grad=0.0000), Var(v=-0.1365, grad=0.0000), Var(v=0.0815, grad=0.0000), Var(v=0.0155, grad=0.0000), Var(v=0.0855, grad=0.0000), Var(v=0.0098, grad=0.0000), Var(v=0.0705, grad=0.0000), Var(v=0.1659, grad=0.0000), Var(v=-0.2476, grad=0.0000), Var(v=0.0019, grad=0.0000), Var(v=-0.0185, grad=0.0000), Var(v=0.0081, grad=0.0000), Var(v=0.2250, grad=0.0000), Var(v=-0.0618, grad=0.0000), Var(v=-0.0295, grad=0.0000), Var(v=-0.0325, grad=0.0000), Var(v=0.0264, grad=0.0000), Var(v=-0.1174, grad=0.0000), Var(v=0.0004, grad=0.0000), Var(v=0.0113, grad=0.0000), Var(v=0.1759, grad=0.0000), Var(v=-0.1175, grad=0.0000), Var(v=0.1243, grad=0.0000), Var(v=0.1794, grad=0.0000), Var(v=-0.0566, grad=0.0000), Var(v=0.1453, grad=0.0000), Var(v=-0.1611, grad=0.0000), Var(v=-0.1278, grad=0.0000), Var(v=0.0609, grad=0.0000), Var(v=-0.0077, grad=0.0000), Var(v=0.0773, grad=0.0000), Var(v=-0.0384, grad=0.0000)], [Var(v=0.1379, grad=0.0000), Var(v=0.0628, grad=0.0000), Var(v=0.1164, grad=0.0000), Var(v=0.1780, grad=0.0000), Var(v=0.0098, grad=0.0000), Var(v=-0.0517, grad=0.0000), Var(v=0.0395, grad=0.0000), Var(v=0.0106, grad=0.0000), Var(v=-0.1426, grad=0.0000), Var(v=0.1557, grad=0.0000), Var(v=0.1016, grad=0.0000), Var(v=0.1063, grad=0.0000), Var(v=-0.1307, grad=0.0000), Var(v=-0.0254, grad=0.0000), Var(v=-0.1749, grad=0.0000), Var(v=-0.0726, grad=0.0000), Var(v=-0.2551, grad=0.0000), Var(v=0.0918, grad=0.0000), Var(v=-0.0195, grad=0.0000), Var(v=-0.0265, grad=0.0000), Var(v=0.0234, grad=0.0000), Var(v=0.1478, grad=0.0000), Var(v=-0.2081, grad=0.0000), Var(v=-0.0578, grad=0.0000), Var(v=-0.0508, grad=0.0000), Var(v=-0.0414, grad=0.0000), Var(v=-0.0091, grad=0.0000), Var(v=-0.1808, grad=0.0000), Var(v=-0.0134, grad=0.0000), Var(v=-0.0640, grad=0.0000), Var(v=-0.0739, grad=0.0000), Var(v=0.0786, grad=0.0000), Var(v=0.0784, grad=0.0000), Var(v=-0.1092, grad=0.0000), Var(v=0.0798, grad=0.0000), Var(v=-0.0954, grad=0.0000), Var(v=-0.0848, grad=0.0000), Var(v=0.1593, grad=0.0000), Var(v=-0.1510, grad=0.0000), Var(v=0.0145, grad=0.0000), Var(v=-0.0814, grad=0.0000), Var(v=0.0964, grad=0.0000), Var(v=-0.1324, grad=0.0000), Var(v=0.0231, grad=0.0000), Var(v=0.0837, grad=0.0000), Var(v=-0.1276, grad=0.0000), Var(v=0.1017, grad=0.0000), Var(v=-0.1003, grad=0.0000), Var(v=0.1631, grad=0.0000), Var(v=-0.0736, grad=0.0000)], [Var(v=0.0845, grad=0.0000), Var(v=-0.0156, grad=0.0000), Var(v=0.0221, grad=0.0000), Var(v=-0.0709, grad=0.0000), Var(v=-0.1301, grad=0.0000), Var(v=-0.1141, grad=0.0000), Var(v=-0.0426, grad=0.0000), Var(v=0.1529, grad=0.0000), Var(v=-0.0180, grad=0.0000), Var(v=-0.1290, grad=0.0000), Var(v=0.1016, grad=0.0000), Var(v=0.0019, grad=0.0000), Var(v=-0.0255, grad=0.0000), Var(v=0.1451, grad=0.0000), Var(v=0.1119, grad=0.0000), Var(v=0.0610, grad=0.0000), Var(v=0.0494, grad=0.0000), Var(v=-0.0305, grad=0.0000), Var(v=-0.0015, grad=0.0000), Var(v=-0.0563, grad=0.0000), Var(v=-0.0467, grad=0.0000), Var(v=-0.0955, grad=0.0000), Var(v=0.0047, grad=0.0000), Var(v=0.0445, grad=0.0000), Var(v=0.1538, grad=0.0000), Var(v=-0.1439, grad=0.0000), Var(v=-0.0063, grad=0.0000), Var(v=-0.0441, grad=0.0000), Var(v=-0.2704, grad=0.0000), Var(v=-0.0762, grad=0.0000), Var(v=-0.1098, grad=0.0000), Var(v=0.0409, grad=0.0000), Var(v=-0.0478, grad=0.0000), Var(v=0.1942, grad=0.0000), Var(v=-0.0984, grad=0.0000), Var(v=-0.1258, grad=0.0000), Var(v=-0.3025, grad=0.0000), Var(v=-0.1479, grad=0.0000), Var(v=-0.2076, grad=0.0000), Var(v=-0.0030, grad=0.0000), Var(v=-0.1470, grad=0.0000), Var(v=-0.0220, grad=0.0000), Var(v=0.0138, grad=0.0000), Var(v=0.0499, grad=0.0000), Var(v=0.0769, grad=0.0000), Var(v=-0.0532, grad=0.0000), Var(v=0.0345, grad=0.0000), Var(v=-0.1421, grad=0.0000), Var(v=0.0377, grad=0.0000), Var(v=-0.0271, grad=0.0000)], [Var(v=0.2506, grad=0.0000), Var(v=0.2089, grad=0.0000), Var(v=-0.0483, grad=0.0000), Var(v=-0.0994, grad=0.0000), Var(v=-0.2714, grad=0.0000), Var(v=-0.0522, grad=0.0000), Var(v=0.0162, grad=0.0000), Var(v=-0.1133, grad=0.0000), Var(v=0.0413, grad=0.0000), Var(v=0.0163, grad=0.0000), Var(v=0.0321, grad=0.0000), Var(v=-0.1639, grad=0.0000), Var(v=-0.0466, grad=0.0000), Var(v=-0.0273, grad=0.0000), Var(v=0.0537, grad=0.0000), Var(v=-0.0211, grad=0.0000), Var(v=0.0046, grad=0.0000), Var(v=-0.1027, grad=0.0000), Var(v=-0.1496, grad=0.0000), Var(v=0.1045, grad=0.0000), Var(v=-0.0279, grad=0.0000), Var(v=-0.0001, grad=0.0000), Var(v=0.1658, grad=0.0000), Var(v=-0.1636, grad=0.0000), Var(v=0.0073, grad=0.0000), Var(v=0.0190, grad=0.0000), Var(v=-0.1307, grad=0.0000), Var(v=0.0001, grad=0.0000), Var(v=0.0383, grad=0.0000), Var(v=0.0451, grad=0.0000), Var(v=-0.1824, grad=0.0000), Var(v=-0.0194, grad=0.0000), Var(v=-0.0676, grad=0.0000), Var(v=0.0909, grad=0.0000), Var(v=-0.0031, grad=0.0000), Var(v=0.1525, grad=0.0000), Var(v=-0.0300, grad=0.0000), Var(v=0.0179, grad=0.0000), Var(v=-0.0232, grad=0.0000), Var(v=0.0286, grad=0.0000), Var(v=0.0205, grad=0.0000), Var(v=0.0641, grad=0.0000), Var(v=0.0136, grad=0.0000), Var(v=-0.1883, grad=0.0000), Var(v=0.0871, grad=0.0000), Var(v=0.1851, grad=0.0000), Var(v=-0.0557, grad=0.0000), Var(v=-0.0574, grad=0.0000), Var(v=-0.1026, grad=0.0000), Var(v=-0.0340, grad=0.0000)], [Var(v=0.1350, grad=0.0000), Var(v=-0.1639, grad=0.0000), Var(v=-0.1297, grad=0.0000), Var(v=0.1178, grad=0.0000), Var(v=-0.0493, grad=0.0000), Var(v=0.0010, grad=0.0000), Var(v=-0.0470, grad=0.0000), Var(v=0.0310, grad=0.0000), Var(v=0.1572, grad=0.0000), Var(v=-0.1327, grad=0.0000), Var(v=-0.0616, grad=0.0000), Var(v=0.1865, grad=0.0000), Var(v=0.2144, grad=0.0000), Var(v=-0.0853, grad=0.0000), Var(v=-0.1020, grad=0.0000), Var(v=0.0766, grad=0.0000), Var(v=0.0449, grad=0.0000), Var(v=-0.0363, grad=0.0000), Var(v=-0.0584, grad=0.0000), Var(v=-0.0983, grad=0.0000), Var(v=0.0629, grad=0.0000), Var(v=0.0606, grad=0.0000), Var(v=-0.0284, grad=0.0000), Var(v=-0.0082, grad=0.0000), Var(v=-0.0406, grad=0.0000), Var(v=0.0071, grad=0.0000), Var(v=-0.0511, grad=0.0000), Var(v=0.0507, grad=0.0000), Var(v=0.0869, grad=0.0000), Var(v=-0.1859, grad=0.0000), Var(v=0.1320, grad=0.0000), Var(v=-0.1203, grad=0.0000), Var(v=-0.0257, grad=0.0000), Var(v=0.0307, grad=0.0000), Var(v=0.0066, grad=0.0000), Var(v=-0.0244, grad=0.0000), Var(v=0.0625, grad=0.0000), Var(v=0.0856, grad=0.0000), Var(v=0.1660, grad=0.0000), Var(v=0.1884, grad=0.0000), Var(v=-0.1931, grad=0.0000), Var(v=-0.1733, grad=0.0000), Var(v=-0.1037, grad=0.0000), Var(v=-0.1371, grad=0.0000), Var(v=0.1002, grad=0.0000), Var(v=-0.2395, grad=0.0000), Var(v=0.1059, grad=0.0000), Var(v=-0.0361, grad=0.0000), Var(v=-0.0324, grad=0.0000), Var(v=-0.0033, grad=0.0000)], [Var(v=-0.0607, grad=0.0000), Var(v=-0.0940, grad=0.0000), Var(v=-0.0894, grad=0.0000), Var(v=0.1352, grad=0.0000), Var(v=0.0017, grad=0.0000), Var(v=0.1808, grad=0.0000), Var(v=-0.2836, grad=0.0000), Var(v=0.0743, grad=0.0000), Var(v=-0.1499, grad=0.0000), Var(v=-0.0240, grad=0.0000), Var(v=-0.0770, grad=0.0000), Var(v=-0.1352, grad=0.0000), Var(v=-0.0110, grad=0.0000), Var(v=0.0373, grad=0.0000), Var(v=0.0802, grad=0.0000), Var(v=-0.0321, grad=0.0000), Var(v=-0.0516, grad=0.0000), Var(v=-0.0230, grad=0.0000), Var(v=0.0989, grad=0.0000), Var(v=-0.0301, grad=0.0000), Var(v=0.0280, grad=0.0000), Var(v=0.0027, grad=0.0000), Var(v=0.0628, grad=0.0000), Var(v=0.0291, grad=0.0000), Var(v=-0.0043, grad=0.0000), Var(v=0.0393, grad=0.0000), Var(v=0.0623, grad=0.0000), Var(v=0.0322, grad=0.0000), Var(v=-0.1825, grad=0.0000), Var(v=0.2330, grad=0.0000), Var(v=-0.0777, grad=0.0000), Var(v=-0.0851, grad=0.0000), Var(v=0.0020, grad=0.0000), Var(v=0.0352, grad=0.0000), Var(v=0.0431, grad=0.0000), Var(v=0.0172, grad=0.0000), Var(v=0.0752, grad=0.0000), Var(v=0.0063, grad=0.0000), Var(v=-0.1319, grad=0.0000), Var(v=-0.0586, grad=0.0000), Var(v=0.0536, grad=0.0000), Var(v=-0.1028, grad=0.0000), Var(v=0.0513, grad=0.0000), Var(v=-0.0755, grad=0.0000), Var(v=-0.0655, grad=0.0000), Var(v=-0.0289, grad=0.0000), Var(v=-0.0170, grad=0.0000), Var(v=-0.1553, grad=0.0000), Var(v=0.0269, grad=0.0000), Var(v=0.0343, grad=0.0000)], [Var(v=-0.0326, grad=0.0000), Var(v=0.0797, grad=0.0000), Var(v=0.0772, grad=0.0000), Var(v=-0.0284, grad=0.0000), Var(v=0.0111, grad=0.0000), Var(v=0.0193, grad=0.0000), Var(v=-0.0334, grad=0.0000), Var(v=-0.1230, grad=0.0000), Var(v=-0.0092, grad=0.0000), Var(v=0.0420, grad=0.0000), Var(v=-0.1223, grad=0.0000), Var(v=0.1057, grad=0.0000), Var(v=-0.0227, grad=0.0000), Var(v=-0.2184, grad=0.0000), Var(v=-0.0616, grad=0.0000), Var(v=-0.0079, grad=0.0000), Var(v=0.0571, grad=0.0000), Var(v=-0.3092, grad=0.0000), Var(v=0.0025, grad=0.0000), Var(v=0.0321, grad=0.0000), Var(v=-0.1810, grad=0.0000), Var(v=0.0764, grad=0.0000), Var(v=0.0076, grad=0.0000), Var(v=-0.1616, grad=0.0000), Var(v=0.0642, grad=0.0000), Var(v=0.0254, grad=0.0000), Var(v=-0.1859, grad=0.0000), Var(v=-0.0552, grad=0.0000), Var(v=-0.0796, grad=0.0000), Var(v=0.0078, grad=0.0000), Var(v=-0.1673, grad=0.0000), Var(v=-0.1555, grad=0.0000), Var(v=-0.0022, grad=0.0000), Var(v=0.0004, grad=0.0000), Var(v=-0.0771, grad=0.0000), Var(v=-0.0938, grad=0.0000), Var(v=-0.0675, grad=0.0000), Var(v=-0.0708, grad=0.0000), Var(v=0.0334, grad=0.0000), Var(v=0.0203, grad=0.0000), Var(v=0.0029, grad=0.0000), Var(v=0.2432, grad=0.0000), Var(v=0.2046, grad=0.0000), Var(v=0.0222, grad=0.0000), Var(v=-0.0247, grad=0.0000), Var(v=0.2005, grad=0.0000), Var(v=-0.1245, grad=0.0000), Var(v=0.1109, grad=0.0000), Var(v=-0.0047, grad=0.0000), Var(v=0.0132, grad=0.0000)], [Var(v=0.2226, grad=0.0000), Var(v=-0.0663, grad=0.0000), Var(v=-0.0753, grad=0.0000), Var(v=0.0873, grad=0.0000), Var(v=0.0927, grad=0.0000), Var(v=-0.1717, grad=0.0000), Var(v=-0.1315, grad=0.0000), Var(v=0.0388, grad=0.0000), Var(v=0.0732, grad=0.0000), Var(v=0.0702, grad=0.0000), Var(v=-0.0549, grad=0.0000), Var(v=0.1242, grad=0.0000), Var(v=0.1304, grad=0.0000), Var(v=0.0345, grad=0.0000), Var(v=-0.0892, grad=0.0000), Var(v=0.0336, grad=0.0000), Var(v=-0.1405, grad=0.0000), Var(v=-0.0257, grad=0.0000), Var(v=0.1033, grad=0.0000), Var(v=-0.2364, grad=0.0000), Var(v=0.0396, grad=0.0000), Var(v=-0.0217, grad=0.0000), Var(v=-0.1661, grad=0.0000), Var(v=-0.1213, grad=0.0000), Var(v=-0.1394, grad=0.0000), Var(v=0.1020, grad=0.0000), Var(v=0.0527, grad=0.0000), Var(v=0.2244, grad=0.0000), Var(v=0.0353, grad=0.0000), Var(v=0.0418, grad=0.0000), Var(v=-0.0935, grad=0.0000), Var(v=0.0285, grad=0.0000), Var(v=0.1212, grad=0.0000), Var(v=0.0777, grad=0.0000), Var(v=-0.0432, grad=0.0000), Var(v=-0.1311, grad=0.0000), Var(v=-0.1423, grad=0.0000), Var(v=-0.0025, grad=0.0000), Var(v=0.0127, grad=0.0000), Var(v=0.0510, grad=0.0000), Var(v=0.0355, grad=0.0000), Var(v=0.0835, grad=0.0000), Var(v=0.0006, grad=0.0000), Var(v=0.0042, grad=0.0000), Var(v=-0.0832, grad=0.0000), Var(v=-0.0213, grad=0.0000), Var(v=-0.1897, grad=0.0000), Var(v=-0.1832, grad=0.0000), Var(v=0.0373, grad=0.0000), Var(v=-0.0036, grad=0.0000)], [Var(v=0.1399, grad=0.0000), Var(v=0.2211, grad=0.0000), Var(v=-0.1886, grad=0.0000), Var(v=0.0968, grad=0.0000), Var(v=-0.0617, grad=0.0000), Var(v=0.0316, grad=0.0000), Var(v=0.1568, grad=0.0000), Var(v=0.1193, grad=0.0000), Var(v=0.0213, grad=0.0000), Var(v=0.0900, grad=0.0000), Var(v=-0.1491, grad=0.0000), Var(v=0.1455, grad=0.0000), Var(v=0.0236, grad=0.0000), Var(v=-0.0190, grad=0.0000), Var(v=-0.1306, grad=0.0000), Var(v=-0.1047, grad=0.0000), Var(v=0.0675, grad=0.0000), Var(v=0.0481, grad=0.0000), Var(v=-0.0025, grad=0.0000), Var(v=0.0264, grad=0.0000), Var(v=-0.0723, grad=0.0000), Var(v=0.0735, grad=0.0000), Var(v=0.0649, grad=0.0000), Var(v=0.0838, grad=0.0000), Var(v=-0.0327, grad=0.0000), Var(v=-0.1606, grad=0.0000), Var(v=-0.0191, grad=0.0000), Var(v=-0.0846, grad=0.0000), Var(v=0.0337, grad=0.0000), Var(v=-0.0067, grad=0.0000), Var(v=-0.0471, grad=0.0000), Var(v=0.0474, grad=0.0000), Var(v=0.1359, grad=0.0000), Var(v=-0.0814, grad=0.0000), Var(v=0.1202, grad=0.0000), Var(v=0.0761, grad=0.0000), Var(v=0.1236, grad=0.0000), Var(v=-0.0891, grad=0.0000), Var(v=0.1563, grad=0.0000), Var(v=-0.0511, grad=0.0000), Var(v=-0.0005, grad=0.0000), Var(v=-0.0775, grad=0.0000), Var(v=-0.0246, grad=0.0000), Var(v=0.0882, grad=0.0000), Var(v=0.2101, grad=0.0000), Var(v=0.0663, grad=0.0000), Var(v=-0.0925, grad=0.0000), Var(v=0.0079, grad=0.0000), Var(v=0.0657, grad=0.0000), Var(v=0.0626, grad=0.0000)], [Var(v=-0.0620, grad=0.0000), Var(v=0.1784, grad=0.0000), Var(v=0.1436, grad=0.0000), Var(v=-0.0896, grad=0.0000), Var(v=0.0649, grad=0.0000), Var(v=-0.1796, grad=0.0000), Var(v=0.1984, grad=0.0000), Var(v=-0.0670, grad=0.0000), Var(v=0.0932, grad=0.0000), Var(v=-0.0910, grad=0.0000), Var(v=-0.0516, grad=0.0000), Var(v=-0.0811, grad=0.0000), Var(v=-0.0309, grad=0.0000), Var(v=-0.0533, grad=0.0000), Var(v=-0.1202, grad=0.0000), Var(v=0.0976, grad=0.0000), Var(v=-0.0976, grad=0.0000), Var(v=0.0569, grad=0.0000), Var(v=-0.1277, grad=0.0000), Var(v=-0.0888, grad=0.0000), Var(v=0.1393, grad=0.0000), Var(v=-0.0444, grad=0.0000), Var(v=0.0341, grad=0.0000), Var(v=-0.1038, grad=0.0000), Var(v=0.0930, grad=0.0000), Var(v=-0.0058, grad=0.0000), Var(v=-0.1565, grad=0.0000), Var(v=-0.0159, grad=0.0000), Var(v=0.1891, grad=0.0000), Var(v=0.1298, grad=0.0000), Var(v=0.0683, grad=0.0000), Var(v=0.1307, grad=0.0000), Var(v=0.0940, grad=0.0000), Var(v=0.0086, grad=0.0000), Var(v=-0.0547, grad=0.0000), Var(v=-0.1200, grad=0.0000), Var(v=-0.0401, grad=0.0000), Var(v=0.0775, grad=0.0000), Var(v=0.0278, grad=0.0000), Var(v=0.1123, grad=0.0000), Var(v=-0.0039, grad=0.0000), Var(v=0.0844, grad=0.0000), Var(v=-0.0548, grad=0.0000), Var(v=0.1351, grad=0.0000), Var(v=0.1040, grad=0.0000), Var(v=0.0861, grad=0.0000), Var(v=-0.0389, grad=0.0000), Var(v=-0.0991, grad=0.0000), Var(v=-0.0239, grad=0.0000), Var(v=-0.0026, grad=0.0000)], [Var(v=-0.0655, grad=0.0000), Var(v=-0.0837, grad=0.0000), Var(v=-0.0880, grad=0.0000), Var(v=-0.0674, grad=0.0000), Var(v=0.2156, grad=0.0000), Var(v=0.0077, grad=0.0000), Var(v=-0.0965, grad=0.0000), Var(v=0.0879, grad=0.0000), Var(v=0.0182, grad=0.0000), Var(v=0.1777, grad=0.0000), Var(v=-0.0150, grad=0.0000), Var(v=0.0272, grad=0.0000), Var(v=0.1673, grad=0.0000), Var(v=0.2597, grad=0.0000), Var(v=-0.0506, grad=0.0000), Var(v=0.0585, grad=0.0000), Var(v=0.0718, grad=0.0000), Var(v=0.1048, grad=0.0000), Var(v=-0.0955, grad=0.0000), Var(v=-0.0415, grad=0.0000), Var(v=-0.0125, grad=0.0000), Var(v=0.0399, grad=0.0000), Var(v=0.0761, grad=0.0000), Var(v=0.0218, grad=0.0000), Var(v=-0.0677, grad=0.0000), Var(v=-0.1180, grad=0.0000), Var(v=-0.0762, grad=0.0000), Var(v=-0.0350, grad=0.0000), Var(v=0.0059, grad=0.0000), Var(v=0.1506, grad=0.0000), Var(v=0.1083, grad=0.0000), Var(v=0.1968, grad=0.0000), Var(v=0.0459, grad=0.0000), Var(v=-0.0298, grad=0.0000), Var(v=0.1455, grad=0.0000), Var(v=0.0514, grad=0.0000), Var(v=0.0248, grad=0.0000), Var(v=0.0716, grad=0.0000), Var(v=0.0392, grad=0.0000), Var(v=0.0204, grad=0.0000), Var(v=0.0231, grad=0.0000), Var(v=-0.1477, grad=0.0000), Var(v=-0.1274, grad=0.0000), Var(v=-0.0140, grad=0.0000), Var(v=0.0243, grad=0.0000), Var(v=0.0236, grad=0.0000), Var(v=0.1245, grad=0.0000), Var(v=0.0784, grad=0.0000), Var(v=-0.0591, grad=0.0000), Var(v=0.0725, grad=0.0000)], [Var(v=-0.0714, grad=0.0000), Var(v=0.1116, grad=0.0000), Var(v=-0.2466, grad=0.0000), Var(v=0.2538, grad=0.0000), Var(v=0.0543, grad=0.0000), Var(v=-0.0890, grad=0.0000), Var(v=-0.0450, grad=0.0000), Var(v=-0.0375, grad=0.0000), Var(v=0.2321, grad=0.0000), Var(v=0.0450, grad=0.0000), Var(v=-0.0596, grad=0.0000), Var(v=0.1160, grad=0.0000), Var(v=-0.0268, grad=0.0000), Var(v=-0.1280, grad=0.0000), Var(v=-0.2588, grad=0.0000), Var(v=-0.0828, grad=0.0000), Var(v=-0.0707, grad=0.0000), Var(v=-0.2643, grad=0.0000), Var(v=0.1174, grad=0.0000), Var(v=0.1033, grad=0.0000), Var(v=0.0632, grad=0.0000), Var(v=-0.0242, grad=0.0000), Var(v=0.0429, grad=0.0000), Var(v=0.0414, grad=0.0000), Var(v=-0.1350, grad=0.0000), Var(v=0.1525, grad=0.0000), Var(v=0.0994, grad=0.0000), Var(v=0.1979, grad=0.0000), Var(v=0.0435, grad=0.0000), Var(v=-0.0355, grad=0.0000), Var(v=-0.0923, grad=0.0000), Var(v=-0.0980, grad=0.0000), Var(v=-0.0160, grad=0.0000), Var(v=0.1286, grad=0.0000), Var(v=-0.0273, grad=0.0000), Var(v=0.0446, grad=0.0000), Var(v=0.1209, grad=0.0000), Var(v=-0.0187, grad=0.0000), Var(v=-0.0614, grad=0.0000), Var(v=-0.0631, grad=0.0000), Var(v=-0.0179, grad=0.0000), Var(v=-0.0816, grad=0.0000), Var(v=-0.1118, grad=0.0000), Var(v=0.0956, grad=0.0000), Var(v=0.0441, grad=0.0000), Var(v=0.0077, grad=0.0000), Var(v=0.0326, grad=0.0000), Var(v=0.0440, grad=0.0000), Var(v=0.1133, grad=0.0000), Var(v=0.1527, grad=0.0000)]] Biases: [Var(v=0.0047, grad=0.0000), Var(v=-0.0016, grad=0.0000), Var(v=0.0000, grad=0.0000), Var(v=-0.0040, grad=0.0000), Var(v=-0.0192, grad=0.0000), Var(v=-0.1300, grad=0.0000), Var(v=-0.1275, grad=0.0000), Var(v=0.0656, grad=0.0000), Var(v=0.1962, grad=0.0000), Var(v=-0.0647, grad=0.0000), Var(v=0.0000, grad=0.0000), Var(v=0.0351, grad=0.0000), Var(v=0.0150, grad=0.0000), Var(v=0.0000, grad=0.0000), Var(v=0.0000, grad=0.0000), Var(v=0.0720, grad=0.0000), Var(v=0.0000, grad=0.0000), Var(v=0.0000, grad=0.0000), Var(v=-0.0923, grad=0.0000), Var(v=0.0000, grad=0.0000), Var(v=-0.0042, grad=0.0000), Var(v=0.0011, grad=0.0000), Var(v=-0.0010, grad=0.0000), Var(v=0.0000, grad=0.0000), Var(v=0.0269, grad=0.0000), Var(v=0.0339, grad=0.0000), Var(v=0.0215, grad=0.0000), Var(v=0.0198, grad=0.0000), Var(v=-0.0904, grad=0.0000), Var(v=0.1174, grad=0.0000), Var(v=0.0000, grad=0.0000), Var(v=0.0000, grad=0.0000), Var(v=0.1044, grad=0.0000), Var(v=-0.0345, grad=0.0000), Var(v=0.0000, grad=0.0000), Var(v=0.0470, grad=0.0000), Var(v=0.0421, grad=0.0000), Var(v=0.0862, grad=0.0000), Var(v=0.0000, grad=0.0000), Var(v=0.0806, grad=0.0000), Var(v=-0.0834, grad=0.0000), Var(v=-0.0227, grad=0.0000), Var(v=-0.1927, grad=0.0000), Var(v=-0.0114, grad=0.0000), Var(v=0.0006, grad=0.0000), Var(v=-0.0788, grad=0.0000), Var(v=0.0000, grad=0.0000), Var(v=0.0630, grad=0.0000), Var(v=-0.0020, grad=0.0000), Var(v=0.0091, grad=0.0000)]\n",
      "Layer 2 \n",
      " Weights: [[Var(v=-0.2083, grad=0.0000)], [Var(v=0.1025, grad=0.0000)], [Var(v=-0.1465, grad=0.0000)], [Var(v=0.1234, grad=0.0000)], [Var(v=0.0160, grad=0.0000)], [Var(v=0.1002, grad=0.0000)], [Var(v=-0.1132, grad=0.0000)], [Var(v=0.0960, grad=0.0000)], [Var(v=0.2666, grad=0.0000)], [Var(v=0.0491, grad=0.0000)], [Var(v=-0.0142, grad=0.0000)], [Var(v=-0.1232, grad=0.0000)], [Var(v=-0.0263, grad=0.0000)], [Var(v=-0.0273, grad=0.0000)], [Var(v=0.0623, grad=0.0000)], [Var(v=-0.0990, grad=0.0000)], [Var(v=-0.0032, grad=0.0000)], [Var(v=0.0988, grad=0.0000)], [Var(v=0.0780, grad=0.0000)], [Var(v=-0.1332, grad=0.0000)], [Var(v=0.1800, grad=0.0000)], [Var(v=-0.0366, grad=0.0000)], [Var(v=0.0634, grad=0.0000)], [Var(v=-0.0133, grad=0.0000)], [Var(v=-0.0429, grad=0.0000)], [Var(v=0.0430, grad=0.0000)], [Var(v=0.0303, grad=0.0000)], [Var(v=0.0635, grad=0.0000)], [Var(v=-0.0925, grad=0.0000)], [Var(v=0.1484, grad=0.0000)], [Var(v=0.0245, grad=0.0000)], [Var(v=-0.0077, grad=0.0000)], [Var(v=0.1291, grad=0.0000)], [Var(v=-0.0121, grad=0.0000)], [Var(v=-0.0088, grad=0.0000)], [Var(v=0.0834, grad=0.0000)], [Var(v=0.0796, grad=0.0000)], [Var(v=-0.1148, grad=0.0000)], [Var(v=0.1572, grad=0.0000)], [Var(v=-0.1216, grad=0.0000)], [Var(v=-0.0928, grad=0.0000)], [Var(v=-0.0063, grad=0.0000)], [Var(v=0.2074, grad=0.0000)], [Var(v=0.0090, grad=0.0000)], [Var(v=0.0146, grad=0.0000)], [Var(v=-0.0498, grad=0.0000)], [Var(v=0.2524, grad=0.0000)], [Var(v=-0.0962, grad=0.0000)], [Var(v=0.0073, grad=0.0000)], [Var(v=0.0470, grad=0.0000)]] Biases: [Var(v=-0.0253, grad=0.0000)]\n"
     ]
    },
    {
     "data": {
      "text/plain": [
       "[None, None, None]"
      ]
     },
     "execution_count": 60,
     "metadata": {},
     "output_type": "execute_result"
    }
   ],
   "source": [
    "print('Network before update:')\n",
    "[print('Layer', i, '\\n', NN[i]) for i in range(len(NN))] \n",
    "\n",
    "def parameters(network):\n",
    "  params = []\n",
    "  for layer in range(len(network)):\n",
    "    params += network[layer].parameters()\n",
    "  return params\n",
    "\n",
    "def update_parameters(params, learning_rate=0.01):\n",
    "  for p in params:\n",
    "    p.v -= learning_rate*p.grad\n",
    "\n",
    "def zero_gradients(params):\n",
    "  for p in params:\n",
    "    p.grad = 0.0\n",
    "\n",
    "update_parameters(parameters(NN))\n",
    "\n",
    "print('\\nNetwork after update:')\n",
    "[print('Layer', i, '\\n', NN[i]) for i in range(len(NN))] \n",
    "\n",
    "zero_gradients(parameters(NN))\n",
    "\n",
    "print('\\nNetwork after zeroing gradients:')\n",
    "[print('Layer', i, '\\n', NN[i]) for i in range(len(NN))] "
   ]
  },
  {
   "cell_type": "code",
   "execution_count": 61,
   "metadata": {
    "id": "woWYpdw6FtIO"
   },
   "outputs": [],
   "source": [
    "# Initialize an arbitrary neural network\n",
    "NN = [\n",
    "    DenseLayer(1, 8, lambda x: x.relu()),\n",
    "    DenseLayer(8, 1, lambda x: x.identity())\n",
    "]\n",
    "\n",
    "# Recommended hyper-parameters for 3-D: \n",
    "#NN = [\n",
    "#    DenseLayer(3, 16, lambda x: x.relu()),\n",
    "#    DenseLayer(16, 1, lambda x: x.identity())\n",
    "#]\n",
    "\n",
    "\n",
    "### Notice that, when we switch from tanh to relu activation, we decrease the learning rate. This is due the stability of the gradients \n",
    "## of the activation functions."
   ]
  },
  {
   "cell_type": "code",
   "execution_count": 62,
   "metadata": {
    "id": "mdqaqYBVFtIR"
   },
   "outputs": [],
   "source": [
    "# Initialize training hyperparameters\n",
    "EPOCHS = 200\n",
    "LEARN_R = 2e-3 "
   ]
  },
  {
   "cell_type": "code",
   "execution_count": 63,
   "metadata": {
    "colab": {
     "base_uri": "https://localhost:8080/"
    },
    "id": "5kfg76GMFtIW",
    "outputId": "e30cf68a-31f2-42b4-cc5e-860c297c0f04",
    "scrolled": true
   },
   "outputs": [
    {
     "name": "stdout",
     "output_type": "stream",
     "text": [
      "   0 ( 0.00%) Train loss: 105.882 \t Validation loss: 106.303\n",
      "  10 ( 5.00%) Train loss: 38.060 \t Validation loss: 31.660\n",
      "  20 (10.00%) Train loss: 14.274 \t Validation loss: 11.406\n",
      "  30 (15.00%) Train loss: 13.511 \t Validation loss: 10.538\n",
      "  40 (20.00%) Train loss: 13.140 \t Validation loss: 10.033\n",
      "  50 (25.00%) Train loss: 12.846 \t Validation loss: 9.643\n",
      "  60 (30.00%) Train loss: 12.608 \t Validation loss: 9.322\n",
      "  70 (35.00%) Train loss: 12.432 \t Validation loss: 9.140\n",
      "  80 (40.00%) Train loss: 12.306 \t Validation loss: 9.063\n",
      "  90 (45.00%) Train loss: 12.218 \t Validation loss: 9.001\n",
      " 100 (50.00%) Train loss: 12.151 \t Validation loss: 8.961\n",
      " 110 (55.00%) Train loss: 12.090 \t Validation loss: 8.936\n",
      " 120 (60.00%) Train loss: 12.027 \t Validation loss: 8.945\n",
      " 130 (65.00%) Train loss: 11.955 \t Validation loss: 8.941\n",
      " 140 (70.00%) Train loss: 11.920 \t Validation loss: 8.954\n",
      " 150 (75.00%) Train loss: 11.901 \t Validation loss: 8.953\n",
      " 160 (80.00%) Train loss: 11.889 \t Validation loss: 8.960\n",
      " 170 (85.00%) Train loss: 11.883 \t Validation loss: 8.965\n",
      " 180 (90.00%) Train loss: 11.879 \t Validation loss: 8.970\n",
      " 190 (95.00%) Train loss: 11.876 \t Validation loss: 8.974\n"
     ]
    }
   ],
   "source": [
    "train_loss = []\n",
    "val_loss = []\n",
    "\n",
    "for e in range(EPOCHS):\n",
    "     \n",
    "    # Forward pass and loss computation\n",
    "    Loss = squared_loss(y_train, forward(x_train, NN))\n",
    "\n",
    "    # Backward pass\n",
    "    Loss.backward()\n",
    "    \n",
    "    # gradient descent update\n",
    "    update_parameters(parameters(NN), LEARN_R)\n",
    "    zero_gradients(parameters(NN))\n",
    "    \n",
    "    # Training loss\n",
    "    train_loss.append(Loss.v)\n",
    "    \n",
    "    # Validation\n",
    "    Loss_validation = squared_loss(y_validation, forward(x_validation, NN))\n",
    "    val_loss.append(Loss_validation.v)\n",
    "    \n",
    "    if e%10==0:\n",
    "        print(\"{:4d}\".format(e),\n",
    "              \"({:5.2f}%)\".format(e/EPOCHS*100), \n",
    "              \"Train loss: {:4.3f} \\t Validation loss: {:4.3f}\".format(train_loss[-1], val_loss[-1]))\n",
    "        \n"
   ]
  },
  {
   "cell_type": "code",
   "execution_count": 64,
   "metadata": {
    "colab": {
     "base_uri": "https://localhost:8080/",
     "height": 265
    },
    "id": "VetyRWFwFtIY",
    "outputId": "344e490d-6d7d-455a-fa6f-88dd11eb957e"
   },
   "outputs": [
    {
     "data": {
      "image/png": "[encoded data removed]",
      "text/plain": [
       "<Figure size 640x480 with 1 Axes>"
      ]
     },
     "metadata": {},
     "output_type": "display_data"
    }
   ],
   "source": [
    "plt.plot(range(len(train_loss)), train_loss);\n",
    "plt.plot(range(len(val_loss)), val_loss);"
   ]
  },
  {
   "cell_type": "markdown",
   "metadata": {
    "id": "8OgmIrM9FtIb"
   },
   "source": [
    "# Testing\n",
    "\n",
    "We have kept the calculation of the test error separate in order to emphasize that you should not use the test set in optimization."
   ]
  },
  {
   "cell_type": "code",
   "execution_count": 65,
   "metadata": {
    "id": "HmNi7S-vFtIc"
   },
   "outputs": [],
   "source": [
    "output_test = forward(x_test, NN)"
   ]
  },
  {
   "cell_type": "code",
   "execution_count": 66,
   "metadata": {
    "colab": {
     "base_uri": "https://localhost:8080/",
     "height": 316
    },
    "id": "7mmJOTSEFtIf",
    "outputId": "e3264095-cefe-4aee-893d-bf152438e332"
   },
   "outputs": [
    {
     "name": "stdout",
     "output_type": "stream",
     "text": [
      "Test loss:  9.761\n"
     ]
    },
    {
     "data": {
      "image/png": "[encoded data removed]",
      "text/plain": [
       "<Figure size 640x480 with 1 Axes>"
      ]
     },
     "metadata": {},
     "output_type": "display_data"
    }
   ],
   "source": [
    "y_test_np = Var_to_nparray(y_test)\n",
    "plt.scatter(y_test_np, Var_to_nparray(output_test));\n",
    "plt.plot([np.min(y_test_np), np.max(y_test_np)], [np.min(y_test_np), np.max(y_test_np)], color='k');\n",
    "plt.xlabel(\"y\");\n",
    "plt.ylabel(\"$\\hat{y}$\");\n",
    "plt.title(\"Model prediction vs real in the test set, the close to the line the better\")\n",
    "plt.grid(True);\n",
    "plt.axis('equal');\n",
    "plt.tight_layout();\n",
    "\n",
    "Loss_test = squared_loss(y_test, forward(x_test, NN))\n",
    "\n",
    "print(\"Test loss:  {:4.3f}\".format(Loss_test.v))"
   ]
  },
  {
   "cell_type": "code",
   "execution_count": 67,
   "metadata": {
    "colab": {
     "base_uri": "https://localhost:8080/",
     "height": 279
    },
    "id": "ODi0WlmQFtIh",
    "outputId": "d1ab874f-0717-4987-87bf-1f0c7c8e7148"
   },
   "outputs": [
    {
     "data": {
      "image/png": "[encoded data removed]",
      "text/plain": [
       "<Figure size 640x480 with 1 Axes>"
      ]
     },
     "metadata": {},
     "output_type": "display_data"
    }
   ],
   "source": [
    "x_test_np = Var_to_nparray(x_test)\n",
    "x_train_np = Var_to_nparray(x_train)\n",
    "y_train_np = Var_to_nparray(y_train)\n",
    "if D1:\n",
    "    plt.scatter(x_train_np, y_train_np, label=\"train data\");\n",
    "    plt.scatter(x_test_np, Var_to_nparray(output_test), label=\"test prediction\");\n",
    "    plt.scatter(x_test_np, y_test_np, label=\"test data\");\n",
    "    plt.legend();\n",
    "    plt.xlabel(\"x\");\n",
    "    plt.ylabel(\"y\");\n",
    "else:\n",
    "    plt.scatter(x_train_np[:,1], y_train, label=\"train data\");\n",
    "    plt.scatter(x_test_np[:,1], Var_to_nparray(output_test), label=\"test data prediction\");\n",
    "    plt.scatter(x_test_np[:,1], y_test_np, label=\"test data\");\n",
    "    plt.legend();\n",
    "    plt.xlabel(\"x\");\n",
    "    plt.ylabel(\"y\");"
   ]
  },
  {
   "cell_type": "markdown",
   "metadata": {
    "id": "zTBAmjsAFtIk"
   },
   "source": [
    "## Exercise l) Show overfitting, underfitting and just right fitting\n",
    "\n",
    "Vary the architecture and other things to show clear signs of overfitting (=training loss significantly lower than test loss) and underfitting (=not fitting enoung to training data so that test performance is also hurt).\n",
    "\n",
    "See also if you can get a good compromise which leads to a low validation loss. \n",
    "\n",
    "For this problem do you see any big difference between validation and test loss? The answer here will probably be no. Discuss cases where it is important to keep the two separate.\n",
    "\n",
    "_Insert written answer here._\n"
   ]
  },
  {
   "cell_type": "markdown",
   "metadata": {},
   "source": [
    "### Answer\n",
    "By maintaining separate validation and test sets, we ensure that the model's performance evaluation is realistic and reliable, which is particularly important in critical applications like medical diagnosis or financial predictions."
   ]
  },
  {
   "cell_type": "code",
   "execution_count": 73,
   "metadata": {
    "id": "tQZCn2dxFtIl"
   },
   "outputs": [
    {
     "name": "stdout",
     "output_type": "stream",
     "text": [
      "Underfitting model:\n",
      "Epoch 0: Train loss = 24.37450913304311, Validation loss = 10.169883291302401\n",
      "Epoch 10: Train loss = 35.81912704781135, Validation loss = 16.60687161374271\n",
      "Epoch 20: Train loss = 35.81912704781135, Validation loss = 16.60687161374271\n",
      "Epoch 30: Train loss = 35.81912704781135, Validation loss = 16.60687161374271\n",
      "Epoch 40: Train loss = 35.81912704781135, Validation loss = 16.60687161374271\n",
      "Epoch 50: Train loss = 35.81912704781135, Validation loss = 16.60687161374271\n",
      "Epoch 60: Train loss = 35.81912704781135, Validation loss = 16.60687161374271\n",
      "Epoch 70: Train loss = 35.81912704781135, Validation loss = 16.60687161374271\n",
      "Epoch 80: Train loss = 35.81912704781135, Validation loss = 16.60687161374271\n",
      "Epoch 90: Train loss = 35.81912704781135, Validation loss = 16.60687161374271\n"
     ]
    },
    {
     "data": {
      "image/png": "[encoded data removed]",
      "text/plain": [
       "<Figure size 640x480 with 1 Axes>"
      ]
     },
     "metadata": {},
     "output_type": "display_data"
    },
    {
     "name": "stdout",
     "output_type": "stream",
     "text": [
      "Test loss: 13.540819612974163\n",
      "\n",
      "Overfitting model:\n",
      "Epoch 0: Train loss = 428443.21517267934, Validation loss = 635415.5218559337\n",
      "Epoch 10: Train loss = 812239615.5164979, Validation loss = 530696903.0445944\n",
      "Epoch 20: Train loss = 679586707210.744, Validation loss = 443997623223.4187\n",
      "Epoch 30: Train loss = 568598342016402.0, Validation loss = 371484278305691.4\n",
      "Epoch 40: Train loss = 4.75736313142209e+17, Validation loss = 3.1081439206826995e+17\n",
      "Epoch 50: Train loss = 3.9804027363065555e+20, Validation loss = 2.6005297879561273e+20\n",
      "Epoch 60: Train loss = 3.330333528367989e+23, Validation loss = 2.1758179052072375e+23\n",
      "Epoch 70: Train loss = 2.7864319630288323e+26, Validation loss = 1.8204688825123678e+26\n",
      "Epoch 80: Train loss = 2.3313590120787543e+29, Validation loss = 1.5231545545581258e+29\n",
      "Epoch 90: Train loss = 1.9506074131064818e+32, Validation loss = 1.2743968432295734e+32\n"
     ]
    },
    {
     "data": {
      "image/png": "[encoded data removed]",
      "text/plain": [
       "<Figure size 640x480 with 1 Axes>"
      ]
     },
     "metadata": {},
     "output_type": "display_data"
    },
    {
     "name": "stdout",
     "output_type": "stream",
     "text": [
      "Test loss: 5.440130642474878e+34\n",
      "\n",
      "Well-fitting model:\n",
      "Epoch 0: Train loss = 3826.389837328386, Validation loss = 5890.498188949908\n",
      "Epoch 10: Train loss = 7396122.710262742, Validation loss = 4835345.412696139\n",
      "Epoch 20: Train loss = 6188197875.837698, Validation loss = 4043048935.1459913\n",
      "Epoch 30: Train loss = 5177557196012.982, Validation loss = 3382673391246.22\n",
      "Epoch 40: Train loss = 4331971779541373.5, Validation loss = 2830221640438973.5\n",
      "Epoch 50: Train loss = 3.6244852134579297e+18, Validation loss = 2.3679970083764024e+18\n",
      "Epoch 60: Train loss = 3.0325435462476486e+21, Validation loss = 1.9812617836135622e+21\n",
      "Epoch 70: Train loss = 2.537276280157491e+24, Validation loss = 1.6576871697047764e+24\n",
      "Epoch 80: Train loss = 2.1228947989273265e+27, Validation loss = 1.3869579352992396e+27\n",
      "Epoch 90: Train loss = 1.7761890427766147e+30, Validation loss = 1.160443507947384e+30\n"
     ]
    },
    {
     "data": {
      "image/png": "[encoded data removed]",
      "text/plain": [
       "<Figure size 640x480 with 1 Axes>"
      ]
     },
     "metadata": {},
     "output_type": "display_data"
    },
    {
     "name": "stdout",
     "output_type": "stream",
     "text": [
      "Test loss: 4.953687950487441e+32\n"
     ]
    },
    {
     "data": {
      "text/plain": [
       "[Weights: [[Var(v=-7.1295, grad=0.0000), Var(v=-7.1295, grad=0.0000), Var(v=-7.1295, grad=0.0000), Var(v=-7.1295, grad=0.0000), Var(v=-7.1295, grad=0.0000), Var(v=-7.1295, grad=0.0000), Var(v=-7.1295, grad=0.0000), Var(v=-7.1295, grad=0.0000), Var(v=-7.1295, grad=0.0000), Var(v=-7.1295, grad=0.0000)]] Biases: [Var(v=-11.5587, grad=0.0000), Var(v=-11.5587, grad=0.0000), Var(v=-11.5587, grad=0.0000), Var(v=-11.5587, grad=0.0000), Var(v=-11.5587, grad=0.0000), Var(v=-11.5587, grad=0.0000), Var(v=-11.5587, grad=0.0000), Var(v=-11.5587, grad=0.0000), Var(v=-11.5587, grad=0.0000), Var(v=-11.5587, grad=0.0000)],\n",
       " Weights: [[Var(v=-7.1295, grad=0.0000)], [Var(v=-7.1295, grad=0.0000)], [Var(v=-7.1295, grad=0.0000)], [Var(v=-7.1295, grad=0.0000)], [Var(v=-7.1295, grad=0.0000)], [Var(v=-7.1295, grad=0.0000)], [Var(v=-7.1295, grad=0.0000)], [Var(v=-7.1295, grad=0.0000)], [Var(v=-7.1295, grad=0.0000)], [Var(v=-7.1295, grad=0.0000)]] Biases: [Var(v=3519122032015742.0000, grad=0.0000)]]"
      ]
     },
     "execution_count": 73,
     "metadata": {},
     "output_type": "execute_result"
    }
   ],
   "source": [
    "from sklearn.model_selection import train_test_split\n",
    "X, y = np.random.rand(200, 1), np.random.rand(200, 1)  # Example dataset\n",
    "x_train, x_temp, y_train, y_temp = train_test_split(X, y, test_size=0.4, random_state=42)\n",
    "x_val, x_test, y_val, y_test = train_test_split(x_temp, y_temp, test_size=0.5, random_state=42)\n",
    "\n",
    "# Insert your code for getting overfitting, underfitting and just right fitting\n",
    "underfitting = [\n",
    "    DenseLayer(1, 1, lambda x: x.relu(), initializer = ConstantInitializer(1.0))\n",
    "]\n",
    "\n",
    "overfitting = [\n",
    "    DenseLayer(1, 10, lambda x: x.relu(), initializer = ConstantInitializer(1.0)),\n",
    "    DenseLayer(10,10, lambda x: x.relu(), initializer = ConstantInitializer(1.0)),\n",
    "    DenseLayer(10, 1, lambda x: x.identity(), initializer = ConstantInitializer(1.0))\n",
    "]\n",
    "wellfitting = [\n",
    "    DenseLayer(1, 10, lambda x: x.relu(), initializer = ConstantInitializer(1.0)),\n",
    "    DenseLayer(10, 1, lambda x: x.identity(), initializer = ConstantInitializer(1.0))\n",
    "]\n",
    "\n",
    "def train_and_evaluate_model(NN, x_train, y_train, x_val, y_val, x_test, y_test, epochs=100, learning_rate=0.01):\n",
    "    train_loss = []\n",
    "    val_loss = []\n",
    "\n",
    "    for e in range(epochs):\n",
    "        # Forward pass\n",
    "        y_pred = forward(x_train, NN)\n",
    "        Loss = squared_loss(y_train, y_pred)\n",
    "\n",
    "        # Backward pass\n",
    "        Loss.backward()\n",
    "\n",
    "        # Update parameters\n",
    "        update_parameters(parameters(NN), learning_rate)\n",
    "        zero_gradients(parameters(NN))\n",
    "\n",
    "        # Record training loss\n",
    "        train_loss.append(Loss.v)\n",
    "\n",
    "        # Validation loss\n",
    "        Loss_val = squared_loss(y_val, forward(x_val, NN))\n",
    "        val_loss.append(Loss_val.v)\n",
    "\n",
    "        if e % 10 == 0:\n",
    "            print(f\"Epoch {e}: Train loss = {Loss.v}, Validation loss = {Loss_val.v}\")\n",
    "\n",
    "    # Plot training and validation losses\n",
    "    plt.figure()\n",
    "    plt.plot(range(epochs), train_loss, label=\"Train loss\")\n",
    "    plt.plot(range(epochs), val_loss, label=\"Validation loss\")\n",
    "    plt.xlabel(\"Epochs\")\n",
    "    plt.ylabel(\"Loss\")\n",
    "    plt.legend()\n",
    "    plt.title(\"Training and Validation Loss\")\n",
    "    plt.show()\n",
    "\n",
    "    # Test set evaluation\n",
    "    y_test_pred = forward(x_test, NN)\n",
    "    Loss_test = squared_loss(y_test, y_test_pred)\n",
    "    print(f\"Test loss: {Loss_test.v}\")\n",
    "\n",
    "    return NN\n",
    "\n",
    "x_train_var = nparray_to_Var(x_train)\n",
    "y_train_var = nparray_to_Var(y_train)\n",
    "x_val_var = nparray_to_Var(x_val)\n",
    "y_val_var = nparray_to_Var(y_val)\n",
    "x_test_var = nparray_to_Var(x_test)\n",
    "y_test_var = nparray_to_Var(y_test)\n",
    "\n",
    "# Train and evaluate each model\n",
    "print(\"Underfitting model:\")\n",
    "train_and_evaluate_model(underfitting, x_train_var, y_train_var, x_val_var, y_val_var, x_test_var, y_test_var)\n",
    "\n",
    "print(\"\\nOverfitting model:\")\n",
    "train_and_evaluate_model(overfitting,  x_train_var, y_train_var, x_val_var, y_val_var, x_test_var, y_test_var)\n",
    "\n",
    "print(\"\\nWell-fitting model:\")\n",
    "train_and_evaluate_model(wellfitting,  x_train_var, y_train_var, x_val_var, y_val_var, x_test_var, y_test_var)"
   ]
  },
  {
   "cell_type": "markdown",
   "metadata": {
    "id": "fYPZP-eTFtIo"
   },
   "source": [
    "# Next steps - classification\n",
    "\n",
    "It is straight forward to extend what we have done to classification. \n",
    "\n",
    "For numerical stability it is better to make softmax and cross-entropy as one function so we write the cross entropy loss as a function of the logits we talked about last week. \n",
    "\n",
    "Next week we will see how to perform classification in PyTorch."
   ]
  },
  {
   "cell_type": "markdown",
   "metadata": {
    "id": "qsVPul3QFtIo"
   },
   "source": [
    "## Exercise m) optional - Implement backpropagation for classification\n",
    "\n",
    "Should be possible with very few lines of code. :-)"
   ]
  },
  {
   "cell_type": "code",
   "execution_count": 75,
   "metadata": {
    "id": "oC8QrI2tFtIp"
   },
   "outputs": [
    {
     "name": "stdout",
     "output_type": "stream",
     "text": [
      "Softmax probabilities: [0.6590011388859679, 0.24243297070471392, 0.09856589040931818]\n",
      "Cross-entropy loss: 0.4170300162778335\n"
     ]
    }
   ],
   "source": [
    "# Just add code.\n",
    "def softmax(logits):\n",
    "    \"\"\"\n",
    "    Compute the softmax probabilities from logits.\n",
    "    :param logits: List of Var objects representing logits.\n",
    "    :return: List of Var objects representing softmax probabilities.\n",
    "    \"\"\"\n",
    "    max_logit = max(logits, key=lambda x: x.v)\n",
    "    exp_values = [(logit - max_logit).exp() for logit in logits]\n",
    "    exp_sum = Var(0.0)\n",
    "    for ev in exp_values:\n",
    "        exp_sum += ev\n",
    "\n",
    "    return [ev / exp_sum for ev in exp_values]\n",
    "def cross_entropy_loss(t, p):\n",
    "    \"\"\"\n",
    "    Compute the cross-entropy loss.\n",
    "    :param t: List of Var objects, representing the target distribution (one-hot encoded).\n",
    "    :param p: List of Var objects, representing the predicted probabilities (softmax output).\n",
    "    :return: The cross-entropy loss as a Var object.\n",
    "    \"\"\"\n",
    "    Loss = Var(0.0)\n",
    "    for i in range(len(t)):\n",
    "        Loss += -t[i] * p[i].log()\n",
    "    return Loss\n",
    "\n",
    "# Example usage\n",
    "# Assuming logits is a list of Var objects representing the logits output from the network\n",
    "logits = [Var(2.0), Var(1.0), Var(0.1)]\n",
    "target = [Var(1.0), Var(0.0), Var(0.0)]  # Example one-hot encoded target for class 0\n",
    "\n",
    "# Compute softmax probabilities\n",
    "probs = softmax(logits)\n",
    "\n",
    "# Compute cross-entropy loss\n",
    "loss = cross_entropy_loss(target, probs)\n",
    "\n",
    "# Print the results\n",
    "print(f\"Softmax probabilities: {[p.v for p in probs]}\")\n",
    "print(f\"Cross-entropy loss: {loss.v}\")\n"
   ]
  },
  {
   "cell_type": "markdown",
   "metadata": {
    "id": "APqhJv3tta1O"
   },
   "source": [
    "## Exercise n) optional - Introduce a NeuralNetwork class\n",
    "\n",
    "The functions we applied on the neural network (parameters, update_parameters and zero_gradients) can more naturally be included as methods in a NeuralNetwork class. Make such a class and modify the code to use it. "
   ]
  },
  {
   "cell_type": "code",
   "execution_count": null,
   "metadata": {
    "id": "Dqfnor1ouMLq"
   },
   "outputs": [],
   "source": [
    "# just add some code"
   ]
  }
 ],
 "metadata": {
  "anaconda-cloud": {},
  "colab": {
   "collapsed_sections": [
    "U4057_ljNvWB",
    "p_8n_SKnIW2F",
    "oLrGJytZFtGm",
    "jpIZPBpNI0pO",
    "_79HOAXrFtHK",
    "mqeyab9qFtGs",
    "-XyXBD37FtHk",
    "SrwSJ2UWFtHu",
    "zTBAmjsAFtIk",
    "qsVPul3QFtIo",
    "APqhJv3tta1O"
   ],
   "name": "2.1-EXE-FNN-AutoDif-Nanograd.ipynb",
   "provenance": []
  },
  "kernelspec": {
   "display_name": "Python 3",
   "language": "python",
   "name": "python3"
  },
  "language_info": {
   "codemirror_mode": {
    "name": "ipython",
    "version": 3
   },
   "file_extension": ".py",
   "mimetype": "text/x-python",
   "name": "python",
   "nbconvert_exporter": "python",
   "pygments_lexer": "ipython3",
   "version": "3.11.4"
  }
 },
 "nbformat": 4,
 "nbformat_minor": 1
}
